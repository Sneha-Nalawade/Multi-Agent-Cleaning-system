{
 "cells": [
  {
   "cell_type": "markdown",
   "metadata": {},
   "source": [
    "Using imgaug to generate 35 augmented images as well as their corresponding bounding box annotations from the \"sample garbage space\" image and its corresponding BB annotations"
   ]
  },
  {
   "cell_type": "code",
   "execution_count": 1,
   "metadata": {},
   "outputs": [
    {
     "name": "stdout",
     "output_type": "stream",
     "text": [
      "Requirement already satisfied: imgaug in c:\\users\\snepo\\appdata\\local\\programs\\python\\python311\\lib\\site-packages (0.4.0)\n",
      "Requirement already satisfied: opencv-python in c:\\users\\snepo\\appdata\\local\\programs\\python\\python311\\lib\\site-packages (4.9.0.80)\n",
      "Requirement already satisfied: six in c:\\users\\snepo\\appdata\\local\\programs\\python\\python311\\lib\\site-packages (from imgaug) (1.16.0)\n",
      "Requirement already satisfied: numpy>=1.15 in c:\\users\\snepo\\appdata\\local\\programs\\python\\python311\\lib\\site-packages (from imgaug) (1.26.1)\n",
      "Requirement already satisfied: scipy in c:\\users\\snepo\\appdata\\local\\programs\\python\\python311\\lib\\site-packages (from imgaug) (1.10.0)\n",
      "Requirement already satisfied: Pillow in c:\\users\\snepo\\appdata\\local\\programs\\python\\python311\\lib\\site-packages (from imgaug) (10.1.0)\n",
      "Requirement already satisfied: matplotlib in c:\\users\\snepo\\appdata\\local\\programs\\python\\python311\\lib\\site-packages (from imgaug) (3.8.2)\n",
      "Requirement already satisfied: scikit-image>=0.14.2 in c:\\users\\snepo\\appdata\\local\\programs\\python\\python311\\lib\\site-packages (from imgaug) (0.24.0)\n",
      "Requirement already satisfied: imageio in c:\\users\\snepo\\appdata\\local\\programs\\python\\python311\\lib\\site-packages (from imgaug) (2.34.1)\n",
      "Requirement already satisfied: Shapely in c:\\users\\snepo\\appdata\\local\\programs\\python\\python311\\lib\\site-packages (from imgaug) (2.0.4)\n",
      "Requirement already satisfied: networkx>=2.8 in c:\\users\\snepo\\appdata\\local\\programs\\python\\python311\\lib\\site-packages (from scikit-image>=0.14.2->imgaug) (3.2.1)\n",
      "Requirement already satisfied: tifffile>=2022.8.12 in c:\\users\\snepo\\appdata\\local\\programs\\python\\python311\\lib\\site-packages (from scikit-image>=0.14.2->imgaug) (2024.7.2)\n",
      "Requirement already satisfied: packaging>=21 in c:\\users\\snepo\\appdata\\local\\programs\\python\\python311\\lib\\site-packages (from scikit-image>=0.14.2->imgaug) (23.1)\n",
      "Requirement already satisfied: lazy-loader>=0.4 in c:\\users\\snepo\\appdata\\local\\programs\\python\\python311\\lib\\site-packages (from scikit-image>=0.14.2->imgaug) (0.4)\n",
      "Requirement already satisfied: contourpy>=1.0.1 in c:\\users\\snepo\\appdata\\local\\programs\\python\\python311\\lib\\site-packages (from matplotlib->imgaug) (1.2.0)\n",
      "Requirement already satisfied: cycler>=0.10 in c:\\users\\snepo\\appdata\\local\\programs\\python\\python311\\lib\\site-packages (from matplotlib->imgaug) (0.12.1)\n",
      "Requirement already satisfied: fonttools>=4.22.0 in c:\\users\\snepo\\appdata\\local\\programs\\python\\python311\\lib\\site-packages (from matplotlib->imgaug) (4.45.1)\n",
      "Requirement already satisfied: kiwisolver>=1.3.1 in c:\\users\\snepo\\appdata\\local\\programs\\python\\python311\\lib\\site-packages (from matplotlib->imgaug) (1.4.5)\n",
      "Requirement already satisfied: pyparsing>=2.3.1 in c:\\users\\snepo\\appdata\\local\\programs\\python\\python311\\lib\\site-packages (from matplotlib->imgaug) (3.1.1)\n",
      "Requirement already satisfied: python-dateutil>=2.7 in c:\\users\\snepo\\appdata\\local\\programs\\python\\python311\\lib\\site-packages (from matplotlib->imgaug) (2.8.2)\n",
      "Note: you may need to restart the kernel to use updated packages.\n"
     ]
    },
    {
     "name": "stderr",
     "output_type": "stream",
     "text": [
      "DEPRECATION: Loading egg at c:\\users\\snepo\\appdata\\local\\programs\\python\\python311\\lib\\site-packages\\hyperopt-0.2.7-py3.11.egg is deprecated. pip 24.3 will enforce this behaviour change. A possible replacement is to use pip for package installation. Discussion can be found at https://github.com/pypa/pip/issues/12330\n",
      "DEPRECATION: Loading egg at c:\\users\\snepo\\appdata\\local\\programs\\python\\python311\\lib\\site-packages\\numpydoc-1.6.0-py3.11.egg is deprecated. pip 24.3 will enforce this behaviour change. A possible replacement is to use pip for package installation. Discussion can be found at https://github.com/pypa/pip/issues/12330\n",
      "DEPRECATION: Loading egg at c:\\users\\snepo\\appdata\\local\\programs\\python\\python311\\lib\\site-packages\\pathlib-1.0.1-py3.11.egg is deprecated. pip 24.3 will enforce this behaviour change. A possible replacement is to use pip for package installation. Discussion can be found at https://github.com/pypa/pip/issues/12330\n",
      "DEPRECATION: Loading egg at c:\\users\\snepo\\appdata\\local\\programs\\python\\python311\\lib\\site-packages\\pykg2vec-0.0.52-py3.11.egg is deprecated. pip 24.3 will enforce this behaviour change. A possible replacement is to use pip for package installation. Discussion can be found at https://github.com/pypa/pip/issues/12330\n",
      "DEPRECATION: Loading egg at c:\\users\\snepo\\appdata\\local\\programs\\python\\python311\\lib\\site-packages\\seaborn-0.13.0-py3.11.egg is deprecated. pip 24.3 will enforce this behaviour change. A possible replacement is to use pip for package installation. Discussion can be found at https://github.com/pypa/pip/issues/12330\n",
      "DEPRECATION: Loading egg at c:\\users\\snepo\\appdata\\local\\programs\\python\\python311\\lib\\site-packages\\sphinx_gallery-0.15.0-py3.11.egg is deprecated. pip 24.3 will enforce this behaviour change. A possible replacement is to use pip for package installation. Discussion can be found at https://github.com/pypa/pip/issues/12330\n"
     ]
    }
   ],
   "source": [
    "pip install imgaug opencv-python"
   ]
  },
  {
   "cell_type": "code",
   "execution_count": 2,
   "metadata": {},
   "outputs": [
    {
     "name": "stdout",
     "output_type": "stream",
     "text": [
      "Generated 35 augmented images and annotations in 'image/output4' directory.\n"
     ]
    }
   ],
   "source": [
    "import imgaug.augmenters as iaa\n",
    "import imgaug as ia\n",
    "import numpy as np\n",
    "import cv2\n",
    "import json\n",
    "import os\n",
    "\n",
    "# Sample annotation data\n",
    "annotation_data = {\n",
    "    \"boxes\": [\n",
    "        {\"label\": \"garbage\", \"x\": 97.73, \"y\": 70.72, \"width\": 20.26, \"height\": 20.24},\n",
    "        {\"label\": \"garbage\", \"x\": 161.57, \"y\": 135.38, \"width\": 18.95, \"height\": 20.56},\n",
    "        {\"label\": \"garbage\", \"x\": 259.07, \"y\": 167.03, \"width\": 23.93, \"height\": 22.87},\n",
    "        {\"label\": \"garbage\", \"x\": 291.81, \"y\": 199.24, \"width\": 22.43, \"height\": 23.28}\n",
    "    ],\n",
    "    \"height\": 240,\n",
    "    \"key\": \"sample garbage space.jpg\",\n",
    "    \"width\": 320\n",
    "}\n",
    "\n",
    "# Load the image\n",
    "image = cv2.imread(annotation_data['key'])\n",
    "height, width = annotation_data['height'], annotation_data['width']\n",
    "\n",
    "# Convert bounding boxes to imgaug format\n",
    "bbs = []\n",
    "for box in annotation_data['boxes']:\n",
    "    x1 = box['x']\n",
    "    y1 = box['y']\n",
    "    x2 = x1 + box['width']\n",
    "    y2 = y1 + box['height']\n",
    "    bbs.append(ia.BoundingBox(x1=x1, y1=y1, x2=x2, y2=y2))\n",
    "\n",
    "bbs = ia.BoundingBoxesOnImage(bbs, shape=image.shape)\n",
    "\n",
    "# Define augmentation sequence\n",
    "seq = iaa.Sequential([\n",
    "    iaa.Fliplr(0.5),  # horizontal flips\n",
    "    iaa.Crop(percent=(0, 0.1)),  # random crops\n",
    "    iaa.LinearContrast((0.75, 1.5)),  # improve or worsen the contrast\n",
    "    iaa.AdditiveGaussianNoise(scale=(0, 0.05*255)),  # add gaussian noise\n",
    "    iaa.Multiply((0.8, 1.2)),  # change brightness\n",
    "    iaa.Affine(\n",
    "        scale={\"x\": (0.8, 1.2), \"y\": (0.8, 1.2)},  # scale images\n",
    "        translate_percent={\"x\": (-0.2, 0.2), \"y\": (-0.2, 0.2)},  # translate images\n",
    "        rotate=(-25, 25),  # rotate images\n",
    "        shear=(-8, 8)  # shear images\n",
    "    )\n",
    "])\n",
    "\n",
    "# Create output directory if it doesn't exist\n",
    "output_dir = \"image/output4\"\n",
    "if not os.path.exists(output_dir):\n",
    "    os.makedirs(output_dir)\n",
    "\n",
    "# Augment images and save with annotations\n",
    "for i in range(35):\n",
    "    # Augment image and bounding boxes\n",
    "    image_aug, bbs_aug = seq(image=image, bounding_boxes=bbs)\n",
    "\n",
    "    # Clip bounding boxes to image size\n",
    "    bbs_aug = bbs_aug.remove_out_of_image().clip_out_of_image()\n",
    "\n",
    "    # Save augmented image\n",
    "    augmented_image_filename = os.path.join(output_dir, f\"augmented_image_{i+1}.jpg\")\n",
    "    cv2.imwrite(augmented_image_filename, image_aug)\n",
    "\n",
    "    # Convert augmented bounding boxes back to the required format\n",
    "    augmented_boxes = []\n",
    "    for bb in bbs_aug.bounding_boxes:\n",
    "        augmented_boxes.append({\n",
    "            \"label\": \"garbage\",\n",
    "            \"x\": bb.x1,\n",
    "            \"y\": bb.y1,\n",
    "            \"width\": bb.width,\n",
    "            \"height\": bb.height\n",
    "        })\n",
    "\n",
    "    # Save augmented annotations\n",
    "    augmented_annotation = {\n",
    "        \"boxes\": augmented_boxes,\n",
    "        \"height\": height,\n",
    "        \"key\": augmented_image_filename,\n",
    "        \"width\": width\n",
    "    }\n",
    "    \n",
    "    annotation_filename = os.path.join(output_dir, f\"augmented_annotation_{i+1}.json\")\n",
    "    with open(annotation_filename, \"w\") as f:\n",
    "        json.dump(augmented_annotation, f)\n",
    "\n",
    "print(f\"Generated 35 augmented images and annotations in '{output_dir}' directory.\")\n"
   ]
  },
  {
   "cell_type": "code",
   "execution_count": null,
   "metadata": {},
   "outputs": [],
   "source": []
  }
 ],
 "metadata": {
  "kernelspec": {
   "display_name": "Python 3",
   "language": "python",
   "name": "python3"
  },
  "language_info": {
   "codemirror_mode": {
    "name": "ipython",
    "version": 3
   },
   "file_extension": ".py",
   "mimetype": "text/x-python",
   "name": "python",
   "nbconvert_exporter": "python",
   "pygments_lexer": "ipython3",
   "version": "3.11.2"
  }
 },
 "nbformat": 4,
 "nbformat_minor": 2
}
