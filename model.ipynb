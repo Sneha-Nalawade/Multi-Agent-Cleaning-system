{
 "cells": [
  {
   "cell_type": "code",
   "execution_count": null,
   "metadata": {},
   "outputs": [],
   "source": [
    "import numpy as np\n",
    "import cv2\n",
    "import xml.etree.ElementTree as ET\n",
    "from keras.models import Model\n",
    "from keras.layers import Input, Conv2D, MaxPooling2D, UpSampling2D, Concatenate\n",
    "from keras.optimizers import Adam\n",
    "from sklearn.model_selection import train_test_split\n",
    "import imgaug.augmenters as iaa\n",
    "from imgaug.augmentables.polys import Polygon, PolygonsOnImage\n",
    "from PIL import Image"
   ]
  },
  {
   "cell_type": "code",
   "execution_count": null,
   "metadata": {},
   "outputs": [],
   "source": [
    "# Load and parse the XML annotation file\n",
    "def parse_annotations(xml_file):\n",
    "    tree = ET.parse(xml_file)\n",
    "    root = tree.getroot()\n",
    "    \n",
    "    annotations = []\n",
    "    for image in root.findall('image'):\n",
    "        filename = image.get('name')\n",
    "        height = int(image.get('height'))\n",
    "        width = int(image.get('width'))\n",
    "        \n",
    "        polygons = []\n",
    "        for poly in image.findall('polygon'):\n",
    "            label = poly.get('label')\n",
    "            points = poly.get('points')\n",
    "            points = [(float(pt.split(',')[0]), float(pt.split(',')[1])) for pt in points.split(';')]\n",
    "            polygons.append((label, points))\n",
    "        \n",
    "        annotations.append({'filename': filename, 'height': height, 'width': width, 'polygons': polygons})\n",
    "    \n",
    "    return annotations"
   ]
  },
  {
   "cell_type": "code",
   "execution_count": null,
   "metadata": {},
   "outputs": [],
   "source": [
    "# Create mask from polygon annotations\n",
    "def create_mask_from_polygons(height, width, polygons):\n",
    "    mask = np.zeros((height, width), dtype=np.uint8)\n",
    "    for label, points in polygons:\n",
    "        points = np.array(points, dtype=np.int32)\n",
    "        cv2.fillPoly(mask, [points], 255)\n",
    "    return mask"
   ]
  },
  {
   "cell_type": "code",
   "execution_count": null,
   "metadata": {},
   "outputs": [],
   "source": [
    "# Define U-Net model\n",
    "def unet(input_size=(128, 128, 1)):\n",
    "    inputs = Input(input_size)\n",
    "    conv1 = Conv2D(64, 3, activation='relu', padding='same')(inputs)\n",
    "    conv1 = Conv2D(64, 3, activation='relu', padding='same')(conv1)\n",
    "    pool1 = MaxPooling2D(pool_size=(2, 2))(conv1)\n",
    "    \n",
    "    conv2 = Conv2D(128, 3, activation='relu', padding='same')(pool1)\n",
    "    conv2 = Conv2D(128, 3, activation='relu', padding='same')(conv2)\n",
    "    pool2 = MaxPooling2D(pool_size=(2, 2))(conv2)\n",
    "    \n",
    "    conv3 = Conv2D(256, 3, activation='relu', padding='same')(pool2)\n",
    "    conv3 = Conv2D(256, 3, activation='relu', padding='same')(conv3)\n",
    "    pool3 = MaxPooling2D(pool_size=(2, 2))(conv3)\n",
    "    \n",
    "    conv4 = Conv2D(512, 3, activation='relu', padding='same')(pool3)\n",
    "    conv4 = Conv2D(512, 3, activation='relu', padding='same')(conv4)\n",
    "    drop4 = MaxPooling2D(pool_size=(2, 2))(conv4)\n",
    "    \n",
    "    conv5 = Conv2D(1024, 3, activation='relu', padding='same')(drop4)\n",
    "    conv5 = Conv2D(1024, 3, activation='relu', padding='same')(conv5)\n",
    "\n",
    "    up6 = UpSampling2D(size=(2, 2))(conv5)\n",
    "    up6 = Concatenate()([up6, conv4])\n",
    "    conv6 = Conv2D(512, 3, activation='relu', padding='same')(up6)\n",
    "    conv6 = Conv2D(512, 3, activation='relu', padding='same')(conv6)\n",
    "    \n",
    "    up7 = UpSampling2D(size=(2, 2))(conv6)\n",
    "    up7 = Concatenate()([up7, conv3])\n",
    "    conv7 = Conv2D(256, 3, activation='relu', padding='same')(up7)\n",
    "    conv7 = Conv2D(256, 3, activation='relu', padding='same')(conv7)\n",
    "    \n",
    "    up8 = UpSampling2D(size=(2, 2))(conv7)\n",
    "    up8 = Concatenate()([up8, conv2])\n",
    "    conv8 = Conv2D(128, 3, activation='relu', padding='same')(up8)\n",
    "    conv8 = Conv2D(128, 3, activation='relu', padding='same')(conv8)\n",
    "    \n",
    "    up9 = UpSampling2D(size=(2, 2))(conv8)\n",
    "    up9 = Concatenate()([up9, conv1])\n",
    "    conv9 = Conv2D(64, 3, activation='relu', padding='same')(up9)\n",
    "    conv9 = Conv2D(64, 3, activation='relu', padding='same')(conv9)\n",
    "\n",
    "    conv10 = Conv2D(1, 1, activation='sigmoid')(conv9)\n",
    "    \n",
    "    model = Model(inputs=[inputs], outputs=[conv10])\n",
    "    \n",
    "    model.compile(optimizer=Adam(lr=1e-4), loss='binary_crossentropy', metrics=['accuracy'])\n",
    "    \n",
    "    return model"
   ]
  },
  {
   "cell_type": "code",
   "execution_count": null,
   "metadata": {},
   "outputs": [],
   "source": [
    "# Load and preprocess data\n",
    "annotations = parse_annotations('path_to_annotations.xml')\n",
    "images = []\n",
    "masks = []\n",
    "\n",
    "for annotation in annotations:\n",
    "    img = cv2.imread(annotation['filename'], cv2.IMREAD_GRAYSCALE)\n",
    "    img = cv2.resize(img, (128, 128))\n",
    "    mask = create_mask_from_polygons(annotation['height'], annotation['width'], annotation['polygons'])\n",
    "    mask = cv2.resize(mask, (128, 128))\n",
    "    images.append(img)\n",
    "    masks.append(mask)\n",
    "\n",
    "images = np.array(images).reshape(-1, 128, 128, 1)\n",
    "masks = np.array(masks).reshape(-1, 128, 128, 1)\n",
    "\n",
    "X_train, X_val, y_train, y_val = train_test_split(images, masks, test_size=0.2, random_state=42)"
   ]
  },
  {
   "cell_type": "code",
   "execution_count": null,
   "metadata": {},
   "outputs": [],
   "source": [
    "# Train the model\n",
    "model = unet()\n",
    "model.fit(X_train, y_train, validation_data=(X_val, y_val), epochs=50, batch_size=8)"
   ]
  },
  {
   "cell_type": "code",
   "execution_count": null,
   "metadata": {},
   "outputs": [],
   "source": [
    "# Save the model\n",
    "model.save('unet_polygon.h5')"
   ]
  },
  {
   "cell_type": "code",
   "execution_count": null,
   "metadata": {},
   "outputs": [],
   "source": [
    "# Image Augmentation\n",
    "def augment_images(images, masks, num_augmentations=35):\n",
    "    seq = iaa.Sequential([\n",
    "        iaa.Fliplr(0.5), # horizontal flips\n",
    "        iaa.Affine(rotate=(-20, 20)), # rotation\n",
    "        iaa.Multiply((0.8, 1.2)), # change brightness\n",
    "        iaa.GaussianBlur(sigma=(0, 3.0)) # blur\n",
    "    ])\n",
    "    \n",
    "    augmented_images = []\n",
    "    augmented_masks = []\n",
    "    \n",
    "    for i in range(len(images)):\n",
    "        for _ in range(num_augmentations):\n",
    "            image_aug, mask_aug = seq(image=images[i], segmentation_maps=masks[i])\n",
    "            augmented_images.append(image_aug)\n",
    "            augmented_masks.append(mask_aug)\n",
    "    \n",
    "    return np.array(augmented_images), np.array(augmented_masks)\n",
    "\n",
    "aug_images, aug_masks = augment_images(images, masks)\n",
    "aug_X_train, aug_X_val, aug_y_train, aug_y_val = train_test_split(aug_images, aug_masks, test_size=0.2, random_state=42)"
   ]
  },
  {
   "cell_type": "code",
   "execution_count": null,
   "metadata": {},
   "outputs": [],
   "source": [
    "# Train on augmented data\n",
    "model.fit(aug_X_train, aug_y_train, validation_data=(aug_X_val, aug_y_val), epochs=50, batch_size=8)\n",
    "model.save('unet_augmented_polygon.h5')"
   ]
  },
  {
   "cell_type": "code",
   "execution_count": null,
   "metadata": {},
   "outputs": [],
   "source": [
    "# Predict on new images\n",
    "def predict_new_image(model, image_path):\n",
    "    img = cv2.imread(image_path, cv2.IMREAD_GRAYSCALE)\n",
    "    img_resized = cv2.resize(img, (128, 128)).reshape(1, 128, 128, 1)\n",
    "    prediction = model.predict(img_resized)\n",
    "    prediction_resized = cv2.resize(prediction[0], (img.shape[1], img.shape[0]))\n",
    "    return prediction_resized\n",
    "\n",
    "new_image_prediction = predict_new_image(model, 'path_to_new_image.jpg')\n",
    "cv2.imwrite('predicted_mask.png', new_image_prediction * 255)"
   ]
  }
 ],
 "metadata": {
  "language_info": {
   "name": "python"
  }
 },
 "nbformat": 4,
 "nbformat_minor": 2
}
