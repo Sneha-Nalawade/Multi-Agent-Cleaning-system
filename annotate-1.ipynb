{
 "cells": [
  {
   "cell_type": "markdown",
   "metadata": {},
   "source": [
    "Using Augmentor python library to generate 35 augmented images from the \"sample garbage space\" image"
   ]
  },
  {
   "cell_type": "code",
   "execution_count": 3,
   "metadata": {},
   "outputs": [
    {
     "name": "stdout",
     "output_type": "stream",
     "text": [
      "Requirement already satisfied: Augmentor in c:\\users\\snepo\\appdata\\local\\programs\\python\\python311\\lib\\site-packages (0.2.12)\n",
      "Requirement already satisfied: Pillow>=5.2.0 in c:\\users\\snepo\\appdata\\local\\programs\\python\\python311\\lib\\site-packages (from Augmentor) (10.1.0)\n",
      "Requirement already satisfied: tqdm>=4.9.0 in c:\\users\\snepo\\appdata\\local\\programs\\python\\python311\\lib\\site-packages (from Augmentor) (4.66.1)\n",
      "Requirement already satisfied: numpy>=1.11.0 in c:\\users\\snepo\\appdata\\local\\programs\\python\\python311\\lib\\site-packages (from Augmentor) (1.26.1)\n",
      "Requirement already satisfied: colorama in c:\\users\\snepo\\appdata\\local\\programs\\python\\python311\\lib\\site-packages (from tqdm>=4.9.0->Augmentor) (0.4.6)\n",
      "Note: you may need to restart the kernel to use updated packages.\n"
     ]
    },
    {
     "name": "stderr",
     "output_type": "stream",
     "text": [
      "DEPRECATION: Loading egg at c:\\users\\snepo\\appdata\\local\\programs\\python\\python311\\lib\\site-packages\\hyperopt-0.2.7-py3.11.egg is deprecated. pip 24.3 will enforce this behaviour change. A possible replacement is to use pip for package installation. Discussion can be found at https://github.com/pypa/pip/issues/12330\n",
      "DEPRECATION: Loading egg at c:\\users\\snepo\\appdata\\local\\programs\\python\\python311\\lib\\site-packages\\numpydoc-1.6.0-py3.11.egg is deprecated. pip 24.3 will enforce this behaviour change. A possible replacement is to use pip for package installation. Discussion can be found at https://github.com/pypa/pip/issues/12330\n",
      "DEPRECATION: Loading egg at c:\\users\\snepo\\appdata\\local\\programs\\python\\python311\\lib\\site-packages\\pathlib-1.0.1-py3.11.egg is deprecated. pip 24.3 will enforce this behaviour change. A possible replacement is to use pip for package installation. Discussion can be found at https://github.com/pypa/pip/issues/12330\n",
      "DEPRECATION: Loading egg at c:\\users\\snepo\\appdata\\local\\programs\\python\\python311\\lib\\site-packages\\pykg2vec-0.0.52-py3.11.egg is deprecated. pip 24.3 will enforce this behaviour change. A possible replacement is to use pip for package installation. Discussion can be found at https://github.com/pypa/pip/issues/12330\n",
      "DEPRECATION: Loading egg at c:\\users\\snepo\\appdata\\local\\programs\\python\\python311\\lib\\site-packages\\seaborn-0.13.0-py3.11.egg is deprecated. pip 24.3 will enforce this behaviour change. A possible replacement is to use pip for package installation. Discussion can be found at https://github.com/pypa/pip/issues/12330\n",
      "DEPRECATION: Loading egg at c:\\users\\snepo\\appdata\\local\\programs\\python\\python311\\lib\\site-packages\\sphinx_gallery-0.15.0-py3.11.egg is deprecated. pip 24.3 will enforce this behaviour change. A possible replacement is to use pip for package installation. Discussion can be found at https://github.com/pypa/pip/issues/12330\n"
     ]
    }
   ],
   "source": [
    "pip install Augmentor"
   ]
  },
  {
   "cell_type": "code",
   "execution_count": 5,
   "metadata": {},
   "outputs": [
    {
     "name": "stdout",
     "output_type": "stream",
     "text": [
      "Initialised with 1 image(s) found.\n",
      "Output directory set to image\\output."
     ]
    },
    {
     "name": "stderr",
     "output_type": "stream",
     "text": [
      "Processing <PIL.Image.Image image mode=RGB size=320x240 at 0x214FBCCA650>: 100%|██████████| 35/35 [00:00<00:00, 322.93 Samples/s]\n"
     ]
    }
   ],
   "source": [
    "import Augmentor\n",
    "\n",
    "# Define a pipeline for augmentation\n",
    "p = Augmentor.Pipeline(\"image\")\n",
    "\n",
    "# Define augmentation operations\n",
    "p.rotate(probability=0.7, max_left_rotation=25, max_right_rotation=25)\n",
    "p.flip_left_right(probability=0.5)\n",
    "p.flip_top_bottom(probability=0.5)\n",
    "p.zoom_random(probability=0.5, percentage_area=0.8)\n",
    "p.random_contrast(probability=0.5, min_factor=0.7, max_factor=1.3)\n",
    "p.random_brightness(probability=0.5, min_factor=0.7, max_factor=1.3)\n",
    "p.random_color(probability=0.5, min_factor=0.7, max_factor=1.3)\n",
    "\n",
    "# Specify the number of images to generate\n",
    "p.sample(35)\n"
   ]
  }
 ],
 "metadata": {
  "kernelspec": {
   "display_name": "Python 3",
   "language": "python",
   "name": "python3"
  },
  "language_info": {
   "codemirror_mode": {
    "name": "ipython",
    "version": 3
   },
   "file_extension": ".py",
   "mimetype": "text/x-python",
   "name": "python",
   "nbconvert_exporter": "python",
   "pygments_lexer": "ipython3",
   "version": "3.11.2"
  }
 },
 "nbformat": 4,
 "nbformat_minor": 2
}
