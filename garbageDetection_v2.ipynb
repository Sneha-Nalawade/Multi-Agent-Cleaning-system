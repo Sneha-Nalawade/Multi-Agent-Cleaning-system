{
 "cells": [
  {
   "cell_type": "code",
   "execution_count": 1,
   "metadata": {},
   "outputs": [
    {
     "name": "stdout",
     "output_type": "stream",
     "text": [
      "Collecting ultralytics\n",
      "  Downloading ultralytics-8.2.62-py3-none-any.whl.metadata (41 kB)\n",
      "     ---------------------------------------- 0.0/41.2 kB ? eta -:--:--\n",
      "     ----------------------------- ---------- 30.7/41.2 kB ? eta -:--:--\n",
      "     -------------------------------------- 41.2/41.2 kB 659.1 kB/s eta 0:00:00\n",
      "Requirement already satisfied: numpy<2.0.0,>=1.23.0 in c:\\users\\snepo\\appdata\\local\\programs\\python\\python311\\lib\\site-packages (from ultralytics) (1.26.1)\n",
      "Requirement already satisfied: matplotlib>=3.3.0 in c:\\users\\snepo\\appdata\\local\\programs\\python\\python311\\lib\\site-packages (from ultralytics) (3.8.2)\n",
      "Requirement already satisfied: opencv-python>=4.6.0 in c:\\users\\snepo\\appdata\\local\\programs\\python\\python311\\lib\\site-packages (from ultralytics) (4.9.0.80)\n",
      "Requirement already satisfied: pillow>=7.1.2 in c:\\users\\snepo\\appdata\\local\\programs\\python\\python311\\lib\\site-packages (from ultralytics) (10.1.0)\n",
      "Requirement already satisfied: pyyaml>=5.3.1 in c:\\users\\snepo\\appdata\\local\\programs\\python\\python311\\lib\\site-packages (from ultralytics) (6.0)\n",
      "Requirement already satisfied: requests>=2.23.0 in c:\\users\\snepo\\appdata\\local\\programs\\python\\python311\\lib\\site-packages (from ultralytics) (2.31.0)\n",
      "Requirement already satisfied: scipy>=1.4.1 in c:\\users\\snepo\\appdata\\local\\programs\\python\\python311\\lib\\site-packages (from ultralytics) (1.10.0)\n",
      "Requirement already satisfied: torch>=1.8.0 in c:\\users\\snepo\\appdata\\local\\programs\\python\\python311\\lib\\site-packages (from ultralytics) (2.2.1)\n",
      "Requirement already satisfied: torchvision>=0.9.0 in c:\\users\\snepo\\appdata\\local\\programs\\python\\python311\\lib\\site-packages (from ultralytics) (0.17.1)\n",
      "Requirement already satisfied: tqdm>=4.64.0 in c:\\users\\snepo\\appdata\\local\\programs\\python\\python311\\lib\\site-packages (from ultralytics) (4.66.1)\n",
      "Requirement already satisfied: psutil in c:\\users\\snepo\\appdata\\local\\programs\\python\\python311\\lib\\site-packages (from ultralytics) (5.9.5)\n",
      "Collecting py-cpuinfo (from ultralytics)\n",
      "  Downloading py_cpuinfo-9.0.0-py3-none-any.whl.metadata (794 bytes)\n",
      "Requirement already satisfied: pandas>=1.1.4 in c:\\users\\snepo\\appdata\\local\\programs\\python\\python311\\lib\\site-packages (from ultralytics) (2.1.2)\n",
      "Requirement already satisfied: seaborn>=0.11.0 in c:\\users\\snepo\\appdata\\local\\programs\\python\\python311\\lib\\site-packages\\seaborn-0.13.0-py3.11.egg (from ultralytics) (0.13.0)\n",
      "Collecting ultralytics-thop>=2.0.0 (from ultralytics)\n",
      "  Downloading ultralytics_thop-2.0.0-py3-none-any.whl.metadata (8.5 kB)\n",
      "Requirement already satisfied: contourpy>=1.0.1 in c:\\users\\snepo\\appdata\\local\\programs\\python\\python311\\lib\\site-packages (from matplotlib>=3.3.0->ultralytics) (1.2.0)\n",
      "Requirement already satisfied: cycler>=0.10 in c:\\users\\snepo\\appdata\\local\\programs\\python\\python311\\lib\\site-packages (from matplotlib>=3.3.0->ultralytics) (0.12.1)\n",
      "Requirement already satisfied: fonttools>=4.22.0 in c:\\users\\snepo\\appdata\\local\\programs\\python\\python311\\lib\\site-packages (from matplotlib>=3.3.0->ultralytics) (4.45.1)\n",
      "Requirement already satisfied: kiwisolver>=1.3.1 in c:\\users\\snepo\\appdata\\local\\programs\\python\\python311\\lib\\site-packages (from matplotlib>=3.3.0->ultralytics) (1.4.5)\n",
      "Requirement already satisfied: packaging>=20.0 in c:\\users\\snepo\\appdata\\local\\programs\\python\\python311\\lib\\site-packages (from matplotlib>=3.3.0->ultralytics) (23.1)\n",
      "Requirement already satisfied: pyparsing>=2.3.1 in c:\\users\\snepo\\appdata\\local\\programs\\python\\python311\\lib\\site-packages (from matplotlib>=3.3.0->ultralytics) (3.1.1)\n",
      "Requirement already satisfied: python-dateutil>=2.7 in c:\\users\\snepo\\appdata\\local\\programs\\python\\python311\\lib\\site-packages (from matplotlib>=3.3.0->ultralytics) (2.8.2)\n",
      "Requirement already satisfied: pytz>=2020.1 in c:\\users\\snepo\\appdata\\local\\programs\\python\\python311\\lib\\site-packages (from pandas>=1.1.4->ultralytics) (2023.3.post1)\n",
      "Requirement already satisfied: tzdata>=2022.1 in c:\\users\\snepo\\appdata\\local\\programs\\python\\python311\\lib\\site-packages (from pandas>=1.1.4->ultralytics) (2023.3)\n",
      "Requirement already satisfied: charset-normalizer<4,>=2 in c:\\users\\snepo\\appdata\\local\\programs\\python\\python311\\lib\\site-packages (from requests>=2.23.0->ultralytics) (3.3.2)\n",
      "Requirement already satisfied: idna<4,>=2.5 in c:\\users\\snepo\\appdata\\local\\programs\\python\\python311\\lib\\site-packages (from requests>=2.23.0->ultralytics) (3.4)\n",
      "Requirement already satisfied: urllib3<3,>=1.21.1 in c:\\users\\snepo\\appdata\\local\\programs\\python\\python311\\lib\\site-packages (from requests>=2.23.0->ultralytics) (1.26.18)\n",
      "Requirement already satisfied: certifi>=2017.4.17 in c:\\users\\snepo\\appdata\\local\\programs\\python\\python311\\lib\\site-packages (from requests>=2.23.0->ultralytics) (2023.7.22)\n",
      "Requirement already satisfied: filelock in c:\\users\\snepo\\appdata\\roaming\\python\\python311\\site-packages (from torch>=1.8.0->ultralytics) (3.13.1)\n",
      "Requirement already satisfied: typing-extensions>=4.8.0 in c:\\users\\snepo\\appdata\\local\\programs\\python\\python311\\lib\\site-packages (from torch>=1.8.0->ultralytics) (4.8.0)\n",
      "Requirement already satisfied: sympy in c:\\users\\snepo\\appdata\\local\\programs\\python\\python311\\lib\\site-packages (from torch>=1.8.0->ultralytics) (1.12)\n",
      "Requirement already satisfied: networkx in c:\\users\\snepo\\appdata\\local\\programs\\python\\python311\\lib\\site-packages (from torch>=1.8.0->ultralytics) (3.2.1)\n",
      "Requirement already satisfied: jinja2 in c:\\users\\snepo\\appdata\\local\\programs\\python\\python311\\lib\\site-packages (from torch>=1.8.0->ultralytics) (3.1.2)\n",
      "Requirement already satisfied: fsspec in c:\\users\\snepo\\appdata\\roaming\\python\\python311\\site-packages (from torch>=1.8.0->ultralytics) (2023.10.0)\n",
      "Requirement already satisfied: colorama in c:\\users\\snepo\\appdata\\local\\programs\\python\\python311\\lib\\site-packages (from tqdm>=4.64.0->ultralytics) (0.4.6)\n",
      "Requirement already satisfied: six>=1.5 in c:\\users\\snepo\\appdata\\local\\programs\\python\\python311\\lib\\site-packages (from python-dateutil>=2.7->matplotlib>=3.3.0->ultralytics) (1.16.0)\n",
      "Requirement already satisfied: MarkupSafe>=2.0 in c:\\users\\snepo\\appdata\\local\\programs\\python\\python311\\lib\\site-packages (from jinja2->torch>=1.8.0->ultralytics) (2.1.2)\n",
      "Requirement already satisfied: mpmath>=0.19 in c:\\users\\snepo\\appdata\\local\\programs\\python\\python311\\lib\\site-packages (from sympy->torch>=1.8.0->ultralytics) (1.3.0)\n",
      "Downloading ultralytics-8.2.62-py3-none-any.whl (825 kB)\n",
      "   ---------------------------------------- 0.0/825.2 kB ? eta -:--:--\n",
      "   -- ------------------------------------- 61.4/825.2 kB 1.7 MB/s eta 0:00:01\n",
      "   -------- ------------------------------- 174.1/825.2 kB 1.8 MB/s eta 0:00:01\n",
      "   --------- ------------------------------ 194.6/825.2 kB 2.0 MB/s eta 0:00:01\n",
      "   ----------------- ---------------------- 358.4/825.2 kB 2.0 MB/s eta 0:00:01\n",
      "   ------------------------ --------------- 501.8/825.2 kB 2.3 MB/s eta 0:00:01\n",
      "   ------------------------------ --------- 634.9/825.2 kB 2.4 MB/s eta 0:00:01\n",
      "   ------------------------------------- -- 778.2/825.2 kB 2.6 MB/s eta 0:00:01\n",
      "   ---------------------------------------- 825.2/825.2 kB 2.5 MB/s eta 0:00:00\n",
      "Downloading ultralytics_thop-2.0.0-py3-none-any.whl (25 kB)\n",
      "Downloading py_cpuinfo-9.0.0-py3-none-any.whl (22 kB)\n",
      "Installing collected packages: py-cpuinfo, ultralytics-thop, ultralytics\n",
      "Successfully installed py-cpuinfo-9.0.0 ultralytics-8.2.62 ultralytics-thop-2.0.0\n",
      "Note: you may need to restart the kernel to use updated packages.\n"
     ]
    },
    {
     "name": "stderr",
     "output_type": "stream",
     "text": [
      "DEPRECATION: Loading egg at c:\\users\\snepo\\appdata\\local\\programs\\python\\python311\\lib\\site-packages\\hyperopt-0.2.7-py3.11.egg is deprecated. pip 24.3 will enforce this behaviour change. A possible replacement is to use pip for package installation. Discussion can be found at https://github.com/pypa/pip/issues/12330\n",
      "DEPRECATION: Loading egg at c:\\users\\snepo\\appdata\\local\\programs\\python\\python311\\lib\\site-packages\\numpydoc-1.6.0-py3.11.egg is deprecated. pip 24.3 will enforce this behaviour change. A possible replacement is to use pip for package installation. Discussion can be found at https://github.com/pypa/pip/issues/12330\n",
      "DEPRECATION: Loading egg at c:\\users\\snepo\\appdata\\local\\programs\\python\\python311\\lib\\site-packages\\pathlib-1.0.1-py3.11.egg is deprecated. pip 24.3 will enforce this behaviour change. A possible replacement is to use pip for package installation. Discussion can be found at https://github.com/pypa/pip/issues/12330\n",
      "DEPRECATION: Loading egg at c:\\users\\snepo\\appdata\\local\\programs\\python\\python311\\lib\\site-packages\\pykg2vec-0.0.52-py3.11.egg is deprecated. pip 24.3 will enforce this behaviour change. A possible replacement is to use pip for package installation. Discussion can be found at https://github.com/pypa/pip/issues/12330\n",
      "DEPRECATION: Loading egg at c:\\users\\snepo\\appdata\\local\\programs\\python\\python311\\lib\\site-packages\\seaborn-0.13.0-py3.11.egg is deprecated. pip 24.3 will enforce this behaviour change. A possible replacement is to use pip for package installation. Discussion can be found at https://github.com/pypa/pip/issues/12330\n",
      "DEPRECATION: Loading egg at c:\\users\\snepo\\appdata\\local\\programs\\python\\python311\\lib\\site-packages\\sphinx_gallery-0.15.0-py3.11.egg is deprecated. pip 24.3 will enforce this behaviour change. A possible replacement is to use pip for package installation. Discussion can be found at https://github.com/pypa/pip/issues/12330\n",
      "\n",
      "[notice] A new release of pip is available: 24.1.1 -> 24.1.2\n",
      "[notice] To update, run: python.exe -m pip install --upgrade pip\n"
     ]
    },
    {
     "name": "stdout",
     "output_type": "stream",
     "text": [
      "Collecting roboflow\n",
      "  Downloading roboflow-1.1.36-py3-none-any.whl.metadata (9.4 kB)\n",
      "Requirement already satisfied: certifi in c:\\users\\snepo\\appdata\\local\\programs\\python\\python311\\lib\\site-packages (from roboflow) (2023.7.22)\n",
      "Collecting chardet==4.0.0 (from roboflow)\n",
      "  Downloading chardet-4.0.0-py2.py3-none-any.whl.metadata (3.5 kB)\n",
      "Collecting idna==3.7 (from roboflow)\n",
      "  Using cached idna-3.7-py3-none-any.whl.metadata (9.9 kB)\n",
      "Requirement already satisfied: cycler in c:\\users\\snepo\\appdata\\local\\programs\\python\\python311\\lib\\site-packages (from roboflow) (0.12.1)\n",
      "Requirement already satisfied: kiwisolver>=1.3.1 in c:\\users\\snepo\\appdata\\local\\programs\\python\\python311\\lib\\site-packages (from roboflow) (1.4.5)\n",
      "Requirement already satisfied: matplotlib in c:\\users\\snepo\\appdata\\local\\programs\\python\\python311\\lib\\site-packages (from roboflow) (3.8.2)\n",
      "Requirement already satisfied: numpy>=1.18.5 in c:\\users\\snepo\\appdata\\local\\programs\\python\\python311\\lib\\site-packages (from roboflow) (1.26.1)\n",
      "Collecting opencv-python-headless==4.10.0.84 (from roboflow)\n",
      "  Downloading opencv_python_headless-4.10.0.84-cp37-abi3-win_amd64.whl.metadata (20 kB)\n",
      "Requirement already satisfied: Pillow>=7.1.2 in c:\\users\\snepo\\appdata\\local\\programs\\python\\python311\\lib\\site-packages (from roboflow) (10.1.0)\n",
      "Requirement already satisfied: python-dateutil in c:\\users\\snepo\\appdata\\local\\programs\\python\\python311\\lib\\site-packages (from roboflow) (2.8.2)\n",
      "Collecting python-dotenv (from roboflow)\n",
      "  Downloading python_dotenv-1.0.1-py3-none-any.whl.metadata (23 kB)\n",
      "Requirement already satisfied: requests in c:\\users\\snepo\\appdata\\local\\programs\\python\\python311\\lib\\site-packages (from roboflow) (2.31.0)\n",
      "Requirement already satisfied: six in c:\\users\\snepo\\appdata\\local\\programs\\python\\python311\\lib\\site-packages (from roboflow) (1.16.0)\n",
      "Requirement already satisfied: urllib3>=1.26.6 in c:\\users\\snepo\\appdata\\local\\programs\\python\\python311\\lib\\site-packages (from roboflow) (1.26.18)\n",
      "Requirement already satisfied: tqdm>=4.41.0 in c:\\users\\snepo\\appdata\\local\\programs\\python\\python311\\lib\\site-packages (from roboflow) (4.66.1)\n",
      "Requirement already satisfied: PyYAML>=5.3.1 in c:\\users\\snepo\\appdata\\local\\programs\\python\\python311\\lib\\site-packages (from roboflow) (6.0)\n",
      "Collecting requests-toolbelt (from roboflow)\n",
      "  Downloading requests_toolbelt-1.0.0-py2.py3-none-any.whl.metadata (14 kB)\n",
      "Collecting filetype (from roboflow)\n",
      "  Downloading filetype-1.2.0-py2.py3-none-any.whl.metadata (6.5 kB)\n",
      "Requirement already satisfied: colorama in c:\\users\\snepo\\appdata\\local\\programs\\python\\python311\\lib\\site-packages (from tqdm>=4.41.0->roboflow) (0.4.6)\n",
      "Requirement already satisfied: contourpy>=1.0.1 in c:\\users\\snepo\\appdata\\local\\programs\\python\\python311\\lib\\site-packages (from matplotlib->roboflow) (1.2.0)\n",
      "Requirement already satisfied: fonttools>=4.22.0 in c:\\users\\snepo\\appdata\\local\\programs\\python\\python311\\lib\\site-packages (from matplotlib->roboflow) (4.45.1)\n",
      "Requirement already satisfied: packaging>=20.0 in c:\\users\\snepo\\appdata\\local\\programs\\python\\python311\\lib\\site-packages (from matplotlib->roboflow) (23.1)\n",
      "Requirement already satisfied: pyparsing>=2.3.1 in c:\\users\\snepo\\appdata\\local\\programs\\python\\python311\\lib\\site-packages (from matplotlib->roboflow) (3.1.1)\n",
      "Requirement already satisfied: charset-normalizer<4,>=2 in c:\\users\\snepo\\appdata\\local\\programs\\python\\python311\\lib\\site-packages (from requests->roboflow) (3.3.2)\n",
      "Downloading roboflow-1.1.36-py3-none-any.whl (76 kB)\n",
      "   ---------------------------------------- 0.0/76.7 kB ? eta -:--:--\n",
      "   --------------------- ------------------ 41.0/76.7 kB 1.9 MB/s eta 0:00:01\n",
      "   --------------------- ------------------ 41.0/76.7 kB 1.9 MB/s eta 0:00:01\n",
      "   ---------------------------------------- 76.7/76.7 kB 604.0 kB/s eta 0:00:00\n",
      "Downloading chardet-4.0.0-py2.py3-none-any.whl (178 kB)\n",
      "   ---------------------------------------- 0.0/178.7 kB ? eta -:--:--\n",
      "   ------ --------------------------------- 30.7/178.7 kB 1.3 MB/s eta 0:00:01\n",
      "   ------------- ------------------------- 61.4/178.7 kB 812.7 kB/s eta 0:00:01\n",
      "   -------------------- ------------------ 92.2/178.7 kB 744.7 kB/s eta 0:00:01\n",
      "   ------------------------------ ------- 143.4/178.7 kB 847.9 kB/s eta 0:00:01\n",
      "   -------------------------------------- 178.7/178.7 kB 769.4 kB/s eta 0:00:00\n",
      "Using cached idna-3.7-py3-none-any.whl (66 kB)\n",
      "Downloading opencv_python_headless-4.10.0.84-cp37-abi3-win_amd64.whl (38.8 MB)\n",
      "   ---------------------------------------- 0.0/38.8 MB ? eta -:--:--\n",
      "   ---------------------------------------- 0.0/38.8 MB 2.0 MB/s eta 0:00:19\n",
      "   ---------------------------------------- 0.1/38.8 MB 787.7 kB/s eta 0:00:50\n",
      "   ---------------------------------------- 0.1/38.8 MB 901.1 kB/s eta 0:00:43\n",
      "   ---------------------------------------- 0.2/38.8 MB 876.1 kB/s eta 0:00:45\n",
      "   ---------------------------------------- 0.2/38.8 MB 888.4 kB/s eta 0:00:44\n",
      "   ---------------------------------------- 0.3/38.8 MB 911.0 kB/s eta 0:00:43\n",
      "   ---------------------------------------- 0.3/38.8 MB 984.6 kB/s eta 0:00:40\n",
      "   ---------------------------------------- 0.4/38.8 MB 998.3 kB/s eta 0:00:39\n",
      "   ---------------------------------------- 0.4/38.8 MB 1.0 MB/s eta 0:00:38\n",
      "   ---------------------------------------- 0.5/38.8 MB 1.0 MB/s eta 0:00:37\n",
      "    --------------------------------------- 0.6/38.8 MB 1.1 MB/s eta 0:00:37\n",
      "    --------------------------------------- 0.6/38.8 MB 1.0 MB/s eta 0:00:37\n",
      "    --------------------------------------- 0.6/38.8 MB 1.1 MB/s eta 0:00:35\n",
      "    --------------------------------------- 0.7/38.8 MB 1.1 MB/s eta 0:00:34\n",
      "    --------------------------------------- 0.8/38.8 MB 1.1 MB/s eta 0:00:34\n",
      "    --------------------------------------- 0.9/38.8 MB 1.2 MB/s eta 0:00:33\n",
      "    --------------------------------------- 0.9/38.8 MB 1.2 MB/s eta 0:00:33\n",
      "   - -------------------------------------- 1.0/38.8 MB 1.2 MB/s eta 0:00:32\n",
      "   - -------------------------------------- 1.1/38.8 MB 1.2 MB/s eta 0:00:32\n",
      "   - -------------------------------------- 1.1/38.8 MB 1.2 MB/s eta 0:00:31\n",
      "   - -------------------------------------- 1.2/38.8 MB 1.2 MB/s eta 0:00:31\n",
      "   - -------------------------------------- 1.3/38.8 MB 1.2 MB/s eta 0:00:31\n",
      "   - -------------------------------------- 1.4/38.8 MB 1.3 MB/s eta 0:00:30\n",
      "   - -------------------------------------- 1.4/38.8 MB 1.3 MB/s eta 0:00:29\n",
      "   - -------------------------------------- 1.5/38.8 MB 1.3 MB/s eta 0:00:29\n",
      "   - -------------------------------------- 1.6/38.8 MB 1.4 MB/s eta 0:00:28\n",
      "   - -------------------------------------- 1.7/38.8 MB 1.4 MB/s eta 0:00:28\n",
      "   - -------------------------------------- 1.8/38.8 MB 1.4 MB/s eta 0:00:28\n",
      "   - -------------------------------------- 1.9/38.8 MB 1.4 MB/s eta 0:00:27\n",
      "   -- ------------------------------------- 1.9/38.8 MB 1.4 MB/s eta 0:00:27\n",
      "   -- ------------------------------------- 2.0/38.8 MB 1.4 MB/s eta 0:00:26\n",
      "   -- ------------------------------------- 2.1/38.8 MB 1.4 MB/s eta 0:00:27\n",
      "   -- ------------------------------------- 2.2/38.8 MB 1.4 MB/s eta 0:00:27\n",
      "   -- ------------------------------------- 2.2/38.8 MB 1.4 MB/s eta 0:00:27\n",
      "   -- ------------------------------------- 2.2/38.8 MB 1.4 MB/s eta 0:00:27\n",
      "   -- ------------------------------------- 2.3/38.8 MB 1.4 MB/s eta 0:00:27\n",
      "   -- ------------------------------------- 2.4/38.8 MB 1.4 MB/s eta 0:00:26\n",
      "   -- ------------------------------------- 2.5/38.8 MB 1.4 MB/s eta 0:00:26\n",
      "   -- ------------------------------------- 2.6/38.8 MB 1.4 MB/s eta 0:00:26\n",
      "   -- ------------------------------------- 2.7/38.8 MB 1.4 MB/s eta 0:00:26\n",
      "   -- ------------------------------------- 2.7/38.8 MB 1.4 MB/s eta 0:00:26\n",
      "   -- ------------------------------------- 2.8/38.8 MB 1.4 MB/s eta 0:00:26\n",
      "   -- ------------------------------------- 2.8/38.8 MB 1.4 MB/s eta 0:00:26\n",
      "   -- ------------------------------------- 2.9/38.8 MB 1.4 MB/s eta 0:00:26\n",
      "   --- ------------------------------------ 2.9/38.8 MB 1.4 MB/s eta 0:00:26\n",
      "   --- ------------------------------------ 3.1/38.8 MB 1.4 MB/s eta 0:00:25\n",
      "   --- ------------------------------------ 3.2/38.8 MB 1.4 MB/s eta 0:00:25\n",
      "   --- ------------------------------------ 3.2/38.8 MB 1.4 MB/s eta 0:00:25\n",
      "   --- ------------------------------------ 3.4/38.8 MB 1.5 MB/s eta 0:00:25\n",
      "   --- ------------------------------------ 3.4/38.8 MB 1.5 MB/s eta 0:00:24\n",
      "   --- ------------------------------------ 3.6/38.8 MB 1.5 MB/s eta 0:00:24\n",
      "   --- ------------------------------------ 3.6/38.8 MB 1.5 MB/s eta 0:00:24\n",
      "   --- ------------------------------------ 3.7/38.8 MB 1.5 MB/s eta 0:00:24\n",
      "   --- ------------------------------------ 3.7/38.8 MB 1.5 MB/s eta 0:00:23\n",
      "   --- ------------------------------------ 3.9/38.8 MB 1.5 MB/s eta 0:00:23\n",
      "   ---- ----------------------------------- 4.0/38.8 MB 1.5 MB/s eta 0:00:23\n",
      "   ---- ----------------------------------- 4.0/38.8 MB 1.6 MB/s eta 0:00:23\n",
      "   ---- ----------------------------------- 4.0/38.8 MB 1.5 MB/s eta 0:00:23\n",
      "   ---- ----------------------------------- 4.1/38.8 MB 1.5 MB/s eta 0:00:23\n",
      "   ---- ----------------------------------- 4.2/38.8 MB 1.5 MB/s eta 0:00:23\n",
      "   ---- ----------------------------------- 4.2/38.8 MB 1.5 MB/s eta 0:00:23\n",
      "   ---- ----------------------------------- 4.3/38.8 MB 1.5 MB/s eta 0:00:23\n",
      "   ---- ----------------------------------- 4.3/38.8 MB 1.5 MB/s eta 0:00:23\n",
      "   ---- ----------------------------------- 4.4/38.8 MB 1.5 MB/s eta 0:00:23\n",
      "   ---- ----------------------------------- 4.5/38.8 MB 1.5 MB/s eta 0:00:23\n",
      "   ---- ----------------------------------- 4.5/38.8 MB 1.5 MB/s eta 0:00:23\n",
      "   ---- ----------------------------------- 4.6/38.8 MB 1.5 MB/s eta 0:00:23\n",
      "   ---- ----------------------------------- 4.6/38.8 MB 1.5 MB/s eta 0:00:23\n",
      "   ---- ----------------------------------- 4.6/38.8 MB 1.5 MB/s eta 0:00:23\n",
      "   ---- ----------------------------------- 4.7/38.8 MB 1.5 MB/s eta 0:00:23\n",
      "   ---- ----------------------------------- 4.8/38.8 MB 1.5 MB/s eta 0:00:24\n",
      "   ---- ----------------------------------- 4.8/38.8 MB 1.5 MB/s eta 0:00:24\n",
      "   ----- ---------------------------------- 4.9/38.8 MB 1.5 MB/s eta 0:00:24\n",
      "   ----- ---------------------------------- 4.9/38.8 MB 1.5 MB/s eta 0:00:24\n",
      "   ----- ---------------------------------- 5.0/38.8 MB 1.5 MB/s eta 0:00:24\n",
      "   ----- ---------------------------------- 5.1/38.8 MB 1.5 MB/s eta 0:00:24\n",
      "   ----- ---------------------------------- 5.1/38.8 MB 1.5 MB/s eta 0:00:24\n",
      "   ----- ---------------------------------- 5.2/38.8 MB 1.5 MB/s eta 0:00:23\n",
      "   ----- ---------------------------------- 5.3/38.8 MB 1.5 MB/s eta 0:00:23\n",
      "   ----- ---------------------------------- 5.4/38.8 MB 1.5 MB/s eta 0:00:23\n",
      "   ----- ---------------------------------- 5.5/38.8 MB 1.5 MB/s eta 0:00:23\n",
      "   ----- ---------------------------------- 5.7/38.8 MB 1.5 MB/s eta 0:00:22\n",
      "   ------ --------------------------------- 5.8/38.8 MB 1.5 MB/s eta 0:00:22\n",
      "   ------ --------------------------------- 6.0/38.8 MB 1.6 MB/s eta 0:00:21\n",
      "   ------ --------------------------------- 6.2/38.8 MB 1.6 MB/s eta 0:00:21\n",
      "   ------ --------------------------------- 6.3/38.8 MB 1.6 MB/s eta 0:00:21\n",
      "   ------ --------------------------------- 6.5/38.8 MB 1.6 MB/s eta 0:00:20\n",
      "   ------ --------------------------------- 6.7/38.8 MB 1.7 MB/s eta 0:00:20\n",
      "   ------- -------------------------------- 6.8/38.8 MB 1.7 MB/s eta 0:00:20\n",
      "   ------- -------------------------------- 7.0/38.8 MB 1.7 MB/s eta 0:00:19\n",
      "   ------- -------------------------------- 7.1/38.8 MB 1.7 MB/s eta 0:00:19\n",
      "   ------- -------------------------------- 7.3/38.8 MB 1.7 MB/s eta 0:00:19\n",
      "   ------- -------------------------------- 7.5/38.8 MB 1.8 MB/s eta 0:00:18\n",
      "   ------- -------------------------------- 7.7/38.8 MB 1.8 MB/s eta 0:00:18\n",
      "   -------- ------------------------------- 7.9/38.8 MB 1.8 MB/s eta 0:00:18\n",
      "   -------- ------------------------------- 8.0/38.8 MB 1.8 MB/s eta 0:00:17\n",
      "   -------- ------------------------------- 8.2/38.8 MB 1.8 MB/s eta 0:00:17\n",
      "   -------- ------------------------------- 8.4/38.8 MB 1.9 MB/s eta 0:00:17\n",
      "   -------- ------------------------------- 8.5/38.8 MB 1.9 MB/s eta 0:00:17\n",
      "   -------- ------------------------------- 8.7/38.8 MB 1.9 MB/s eta 0:00:16\n",
      "   --------- ------------------------------ 8.9/38.8 MB 1.9 MB/s eta 0:00:16\n",
      "   --------- ------------------------------ 9.0/38.8 MB 1.9 MB/s eta 0:00:16\n",
      "   --------- ------------------------------ 9.2/38.8 MB 1.9 MB/s eta 0:00:16\n",
      "   --------- ------------------------------ 9.3/38.8 MB 1.9 MB/s eta 0:00:16\n",
      "   --------- ------------------------------ 9.4/38.8 MB 1.9 MB/s eta 0:00:16\n",
      "   --------- ------------------------------ 9.5/38.8 MB 1.9 MB/s eta 0:00:16\n",
      "   --------- ------------------------------ 9.6/38.8 MB 1.9 MB/s eta 0:00:16\n",
      "   --------- ------------------------------ 9.7/38.8 MB 1.9 MB/s eta 0:00:15\n",
      "   ---------- ----------------------------- 9.9/38.8 MB 2.0 MB/s eta 0:00:15\n",
      "   ---------- ----------------------------- 10.0/38.8 MB 2.0 MB/s eta 0:00:15\n",
      "   ---------- ----------------------------- 10.1/38.8 MB 2.0 MB/s eta 0:00:15\n",
      "   ---------- ----------------------------- 10.3/38.8 MB 2.0 MB/s eta 0:00:15\n",
      "   ---------- ----------------------------- 10.3/38.8 MB 2.0 MB/s eta 0:00:15\n",
      "   ---------- ----------------------------- 10.4/38.8 MB 2.0 MB/s eta 0:00:15\n",
      "   ---------- ----------------------------- 10.5/38.8 MB 2.0 MB/s eta 0:00:14\n",
      "   ----------- ---------------------------- 10.7/38.8 MB 2.1 MB/s eta 0:00:14\n",
      "   ----------- ---------------------------- 10.7/38.8 MB 2.1 MB/s eta 0:00:14\n",
      "   ----------- ---------------------------- 10.9/38.8 MB 2.1 MB/s eta 0:00:14\n",
      "   ----------- ---------------------------- 11.0/38.8 MB 2.1 MB/s eta 0:00:14\n",
      "   ----------- ---------------------------- 11.2/38.8 MB 2.1 MB/s eta 0:00:13\n",
      "   ----------- ---------------------------- 11.3/38.8 MB 2.2 MB/s eta 0:00:13\n",
      "   ----------- ---------------------------- 11.4/38.8 MB 2.2 MB/s eta 0:00:13\n",
      "   ----------- ---------------------------- 11.5/38.8 MB 2.2 MB/s eta 0:00:13\n",
      "   ----------- ---------------------------- 11.5/38.8 MB 2.2 MB/s eta 0:00:13\n",
      "   ------------ --------------------------- 11.7/38.8 MB 2.2 MB/s eta 0:00:13\n",
      "   ------------ --------------------------- 11.9/38.8 MB 2.2 MB/s eta 0:00:13\n",
      "   ------------ --------------------------- 12.1/38.8 MB 2.3 MB/s eta 0:00:12\n",
      "   ------------ --------------------------- 12.2/38.8 MB 2.3 MB/s eta 0:00:12\n",
      "   ------------ --------------------------- 12.3/38.8 MB 2.3 MB/s eta 0:00:12\n",
      "   ------------ --------------------------- 12.4/38.8 MB 2.3 MB/s eta 0:00:12\n",
      "   ------------ --------------------------- 12.5/38.8 MB 2.3 MB/s eta 0:00:12\n",
      "   ------------- -------------------------- 12.7/38.8 MB 2.4 MB/s eta 0:00:12\n",
      "   ------------- -------------------------- 12.9/38.8 MB 2.4 MB/s eta 0:00:11\n",
      "   ------------- -------------------------- 13.0/38.8 MB 2.4 MB/s eta 0:00:11\n",
      "   ------------- -------------------------- 13.1/38.8 MB 2.4 MB/s eta 0:00:11\n",
      "   ------------- -------------------------- 13.2/38.8 MB 2.5 MB/s eta 0:00:11\n",
      "   ------------- -------------------------- 13.4/38.8 MB 2.5 MB/s eta 0:00:11\n",
      "   ------------- -------------------------- 13.5/38.8 MB 2.5 MB/s eta 0:00:11\n",
      "   ------------- -------------------------- 13.5/38.8 MB 2.5 MB/s eta 0:00:11\n",
      "   ------------- -------------------------- 13.5/38.8 MB 2.5 MB/s eta 0:00:11\n",
      "   ------------- -------------------------- 13.6/38.8 MB 2.4 MB/s eta 0:00:11\n",
      "   -------------- ------------------------- 13.7/38.8 MB 2.4 MB/s eta 0:00:11\n",
      "   -------------- ------------------------- 13.8/38.8 MB 2.4 MB/s eta 0:00:11\n",
      "   -------------- ------------------------- 13.8/38.8 MB 2.4 MB/s eta 0:00:11\n",
      "   -------------- ------------------------- 14.0/38.8 MB 2.4 MB/s eta 0:00:11\n",
      "   -------------- ------------------------- 14.1/38.8 MB 2.4 MB/s eta 0:00:11\n",
      "   -------------- ------------------------- 14.3/38.8 MB 2.5 MB/s eta 0:00:10\n",
      "   -------------- ------------------------- 14.5/38.8 MB 2.5 MB/s eta 0:00:10\n",
      "   --------------- ------------------------ 14.6/38.8 MB 2.6 MB/s eta 0:00:10\n",
      "   --------------- ------------------------ 14.7/38.8 MB 2.6 MB/s eta 0:00:10\n",
      "   --------------- ------------------------ 14.8/38.8 MB 2.6 MB/s eta 0:00:10\n",
      "   --------------- ------------------------ 14.9/38.8 MB 2.6 MB/s eta 0:00:10\n",
      "   --------------- ------------------------ 15.0/38.8 MB 2.7 MB/s eta 0:00:09\n",
      "   --------------- ------------------------ 15.1/38.8 MB 2.7 MB/s eta 0:00:09\n",
      "   --------------- ------------------------ 15.1/38.8 MB 2.7 MB/s eta 0:00:09\n",
      "   --------------- ------------------------ 15.2/38.8 MB 2.7 MB/s eta 0:00:09\n",
      "   --------------- ------------------------ 15.4/38.8 MB 2.7 MB/s eta 0:00:09\n",
      "   ---------------- ----------------------- 15.6/38.8 MB 2.8 MB/s eta 0:00:09\n",
      "   ---------------- ----------------------- 15.7/38.8 MB 2.8 MB/s eta 0:00:09\n",
      "   ---------------- ----------------------- 15.8/38.8 MB 2.8 MB/s eta 0:00:09\n",
      "   ---------------- ----------------------- 15.9/38.8 MB 2.8 MB/s eta 0:00:09\n",
      "   ---------------- ----------------------- 16.1/38.8 MB 2.8 MB/s eta 0:00:09\n",
      "   ---------------- ----------------------- 16.3/38.8 MB 2.8 MB/s eta 0:00:09\n",
      "   ---------------- ----------------------- 16.4/38.8 MB 2.8 MB/s eta 0:00:09\n",
      "   ---------------- ----------------------- 16.4/38.8 MB 2.8 MB/s eta 0:00:09\n",
      "   ----------------- ---------------------- 16.5/38.8 MB 2.7 MB/s eta 0:00:09\n",
      "   ----------------- ---------------------- 16.7/38.8 MB 2.7 MB/s eta 0:00:09\n",
      "   ----------------- ---------------------- 16.9/38.8 MB 2.7 MB/s eta 0:00:09\n",
      "   ----------------- ---------------------- 17.0/38.8 MB 2.7 MB/s eta 0:00:08\n",
      "   ----------------- ---------------------- 17.2/38.8 MB 2.7 MB/s eta 0:00:08\n",
      "   ----------------- ---------------------- 17.4/38.8 MB 2.7 MB/s eta 0:00:08\n",
      "   ------------------ --------------------- 17.5/38.8 MB 2.7 MB/s eta 0:00:08\n",
      "   ------------------ --------------------- 17.7/38.8 MB 2.7 MB/s eta 0:00:08\n",
      "   ------------------ --------------------- 17.8/38.8 MB 2.7 MB/s eta 0:00:08\n",
      "   ------------------ --------------------- 17.9/38.8 MB 2.7 MB/s eta 0:00:08\n",
      "   ------------------ --------------------- 18.1/38.8 MB 2.7 MB/s eta 0:00:08\n",
      "   ------------------ --------------------- 18.3/38.8 MB 2.7 MB/s eta 0:00:08\n",
      "   ------------------- -------------------- 18.5/38.8 MB 2.7 MB/s eta 0:00:08\n",
      "   ------------------- -------------------- 18.5/38.8 MB 2.7 MB/s eta 0:00:08\n",
      "   ------------------- -------------------- 18.6/38.8 MB 2.7 MB/s eta 0:00:08\n",
      "   ------------------- -------------------- 18.7/38.8 MB 2.7 MB/s eta 0:00:08\n",
      "   ------------------- -------------------- 18.9/38.8 MB 2.7 MB/s eta 0:00:08\n",
      "   ------------------- -------------------- 19.0/38.8 MB 2.7 MB/s eta 0:00:08\n",
      "   ------------------- -------------------- 19.1/38.8 MB 2.7 MB/s eta 0:00:08\n",
      "   ------------------- -------------------- 19.2/38.8 MB 2.7 MB/s eta 0:00:08\n",
      "   ------------------- -------------------- 19.3/38.8 MB 2.6 MB/s eta 0:00:08\n",
      "   ------------------- -------------------- 19.4/38.8 MB 2.6 MB/s eta 0:00:08\n",
      "   -------------------- ------------------- 19.5/38.8 MB 2.6 MB/s eta 0:00:08\n",
      "   -------------------- ------------------- 19.6/38.8 MB 2.6 MB/s eta 0:00:08\n",
      "   -------------------- ------------------- 19.7/38.8 MB 2.6 MB/s eta 0:00:08\n",
      "   -------------------- ------------------- 19.8/38.8 MB 2.6 MB/s eta 0:00:08\n",
      "   -------------------- ------------------- 19.8/38.8 MB 2.6 MB/s eta 0:00:08\n",
      "   -------------------- ------------------- 20.0/38.8 MB 2.6 MB/s eta 0:00:08\n",
      "   -------------------- ------------------- 20.0/38.8 MB 2.6 MB/s eta 0:00:08\n",
      "   -------------------- ------------------- 20.1/38.8 MB 2.6 MB/s eta 0:00:08\n",
      "   -------------------- ------------------- 20.2/38.8 MB 2.6 MB/s eta 0:00:08\n",
      "   -------------------- ------------------- 20.2/38.8 MB 2.6 MB/s eta 0:00:08\n",
      "   -------------------- ------------------- 20.3/38.8 MB 2.5 MB/s eta 0:00:08\n",
      "   --------------------- ------------------ 20.4/38.8 MB 2.5 MB/s eta 0:00:08\n",
      "   --------------------- ------------------ 20.5/38.8 MB 2.5 MB/s eta 0:00:08\n",
      "   --------------------- ------------------ 20.6/38.8 MB 2.5 MB/s eta 0:00:08\n",
      "   --------------------- ------------------ 20.6/38.8 MB 2.5 MB/s eta 0:00:08\n",
      "   --------------------- ------------------ 20.8/38.8 MB 2.5 MB/s eta 0:00:08\n",
      "   --------------------- ------------------ 20.9/38.8 MB 2.5 MB/s eta 0:00:08\n",
      "   --------------------- ------------------ 20.9/38.8 MB 2.5 MB/s eta 0:00:08\n",
      "   --------------------- ------------------ 21.0/38.8 MB 2.5 MB/s eta 0:00:08\n",
      "   --------------------- ------------------ 21.1/38.8 MB 2.5 MB/s eta 0:00:08\n",
      "   --------------------- ------------------ 21.2/38.8 MB 2.5 MB/s eta 0:00:08\n",
      "   --------------------- ------------------ 21.3/38.8 MB 2.5 MB/s eta 0:00:07\n",
      "   ---------------------- ----------------- 21.3/38.8 MB 2.5 MB/s eta 0:00:08\n",
      "   ---------------------- ----------------- 21.4/38.8 MB 2.5 MB/s eta 0:00:08\n",
      "   ---------------------- ----------------- 21.5/38.8 MB 2.5 MB/s eta 0:00:07\n",
      "   ---------------------- ----------------- 21.6/38.8 MB 2.5 MB/s eta 0:00:07\n",
      "   ---------------------- ----------------- 21.7/38.8 MB 2.5 MB/s eta 0:00:07\n",
      "   ---------------------- ----------------- 21.7/38.8 MB 2.5 MB/s eta 0:00:07\n",
      "   ---------------------- ----------------- 21.8/38.8 MB 2.5 MB/s eta 0:00:07\n",
      "   ---------------------- ----------------- 21.9/38.8 MB 2.5 MB/s eta 0:00:07\n",
      "   ---------------------- ----------------- 22.0/38.8 MB 2.4 MB/s eta 0:00:07\n",
      "   ---------------------- ----------------- 22.1/38.8 MB 2.4 MB/s eta 0:00:07\n",
      "   ---------------------- ----------------- 22.2/38.8 MB 2.4 MB/s eta 0:00:07\n",
      "   ----------------------- ---------------- 22.3/38.8 MB 2.4 MB/s eta 0:00:07\n",
      "   ----------------------- ---------------- 22.4/38.8 MB 2.4 MB/s eta 0:00:07\n",
      "   ----------------------- ---------------- 22.5/38.8 MB 2.4 MB/s eta 0:00:07\n",
      "   ----------------------- ---------------- 22.6/38.8 MB 2.4 MB/s eta 0:00:07\n",
      "   ----------------------- ---------------- 22.7/38.8 MB 2.4 MB/s eta 0:00:07\n",
      "   ----------------------- ---------------- 22.8/38.8 MB 2.4 MB/s eta 0:00:07\n",
      "   ----------------------- ---------------- 22.9/38.8 MB 2.4 MB/s eta 0:00:07\n",
      "   ----------------------- ---------------- 23.0/38.8 MB 2.4 MB/s eta 0:00:07\n",
      "   ----------------------- ---------------- 23.1/38.8 MB 2.3 MB/s eta 0:00:07\n",
      "   ----------------------- ---------------- 23.1/38.8 MB 2.3 MB/s eta 0:00:07\n",
      "   ----------------------- ---------------- 23.2/38.8 MB 2.3 MB/s eta 0:00:07\n",
      "   ------------------------ --------------- 23.3/38.8 MB 2.3 MB/s eta 0:00:07\n",
      "   ------------------------ --------------- 23.4/38.8 MB 2.3 MB/s eta 0:00:07\n",
      "   ------------------------ --------------- 23.5/38.8 MB 2.3 MB/s eta 0:00:07\n",
      "   ------------------------ --------------- 23.6/38.8 MB 2.3 MB/s eta 0:00:07\n",
      "   ------------------------ --------------- 23.7/38.8 MB 2.3 MB/s eta 0:00:07\n",
      "   ------------------------ --------------- 23.7/38.8 MB 2.3 MB/s eta 0:00:07\n",
      "   ------------------------ --------------- 23.8/38.8 MB 2.3 MB/s eta 0:00:07\n",
      "   ------------------------ --------------- 23.8/38.8 MB 2.3 MB/s eta 0:00:07\n",
      "   ------------------------ --------------- 23.9/38.8 MB 2.3 MB/s eta 0:00:07\n",
      "   ------------------------ --------------- 24.0/38.8 MB 2.3 MB/s eta 0:00:07\n",
      "   ------------------------ --------------- 24.0/38.8 MB 2.3 MB/s eta 0:00:07\n",
      "   ------------------------ --------------- 24.1/38.8 MB 2.3 MB/s eta 0:00:07\n",
      "   ------------------------ --------------- 24.2/38.8 MB 2.3 MB/s eta 0:00:07\n",
      "   ------------------------ --------------- 24.2/38.8 MB 2.3 MB/s eta 0:00:07\n",
      "   ------------------------- -------------- 24.3/38.8 MB 2.3 MB/s eta 0:00:07\n",
      "   ------------------------- -------------- 24.3/38.8 MB 2.3 MB/s eta 0:00:07\n",
      "   ------------------------- -------------- 24.4/38.8 MB 2.2 MB/s eta 0:00:07\n",
      "   ------------------------- -------------- 24.5/38.8 MB 2.2 MB/s eta 0:00:07\n",
      "   ------------------------- -------------- 24.5/38.8 MB 2.2 MB/s eta 0:00:07\n",
      "   ------------------------- -------------- 24.6/38.8 MB 2.2 MB/s eta 0:00:07\n",
      "   ------------------------- -------------- 24.6/38.8 MB 2.2 MB/s eta 0:00:07\n",
      "   ------------------------- -------------- 24.7/38.8 MB 2.2 MB/s eta 0:00:07\n",
      "   ------------------------- -------------- 24.7/38.8 MB 2.2 MB/s eta 0:00:07\n",
      "   ------------------------- -------------- 24.8/38.8 MB 2.2 MB/s eta 0:00:07\n",
      "   ------------------------- -------------- 24.8/38.8 MB 2.1 MB/s eta 0:00:07\n",
      "   ------------------------- -------------- 24.9/38.8 MB 2.1 MB/s eta 0:00:07\n",
      "   ------------------------- -------------- 24.9/38.8 MB 2.1 MB/s eta 0:00:07\n",
      "   ------------------------- -------------- 25.0/38.8 MB 2.1 MB/s eta 0:00:07\n",
      "   ------------------------- -------------- 25.0/38.8 MB 2.1 MB/s eta 0:00:07\n",
      "   ------------------------- -------------- 25.1/38.8 MB 2.1 MB/s eta 0:00:07\n",
      "   ------------------------- -------------- 25.2/38.8 MB 2.1 MB/s eta 0:00:07\n",
      "   -------------------------- ------------- 25.3/38.8 MB 2.1 MB/s eta 0:00:07\n",
      "   -------------------------- ------------- 25.3/38.8 MB 2.1 MB/s eta 0:00:07\n",
      "   -------------------------- ------------- 25.5/38.8 MB 2.1 MB/s eta 0:00:07\n",
      "   -------------------------- ------------- 25.5/38.8 MB 2.1 MB/s eta 0:00:07\n",
      "   -------------------------- ------------- 25.6/38.8 MB 2.1 MB/s eta 0:00:07\n",
      "   -------------------------- ------------- 25.6/38.8 MB 2.1 MB/s eta 0:00:07\n",
      "   -------------------------- ------------- 25.7/38.8 MB 2.1 MB/s eta 0:00:07\n",
      "   -------------------------- ------------- 25.8/38.8 MB 2.1 MB/s eta 0:00:07\n",
      "   -------------------------- ------------- 25.8/38.8 MB 2.1 MB/s eta 0:00:07\n",
      "   -------------------------- ------------- 25.9/38.8 MB 2.0 MB/s eta 0:00:07\n",
      "   -------------------------- ------------- 26.0/38.8 MB 2.0 MB/s eta 0:00:07\n",
      "   -------------------------- ------------- 26.1/38.8 MB 2.0 MB/s eta 0:00:07\n",
      "   --------------------------- ------------ 26.2/38.8 MB 2.0 MB/s eta 0:00:07\n",
      "   --------------------------- ------------ 26.2/38.8 MB 2.0 MB/s eta 0:00:07\n",
      "   --------------------------- ------------ 26.3/38.8 MB 2.0 MB/s eta 0:00:07\n",
      "   --------------------------- ------------ 26.4/38.8 MB 2.0 MB/s eta 0:00:07\n",
      "   --------------------------- ------------ 26.5/38.8 MB 2.0 MB/s eta 0:00:07\n",
      "   --------------------------- ------------ 26.5/38.8 MB 2.0 MB/s eta 0:00:07\n",
      "   --------------------------- ------------ 26.5/38.8 MB 2.0 MB/s eta 0:00:07\n",
      "   --------------------------- ------------ 26.6/38.8 MB 2.0 MB/s eta 0:00:07\n",
      "   --------------------------- ------------ 26.6/38.8 MB 2.0 MB/s eta 0:00:07\n",
      "   --------------------------- ------------ 26.7/38.8 MB 2.0 MB/s eta 0:00:07\n",
      "   --------------------------- ------------ 26.7/38.8 MB 2.0 MB/s eta 0:00:07\n",
      "   --------------------------- ------------ 26.8/38.8 MB 2.0 MB/s eta 0:00:07\n",
      "   --------------------------- ------------ 26.8/38.8 MB 1.9 MB/s eta 0:00:07\n",
      "   --------------------------- ------------ 26.9/38.8 MB 1.9 MB/s eta 0:00:07\n",
      "   --------------------------- ------------ 26.9/38.8 MB 1.9 MB/s eta 0:00:07\n",
      "   --------------------------- ------------ 27.0/38.8 MB 1.9 MB/s eta 0:00:07\n",
      "   --------------------------- ------------ 27.0/38.8 MB 1.9 MB/s eta 0:00:07\n",
      "   --------------------------- ------------ 27.0/38.8 MB 1.9 MB/s eta 0:00:07\n",
      "   --------------------------- ------------ 27.1/38.8 MB 1.9 MB/s eta 0:00:07\n",
      "   --------------------------- ------------ 27.1/38.8 MB 1.9 MB/s eta 0:00:07\n",
      "   ---------------------------- ----------- 27.2/38.8 MB 1.8 MB/s eta 0:00:07\n",
      "   ---------------------------- ----------- 27.2/38.8 MB 1.8 MB/s eta 0:00:07\n",
      "   ---------------------------- ----------- 27.2/38.8 MB 1.8 MB/s eta 0:00:07\n",
      "   ---------------------------- ----------- 27.3/38.8 MB 1.8 MB/s eta 0:00:07\n",
      "   ---------------------------- ----------- 27.3/38.8 MB 1.8 MB/s eta 0:00:07\n",
      "   ---------------------------- ----------- 27.4/38.8 MB 1.8 MB/s eta 0:00:07\n",
      "   ---------------------------- ----------- 27.4/38.8 MB 1.8 MB/s eta 0:00:07\n",
      "   ---------------------------- ----------- 27.5/38.8 MB 1.8 MB/s eta 0:00:07\n",
      "   ---------------------------- ----------- 27.5/38.8 MB 1.8 MB/s eta 0:00:07\n",
      "   ---------------------------- ----------- 27.6/38.8 MB 1.8 MB/s eta 0:00:07\n",
      "   ---------------------------- ----------- 27.6/38.8 MB 1.7 MB/s eta 0:00:07\n",
      "   ---------------------------- ----------- 27.6/38.8 MB 1.7 MB/s eta 0:00:07\n",
      "   ---------------------------- ----------- 27.6/38.8 MB 1.7 MB/s eta 0:00:07\n",
      "   ---------------------------- ----------- 27.7/38.8 MB 1.7 MB/s eta 0:00:07\n",
      "   ---------------------------- ----------- 27.7/38.8 MB 1.7 MB/s eta 0:00:07\n",
      "   ---------------------------- ----------- 27.8/38.8 MB 1.7 MB/s eta 0:00:07\n",
      "   ---------------------------- ----------- 27.8/38.8 MB 1.7 MB/s eta 0:00:07\n",
      "   ---------------------------- ----------- 27.9/38.8 MB 1.7 MB/s eta 0:00:07\n",
      "   ---------------------------- ----------- 27.9/38.8 MB 1.7 MB/s eta 0:00:07\n",
      "   ---------------------------- ----------- 27.9/38.8 MB 1.7 MB/s eta 0:00:07\n",
      "   ---------------------------- ----------- 28.0/38.8 MB 1.7 MB/s eta 0:00:07\n",
      "   ---------------------------- ----------- 28.0/38.8 MB 1.6 MB/s eta 0:00:07\n",
      "   ---------------------------- ----------- 28.0/38.8 MB 1.6 MB/s eta 0:00:07\n",
      "   ---------------------------- ----------- 28.0/38.8 MB 1.6 MB/s eta 0:00:07\n",
      "   ---------------------------- ----------- 28.1/38.8 MB 1.6 MB/s eta 0:00:07\n",
      "   ----------------------------- ---------- 28.1/38.8 MB 1.6 MB/s eta 0:00:07\n",
      "   ----------------------------- ---------- 28.2/38.8 MB 1.6 MB/s eta 0:00:07\n",
      "   ----------------------------- ---------- 28.2/38.8 MB 1.6 MB/s eta 0:00:07\n",
      "   ----------------------------- ---------- 28.2/38.8 MB 1.6 MB/s eta 0:00:07\n",
      "   ----------------------------- ---------- 28.3/38.8 MB 1.6 MB/s eta 0:00:07\n",
      "   ----------------------------- ---------- 28.3/38.8 MB 1.6 MB/s eta 0:00:07\n",
      "   ----------------------------- ---------- 28.4/38.8 MB 1.6 MB/s eta 0:00:07\n",
      "   ----------------------------- ---------- 28.4/38.8 MB 1.6 MB/s eta 0:00:07\n",
      "   ----------------------------- ---------- 28.4/38.8 MB 1.5 MB/s eta 0:00:07\n",
      "   ----------------------------- ---------- 28.5/38.8 MB 1.5 MB/s eta 0:00:07\n",
      "   ----------------------------- ---------- 28.5/38.8 MB 1.5 MB/s eta 0:00:07\n",
      "   ----------------------------- ---------- 28.6/38.8 MB 1.5 MB/s eta 0:00:07\n",
      "   ----------------------------- ---------- 28.6/38.8 MB 1.5 MB/s eta 0:00:07\n",
      "   ----------------------------- ---------- 28.7/38.8 MB 1.5 MB/s eta 0:00:07\n",
      "   ----------------------------- ---------- 28.8/38.8 MB 1.5 MB/s eta 0:00:07\n",
      "   ----------------------------- ---------- 28.8/38.8 MB 1.5 MB/s eta 0:00:07\n",
      "   ----------------------------- ---------- 28.9/38.8 MB 1.5 MB/s eta 0:00:07\n",
      "   ----------------------------- ---------- 29.0/38.8 MB 1.5 MB/s eta 0:00:07\n",
      "   ----------------------------- ---------- 29.0/38.8 MB 1.5 MB/s eta 0:00:07\n",
      "   ------------------------------ --------- 29.1/38.8 MB 1.5 MB/s eta 0:00:07\n",
      "   ------------------------------ --------- 29.2/38.8 MB 1.5 MB/s eta 0:00:07\n",
      "   ------------------------------ --------- 29.2/38.8 MB 1.5 MB/s eta 0:00:07\n",
      "   ------------------------------ --------- 29.3/38.8 MB 1.5 MB/s eta 0:00:07\n",
      "   ------------------------------ --------- 29.4/38.8 MB 1.5 MB/s eta 0:00:07\n",
      "   ------------------------------ --------- 29.5/38.8 MB 1.5 MB/s eta 0:00:07\n",
      "   ------------------------------ --------- 29.5/38.8 MB 1.5 MB/s eta 0:00:07\n",
      "   ------------------------------ --------- 29.6/38.8 MB 1.5 MB/s eta 0:00:07\n",
      "   ------------------------------ --------- 29.7/38.8 MB 1.5 MB/s eta 0:00:07\n",
      "   ------------------------------ --------- 29.7/38.8 MB 1.5 MB/s eta 0:00:07\n",
      "   ------------------------------ --------- 29.8/38.8 MB 1.5 MB/s eta 0:00:07\n",
      "   ------------------------------ --------- 29.9/38.8 MB 1.5 MB/s eta 0:00:07\n",
      "   ------------------------------ --------- 30.0/38.8 MB 1.5 MB/s eta 0:00:06\n",
      "   ------------------------------- -------- 30.1/38.8 MB 1.5 MB/s eta 0:00:06\n",
      "   ------------------------------- -------- 30.2/38.8 MB 1.5 MB/s eta 0:00:06\n",
      "   ------------------------------- -------- 30.3/38.8 MB 1.5 MB/s eta 0:00:06\n",
      "   ------------------------------- -------- 30.4/38.8 MB 1.5 MB/s eta 0:00:06\n",
      "   ------------------------------- -------- 30.4/38.8 MB 1.5 MB/s eta 0:00:06\n",
      "   ------------------------------- -------- 30.5/38.8 MB 1.5 MB/s eta 0:00:06\n",
      "   ------------------------------- -------- 30.5/38.8 MB 1.5 MB/s eta 0:00:06\n",
      "   ------------------------------- -------- 30.6/38.8 MB 1.5 MB/s eta 0:00:06\n",
      "   ------------------------------- -------- 30.6/38.8 MB 1.5 MB/s eta 0:00:06\n",
      "   ------------------------------- -------- 30.7/38.8 MB 1.5 MB/s eta 0:00:06\n",
      "   ------------------------------- -------- 30.7/38.8 MB 1.5 MB/s eta 0:00:06\n",
      "   ------------------------------- -------- 30.8/38.8 MB 1.5 MB/s eta 0:00:06\n",
      "   ------------------------------- -------- 30.8/38.8 MB 1.5 MB/s eta 0:00:06\n",
      "   ------------------------------- -------- 30.9/38.8 MB 1.4 MB/s eta 0:00:06\n",
      "   ------------------------------- -------- 30.9/38.8 MB 1.4 MB/s eta 0:00:06\n",
      "   -------------------------------- ------- 31.0/38.8 MB 1.4 MB/s eta 0:00:06\n",
      "   -------------------------------- ------- 31.1/38.8 MB 1.4 MB/s eta 0:00:06\n",
      "   -------------------------------- ------- 31.1/38.8 MB 1.4 MB/s eta 0:00:06\n",
      "   -------------------------------- ------- 31.1/38.8 MB 1.4 MB/s eta 0:00:06\n",
      "   -------------------------------- ------- 31.1/38.8 MB 1.4 MB/s eta 0:00:06\n",
      "   -------------------------------- ------- 31.2/38.8 MB 1.4 MB/s eta 0:00:06\n",
      "   -------------------------------- ------- 31.2/38.8 MB 1.4 MB/s eta 0:00:06\n",
      "   -------------------------------- ------- 31.3/38.8 MB 1.4 MB/s eta 0:00:06\n",
      "   -------------------------------- ------- 31.3/38.8 MB 1.4 MB/s eta 0:00:06\n",
      "   -------------------------------- ------- 31.4/38.8 MB 1.4 MB/s eta 0:00:06\n",
      "   -------------------------------- ------- 31.4/38.8 MB 1.4 MB/s eta 0:00:06\n",
      "   -------------------------------- ------- 31.5/38.8 MB 1.4 MB/s eta 0:00:06\n",
      "   -------------------------------- ------- 31.5/38.8 MB 1.4 MB/s eta 0:00:06\n",
      "   -------------------------------- ------- 31.6/38.8 MB 1.4 MB/s eta 0:00:06\n",
      "   -------------------------------- ------- 31.6/38.8 MB 1.4 MB/s eta 0:00:06\n",
      "   -------------------------------- ------- 31.7/38.8 MB 1.4 MB/s eta 0:00:06\n",
      "   -------------------------------- ------- 31.7/38.8 MB 1.4 MB/s eta 0:00:06\n",
      "   -------------------------------- ------- 31.8/38.8 MB 1.4 MB/s eta 0:00:06\n",
      "   -------------------------------- ------- 31.8/38.8 MB 1.4 MB/s eta 0:00:06\n",
      "   -------------------------------- ------- 31.9/38.8 MB 1.4 MB/s eta 0:00:05\n",
      "   -------------------------------- ------- 31.9/38.8 MB 1.4 MB/s eta 0:00:05\n",
      "   --------------------------------- ------ 32.0/38.8 MB 1.4 MB/s eta 0:00:05\n",
      "   --------------------------------- ------ 32.1/38.8 MB 1.4 MB/s eta 0:00:05\n",
      "   --------------------------------- ------ 32.2/38.8 MB 1.4 MB/s eta 0:00:05\n",
      "   --------------------------------- ------ 32.3/38.8 MB 1.4 MB/s eta 0:00:05\n",
      "   --------------------------------- ------ 32.4/38.8 MB 1.4 MB/s eta 0:00:05\n",
      "   --------------------------------- ------ 32.4/38.8 MB 1.4 MB/s eta 0:00:05\n",
      "   --------------------------------- ------ 32.5/38.8 MB 1.4 MB/s eta 0:00:05\n",
      "   --------------------------------- ------ 32.6/38.8 MB 1.4 MB/s eta 0:00:05\n",
      "   --------------------------------- ------ 32.7/38.8 MB 1.4 MB/s eta 0:00:05\n",
      "   --------------------------------- ------ 32.8/38.8 MB 1.4 MB/s eta 0:00:05\n",
      "   --------------------------------- ------ 32.9/38.8 MB 1.4 MB/s eta 0:00:05\n",
      "   ---------------------------------- ----- 33.1/38.8 MB 1.4 MB/s eta 0:00:05\n",
      "   ---------------------------------- ----- 33.1/38.8 MB 1.4 MB/s eta 0:00:05\n",
      "   ---------------------------------- ----- 33.3/38.8 MB 1.4 MB/s eta 0:00:04\n",
      "   ---------------------------------- ----- 33.5/38.8 MB 1.4 MB/s eta 0:00:04\n",
      "   ---------------------------------- ----- 33.6/38.8 MB 1.4 MB/s eta 0:00:04\n",
      "   ---------------------------------- ----- 33.7/38.8 MB 1.4 MB/s eta 0:00:04\n",
      "   ---------------------------------- ----- 33.8/38.8 MB 1.4 MB/s eta 0:00:04\n",
      "   ----------------------------------- ---- 34.0/38.8 MB 1.4 MB/s eta 0:00:04\n",
      "   ----------------------------------- ---- 34.0/38.8 MB 1.4 MB/s eta 0:00:04\n",
      "   ----------------------------------- ---- 34.2/38.8 MB 1.4 MB/s eta 0:00:04\n",
      "   ----------------------------------- ---- 34.4/38.8 MB 1.4 MB/s eta 0:00:04\n",
      "   ----------------------------------- ---- 34.6/38.8 MB 1.5 MB/s eta 0:00:03\n",
      "   ----------------------------------- ---- 34.8/38.8 MB 1.5 MB/s eta 0:00:03\n",
      "   ------------------------------------ --- 34.9/38.8 MB 1.5 MB/s eta 0:00:03\n",
      "   ------------------------------------ --- 35.1/38.8 MB 1.5 MB/s eta 0:00:03\n",
      "   ------------------------------------ --- 35.3/38.8 MB 1.5 MB/s eta 0:00:03\n",
      "   ------------------------------------ --- 35.4/38.8 MB 1.5 MB/s eta 0:00:03\n",
      "   ------------------------------------ --- 35.6/38.8 MB 1.5 MB/s eta 0:00:03\n",
      "   ------------------------------------ --- 35.8/38.8 MB 1.6 MB/s eta 0:00:02\n",
      "   ------------------------------------- -- 35.9/38.8 MB 1.6 MB/s eta 0:00:02\n",
      "   ------------------------------------- -- 36.1/38.8 MB 1.6 MB/s eta 0:00:02\n",
      "   ------------------------------------- -- 36.3/38.8 MB 1.6 MB/s eta 0:00:02\n",
      "   ------------------------------------- -- 36.4/38.8 MB 1.6 MB/s eta 0:00:02\n",
      "   ------------------------------------- -- 36.5/38.8 MB 1.6 MB/s eta 0:00:02\n",
      "   ------------------------------------- -- 36.7/38.8 MB 1.6 MB/s eta 0:00:02\n",
      "   ------------------------------------- -- 36.8/38.8 MB 1.6 MB/s eta 0:00:02\n",
      "   -------------------------------------- - 36.9/38.8 MB 1.7 MB/s eta 0:00:02\n",
      "   -------------------------------------- - 37.1/38.8 MB 1.7 MB/s eta 0:00:01\n",
      "   -------------------------------------- - 37.2/38.8 MB 1.7 MB/s eta 0:00:01\n",
      "   -------------------------------------- - 37.3/38.8 MB 1.7 MB/s eta 0:00:01\n",
      "   -------------------------------------- - 37.4/38.8 MB 1.7 MB/s eta 0:00:01\n",
      "   -------------------------------------- - 37.6/38.8 MB 1.8 MB/s eta 0:00:01\n",
      "   -------------------------------------- - 37.7/38.8 MB 1.8 MB/s eta 0:00:01\n",
      "   ---------------------------------------  37.9/38.8 MB 1.9 MB/s eta 0:00:01\n",
      "   ---------------------------------------  38.0/38.8 MB 1.9 MB/s eta 0:00:01\n",
      "   ---------------------------------------  38.1/38.8 MB 1.9 MB/s eta 0:00:01\n",
      "   ---------------------------------------  38.3/38.8 MB 2.0 MB/s eta 0:00:01\n",
      "   ---------------------------------------  38.5/38.8 MB 2.1 MB/s eta 0:00:01\n",
      "   ---------------------------------------  38.6/38.8 MB 2.1 MB/s eta 0:00:01\n",
      "   ---------------------------------------  38.7/38.8 MB 2.2 MB/s eta 0:00:01\n",
      "   ---------------------------------------  38.7/38.8 MB 2.2 MB/s eta 0:00:01\n",
      "   ---------------------------------------  38.7/38.8 MB 2.2 MB/s eta 0:00:01\n",
      "   ---------------------------------------- 38.8/38.8 MB 2.1 MB/s eta 0:00:00\n",
      "Downloading filetype-1.2.0-py2.py3-none-any.whl (19 kB)\n",
      "Downloading python_dotenv-1.0.1-py3-none-any.whl (19 kB)\n",
      "Downloading requests_toolbelt-1.0.0-py2.py3-none-any.whl (54 kB)\n",
      "   ---------------------------------------- 0.0/54.5 kB ? eta -:--:--\n",
      "   ---------------------------------------- 54.5/54.5 kB 1.4 MB/s eta 0:00:00\n",
      "Installing collected packages: filetype, python-dotenv, opencv-python-headless, idna, chardet, requests-toolbelt, roboflow\n",
      "  Attempting uninstall: idna\n",
      "    Found existing installation: idna 3.4\n",
      "    Uninstalling idna-3.4:\n",
      "      Successfully uninstalled idna-3.4\n",
      "Successfully installed chardet-4.0.0 filetype-1.2.0 idna-3.7 opencv-python-headless-4.10.0.84 python-dotenv-1.0.1 requests-toolbelt-1.0.0 roboflow-1.1.36\n",
      "Note: you may need to restart the kernel to use updated packages.\n"
     ]
    },
    {
     "name": "stderr",
     "output_type": "stream",
     "text": [
      "DEPRECATION: Loading egg at c:\\users\\snepo\\appdata\\local\\programs\\python\\python311\\lib\\site-packages\\hyperopt-0.2.7-py3.11.egg is deprecated. pip 24.3 will enforce this behaviour change. A possible replacement is to use pip for package installation. Discussion can be found at https://github.com/pypa/pip/issues/12330\n",
      "DEPRECATION: Loading egg at c:\\users\\snepo\\appdata\\local\\programs\\python\\python311\\lib\\site-packages\\numpydoc-1.6.0-py3.11.egg is deprecated. pip 24.3 will enforce this behaviour change. A possible replacement is to use pip for package installation. Discussion can be found at https://github.com/pypa/pip/issues/12330\n",
      "DEPRECATION: Loading egg at c:\\users\\snepo\\appdata\\local\\programs\\python\\python311\\lib\\site-packages\\pathlib-1.0.1-py3.11.egg is deprecated. pip 24.3 will enforce this behaviour change. A possible replacement is to use pip for package installation. Discussion can be found at https://github.com/pypa/pip/issues/12330\n",
      "DEPRECATION: Loading egg at c:\\users\\snepo\\appdata\\local\\programs\\python\\python311\\lib\\site-packages\\pykg2vec-0.0.52-py3.11.egg is deprecated. pip 24.3 will enforce this behaviour change. A possible replacement is to use pip for package installation. Discussion can be found at https://github.com/pypa/pip/issues/12330\n",
      "DEPRECATION: Loading egg at c:\\users\\snepo\\appdata\\local\\programs\\python\\python311\\lib\\site-packages\\seaborn-0.13.0-py3.11.egg is deprecated. pip 24.3 will enforce this behaviour change. A possible replacement is to use pip for package installation. Discussion can be found at https://github.com/pypa/pip/issues/12330\n",
      "DEPRECATION: Loading egg at c:\\users\\snepo\\appdata\\local\\programs\\python\\python311\\lib\\site-packages\\sphinx_gallery-0.15.0-py3.11.egg is deprecated. pip 24.3 will enforce this behaviour change. A possible replacement is to use pip for package installation. Discussion can be found at https://github.com/pypa/pip/issues/12330\n",
      "ERROR: pip's dependency resolver does not currently take into account all the packages that are installed. This behaviour is the source of the following dependency conflicts.\n",
      "pykg2vec 0.0.52 requires torch<1.7.0, but you have torch 2.2.1 which is incompatible.\n",
      "\n",
      "[notice] A new release of pip is available: 24.1.1 -> 24.1.2\n",
      "[notice] To update, run: python.exe -m pip install --upgrade pip\n"
     ]
    }
   ],
   "source": [
    "# Install YOLOv8 dependencies\n",
    "%pip install ultralytics\n",
    "%pip install roboflow\n",
    "\n",
    "# Import necessary libraries\n",
    "import ultralytics\n",
    "import roboflow\n",
    "from ultralytics import YOLO\n",
    "import zipfile\n",
    "import os"
   ]
  },
  {
   "cell_type": "code",
   "execution_count": 3,
   "metadata": {},
   "outputs": [
    {
     "data": {
      "text/plain": [
       "['data.yaml',\n",
       " 'README.dataset.txt',\n",
       " 'README.roboflow.txt',\n",
       " 'test',\n",
       " 'train',\n",
       " 'valid']"
      ]
     },
     "execution_count": 3,
     "metadata": {},
     "output_type": "execute_result"
    }
   ],
   "source": [
    "# Unzip the dataset\n",
    "dataset_zip_path = \"C:/Users/snepo/Downloads/Parking Lot v3.v1i.yolov8-obb.zip\"\n",
    "with zipfile.ZipFile(dataset_zip_path, 'r') as zip_ref:\n",
    "    zip_ref.extractall('dataset_v2')\n",
    "\n",
    "# Check the extracted files\n",
    "os.listdir('dataset_v2')"
   ]
  },
  {
   "cell_type": "code",
   "execution_count": 4,
   "metadata": {},
   "outputs": [
    {
     "name": "stdout",
     "output_type": "stream",
     "text": [
      "loading Roboflow workspace...\n",
      "loading Roboflow project...\n"
     ]
    },
    {
     "name": "stderr",
     "output_type": "stream",
     "text": [
      "Downloading Dataset Version Zip in Parking-Lot-1 to yolov8-obb:: 100%|██████████| 544/544 [00:01<00:00, 328.48it/s]"
     ]
    },
    {
     "name": "stdout",
     "output_type": "stream",
     "text": [
      "\n"
     ]
    },
    {
     "name": "stderr",
     "output_type": "stream",
     "text": [
      "\n",
      "Extracting Dataset Version Zip to Parking-Lot-1 in yolov8-obb:: 100%|██████████| 52/52 [00:00<00:00, 998.32it/s]"
     ]
    },
    {
     "name": "stdout",
     "output_type": "stream",
     "text": [
      "<roboflow.core.dataset.Dataset object at 0x0000022A0C33DB50>\n"
     ]
    },
    {
     "name": "stderr",
     "output_type": "stream",
     "text": [
      "\n"
     ]
    },
    {
     "data": {
      "text/plain": [
       "['data.yaml',\n",
       " 'README.dataset.txt',\n",
       " 'README.roboflow.txt',\n",
       " 'test',\n",
       " 'train',\n",
       " 'valid']"
      ]
     },
     "execution_count": 4,
     "metadata": {},
     "output_type": "execute_result"
    }
   ],
   "source": [
    "rf = roboflow.Roboflow(api_key=\"h5fhSxYBHA0pMZE31iC5\")\n",
    "project = rf.workspace(\"snehals-workspace\").project(\"parking-lot-izmxx\")\n",
    "version = project.version(1)\n",
    "dataset = version.download(\"yolov8-obb\")\n",
    "\n",
    "# Print dataset info\n",
    "print(dataset)\n",
    "\n",
    "# Check the directory structure\n",
    "os.listdir('dataset_v2')"
   ]
  },
  {
   "cell_type": "code",
   "execution_count": 9,
   "metadata": {},
   "outputs": [
    {
     "name": "stdout",
     "output_type": "stream",
     "text": [
      "Ultralytics YOLOv8.2.62  Python-3.11.2 torch-2.2.1+cpu CPU (AMD Ryzen 5 5600H with Radeon Graphics)\n",
      "\u001b[34m\u001b[1mengine\\trainer: \u001b[0mtask=detect, mode=train, model=yolov8n.pt, data=D:/multi-agent/dataset_v2/data.yaml, epochs=100, time=None, patience=100, batch=16, imgsz=640, save=True, save_period=-1, cache=False, device=None, workers=8, project=None, name=garbage_detection5, exist_ok=False, pretrained=True, optimizer=auto, verbose=True, seed=0, deterministic=True, single_cls=False, rect=False, cos_lr=False, close_mosaic=10, resume=False, amp=True, fraction=1.0, profile=False, freeze=None, multi_scale=False, overlap_mask=True, mask_ratio=4, dropout=0.0, val=True, split=val, save_json=False, save_hybrid=False, conf=None, iou=0.7, max_det=300, half=False, dnn=False, plots=True, source=None, vid_stride=1, stream_buffer=False, visualize=False, augment=False, agnostic_nms=False, classes=None, retina_masks=False, embed=None, show=False, save_frames=False, save_txt=False, save_conf=False, save_crop=False, show_labels=True, show_conf=True, show_boxes=True, line_width=None, format=torchscript, keras=False, optimize=False, int8=False, dynamic=False, simplify=False, opset=None, workspace=4, nms=False, lr0=0.01, lrf=0.01, momentum=0.937, weight_decay=0.0005, warmup_epochs=3.0, warmup_momentum=0.8, warmup_bias_lr=0.1, box=7.5, cls=0.5, dfl=1.5, pose=12.0, kobj=1.0, label_smoothing=0.0, nbs=64, hsv_h=0.015, hsv_s=0.7, hsv_v=0.4, degrees=0.0, translate=0.1, scale=0.5, shear=0.0, perspective=0.0, flipud=0.0, fliplr=0.5, bgr=0.0, mosaic=1.0, mixup=0.0, copy_paste=0.0, auto_augment=randaugment, erasing=0.4, crop_fraction=1.0, cfg=None, tracker=botsort.yaml, save_dir=runs\\detect\\garbage_detection5\n",
      "Downloading https://ultralytics.com/assets/Arial.ttf to 'C:\\Users\\snepo\\AppData\\Roaming\\Ultralytics\\Arial.ttf'...\n"
     ]
    },
    {
     "name": "stderr",
     "output_type": "stream",
     "text": [
      "100%|██████████| 755k/755k [00:00<00:00, 1.43MB/s]\n"
     ]
    },
    {
     "name": "stdout",
     "output_type": "stream",
     "text": [
      "WARNING:tensorflow:From c:\\Users\\snepo\\AppData\\Local\\Programs\\Python\\Python311\\Lib\\site-packages\\keras\\src\\losses.py:2976: The name tf.losses.sparse_softmax_cross_entropy is deprecated. Please use tf.compat.v1.losses.sparse_softmax_cross_entropy instead.\n",
      "\n",
      "Overriding model.yaml nc=80 with nc=1\n",
      "\n",
      "                   from  n    params  module                                       arguments                     \n",
      "  0                  -1  1       464  ultralytics.nn.modules.conv.Conv             [3, 16, 3, 2]                 \n",
      "  1                  -1  1      4672  ultralytics.nn.modules.conv.Conv             [16, 32, 3, 2]                \n",
      "  2                  -1  1      7360  ultralytics.nn.modules.block.C2f             [32, 32, 1, True]             \n",
      "  3                  -1  1     18560  ultralytics.nn.modules.conv.Conv             [32, 64, 3, 2]                \n",
      "  4                  -1  2     49664  ultralytics.nn.modules.block.C2f             [64, 64, 2, True]             \n",
      "  5                  -1  1     73984  ultralytics.nn.modules.conv.Conv             [64, 128, 3, 2]               \n",
      "  6                  -1  2    197632  ultralytics.nn.modules.block.C2f             [128, 128, 2, True]           \n",
      "  7                  -1  1    295424  ultralytics.nn.modules.conv.Conv             [128, 256, 3, 2]              \n",
      "  8                  -1  1    460288  ultralytics.nn.modules.block.C2f             [256, 256, 1, True]           \n",
      "  9                  -1  1    164608  ultralytics.nn.modules.block.SPPF            [256, 256, 5]                 \n",
      " 10                  -1  1         0  torch.nn.modules.upsampling.Upsample         [None, 2, 'nearest']          \n",
      " 11             [-1, 6]  1         0  ultralytics.nn.modules.conv.Concat           [1]                           \n",
      " 12                  -1  1    148224  ultralytics.nn.modules.block.C2f             [384, 128, 1]                 \n",
      " 13                  -1  1         0  torch.nn.modules.upsampling.Upsample         [None, 2, 'nearest']          \n",
      " 14             [-1, 4]  1         0  ultralytics.nn.modules.conv.Concat           [1]                           \n",
      " 15                  -1  1     37248  ultralytics.nn.modules.block.C2f             [192, 64, 1]                  \n",
      " 16                  -1  1     36992  ultralytics.nn.modules.conv.Conv             [64, 64, 3, 2]                \n",
      " 17            [-1, 12]  1         0  ultralytics.nn.modules.conv.Concat           [1]                           \n",
      " 18                  -1  1    123648  ultralytics.nn.modules.block.C2f             [192, 128, 1]                 \n",
      " 19                  -1  1    147712  ultralytics.nn.modules.conv.Conv             [128, 128, 3, 2]              \n",
      " 20             [-1, 9]  1         0  ultralytics.nn.modules.conv.Concat           [1]                           \n",
      " 21                  -1  1    493056  ultralytics.nn.modules.block.C2f             [384, 256, 1]                 \n",
      " 22        [15, 18, 21]  1    751507  ultralytics.nn.modules.head.Detect           [1, [64, 128, 256]]           \n",
      "Model summary: 225 layers, 3,011,043 parameters, 3,011,027 gradients, 8.2 GFLOPs\n",
      "\n",
      "Transferred 319/355 items from pretrained weights\n",
      "\u001b[34m\u001b[1mTensorBoard: \u001b[0mStart with 'tensorboard --logdir runs\\detect\\garbage_detection5', view at http://localhost:6006/\n",
      "Freezing layer 'model.22.dfl.conv.weight'\n"
     ]
    },
    {
     "name": "stderr",
     "output_type": "stream",
     "text": [
      "\u001b[34m\u001b[1mtrain: \u001b[0mScanning D:\\multi-agent\\dataset_v2\\train\\labels... 102 images, 0 backgrounds, 0 corrupt: 100%|██████████| 102/102 [00:00<00:00, 423.30it/s]"
     ]
    },
    {
     "name": "stdout",
     "output_type": "stream",
     "text": [
      "\u001b[34m\u001b[1mtrain: \u001b[0mNew cache created: D:\\multi-agent\\dataset_v2\\train\\labels.cache\n"
     ]
    },
    {
     "name": "stderr",
     "output_type": "stream",
     "text": [
      "\n",
      "\u001b[34m\u001b[1mval: \u001b[0mScanning D:\\multi-agent\\dataset_v2\\valid\\labels... 9 images, 0 backgrounds, 0 corrupt: 100%|██████████| 9/9 [00:00<00:00, 271.07it/s]"
     ]
    },
    {
     "name": "stdout",
     "output_type": "stream",
     "text": [
      "\u001b[34m\u001b[1mval: \u001b[0mNew cache created: D:\\multi-agent\\dataset_v2\\valid\\labels.cache\n"
     ]
    },
    {
     "name": "stderr",
     "output_type": "stream",
     "text": [
      "\n"
     ]
    },
    {
     "name": "stdout",
     "output_type": "stream",
     "text": [
      "Plotting labels to runs\\detect\\garbage_detection5\\labels.jpg... \n",
      "\u001b[34m\u001b[1moptimizer:\u001b[0m 'optimizer=auto' found, ignoring 'lr0=0.01' and 'momentum=0.937' and determining best 'optimizer', 'lr0' and 'momentum' automatically... \n",
      "\u001b[34m\u001b[1moptimizer:\u001b[0m AdamW(lr=0.002, momentum=0.9) with parameter groups 57 weight(decay=0.0), 64 weight(decay=0.0005), 63 bias(decay=0.0)\n",
      "\u001b[34m\u001b[1mTensorBoard: \u001b[0mmodel graph visualization added \n",
      "Image sizes 640 train, 640 val\n",
      "Using 0 dataloader workers\n",
      "Logging results to \u001b[1mruns\\detect\\garbage_detection5\u001b[0m\n",
      "Starting training for 100 epochs...\n",
      "\n",
      "      Epoch    GPU_mem   box_loss   cls_loss   dfl_loss  Instances       Size\n"
     ]
    },
    {
     "name": "stderr",
     "output_type": "stream",
     "text": [
      "      1/100         0G      2.064      3.783      1.209         63        640: 100%|██████████| 7/7 [01:01<00:00,  8.76s/it]\n",
      "                 Class     Images  Instances      Box(P          R      mAP50  mAP50-95): 100%|██████████| 1/1 [00:04<00:00,  4.24s/it]"
     ]
    },
    {
     "name": "stdout",
     "output_type": "stream",
     "text": [
      "                   all          9         47     0.0119      0.681     0.0163    0.00734\n"
     ]
    },
    {
     "name": "stderr",
     "output_type": "stream",
     "text": [
      "\n"
     ]
    },
    {
     "name": "stdout",
     "output_type": "stream",
     "text": [
      "\n",
      "      Epoch    GPU_mem   box_loss   cls_loss   dfl_loss  Instances       Size\n"
     ]
    },
    {
     "name": "stderr",
     "output_type": "stream",
     "text": [
      "      2/100         0G      2.077      2.005      1.223         33        640: 100%|██████████| 7/7 [00:46<00:00,  6.66s/it]\n",
      "                 Class     Images  Instances      Box(P          R      mAP50  mAP50-95): 100%|██████████| 1/1 [00:01<00:00,  1.48s/it]"
     ]
    },
    {
     "name": "stdout",
     "output_type": "stream",
     "text": [
      "                   all          9         47     0.0156      0.894     0.0601     0.0169\n"
     ]
    },
    {
     "name": "stderr",
     "output_type": "stream",
     "text": [
      "\n"
     ]
    },
    {
     "name": "stdout",
     "output_type": "stream",
     "text": [
      "\n",
      "      Epoch    GPU_mem   box_loss   cls_loss   dfl_loss  Instances       Size\n"
     ]
    },
    {
     "name": "stderr",
     "output_type": "stream",
     "text": [
      "      3/100         0G      2.134      1.569      1.177         55        640: 100%|██████████| 7/7 [00:46<00:00,  6.66s/it]\n",
      "                 Class     Images  Instances      Box(P          R      mAP50  mAP50-95): 100%|██████████| 1/1 [00:01<00:00,  1.57s/it]"
     ]
    },
    {
     "name": "stdout",
     "output_type": "stream",
     "text": [
      "                   all          9         47     0.0148      0.851     0.0228    0.00821\n"
     ]
    },
    {
     "name": "stderr",
     "output_type": "stream",
     "text": [
      "\n"
     ]
    },
    {
     "name": "stdout",
     "output_type": "stream",
     "text": [
      "\n",
      "      Epoch    GPU_mem   box_loss   cls_loss   dfl_loss  Instances       Size\n"
     ]
    },
    {
     "name": "stderr",
     "output_type": "stream",
     "text": [
      "      4/100         0G      2.099      1.552      1.227         28        640: 100%|██████████| 7/7 [00:46<00:00,  6.66s/it]\n",
      "                 Class     Images  Instances      Box(P          R      mAP50  mAP50-95): 100%|██████████| 1/1 [00:01<00:00,  1.55s/it]"
     ]
    },
    {
     "name": "stdout",
     "output_type": "stream",
     "text": [
      "                   all          9         47     0.0159      0.915      0.025    0.00893\n"
     ]
    },
    {
     "name": "stderr",
     "output_type": "stream",
     "text": [
      "\n"
     ]
    },
    {
     "name": "stdout",
     "output_type": "stream",
     "text": [
      "\n",
      "      Epoch    GPU_mem   box_loss   cls_loss   dfl_loss  Instances       Size\n"
     ]
    },
    {
     "name": "stderr",
     "output_type": "stream",
     "text": [
      "      5/100         0G      2.075      1.405      1.209         43        640: 100%|██████████| 7/7 [00:50<00:00,  7.27s/it]\n",
      "                 Class     Images  Instances      Box(P          R      mAP50  mAP50-95): 100%|██████████| 1/1 [00:01<00:00,  1.52s/it]"
     ]
    },
    {
     "name": "stdout",
     "output_type": "stream",
     "text": [
      "                   all          9         47     0.0152      0.872     0.0264    0.00908\n"
     ]
    },
    {
     "name": "stderr",
     "output_type": "stream",
     "text": [
      "\n"
     ]
    },
    {
     "name": "stdout",
     "output_type": "stream",
     "text": [
      "\n",
      "      Epoch    GPU_mem   box_loss   cls_loss   dfl_loss  Instances       Size\n"
     ]
    },
    {
     "name": "stderr",
     "output_type": "stream",
     "text": [
      "      6/100         0G      1.999      1.413      1.179         21        640: 100%|██████████| 7/7 [00:52<00:00,  7.53s/it]\n",
      "                 Class     Images  Instances      Box(P          R      mAP50  mAP50-95): 100%|██████████| 1/1 [00:01<00:00,  1.95s/it]"
     ]
    },
    {
     "name": "stdout",
     "output_type": "stream",
     "text": [
      "                   all          9         47     0.0159      0.915     0.0721     0.0222\n"
     ]
    },
    {
     "name": "stderr",
     "output_type": "stream",
     "text": [
      "\n"
     ]
    },
    {
     "name": "stdout",
     "output_type": "stream",
     "text": [
      "\n",
      "      Epoch    GPU_mem   box_loss   cls_loss   dfl_loss  Instances       Size\n"
     ]
    },
    {
     "name": "stderr",
     "output_type": "stream",
     "text": [
      "      7/100         0G      2.042      1.284      1.164         53        640: 100%|██████████| 7/7 [00:51<00:00,  7.30s/it]\n",
      "                 Class     Images  Instances      Box(P          R      mAP50  mAP50-95): 100%|██████████| 1/1 [00:01<00:00,  1.41s/it]"
     ]
    },
    {
     "name": "stdout",
     "output_type": "stream",
     "text": [
      "                   all          9         47     0.0152      0.872     0.0209    0.00962\n"
     ]
    },
    {
     "name": "stderr",
     "output_type": "stream",
     "text": [
      "\n"
     ]
    },
    {
     "name": "stdout",
     "output_type": "stream",
     "text": [
      "\n",
      "      Epoch    GPU_mem   box_loss   cls_loss   dfl_loss  Instances       Size\n"
     ]
    },
    {
     "name": "stderr",
     "output_type": "stream",
     "text": [
      "      8/100         0G      2.027      1.282      1.199         53        640: 100%|██████████| 7/7 [00:42<00:00,  6.13s/it]\n",
      "                 Class     Images  Instances      Box(P          R      mAP50  mAP50-95): 100%|██████████| 1/1 [00:01<00:00,  1.30s/it]"
     ]
    },
    {
     "name": "stdout",
     "output_type": "stream",
     "text": [
      "                   all          9         47     0.0159      0.915     0.0619     0.0272\n"
     ]
    },
    {
     "name": "stderr",
     "output_type": "stream",
     "text": [
      "\n"
     ]
    },
    {
     "name": "stdout",
     "output_type": "stream",
     "text": [
      "\n",
      "      Epoch    GPU_mem   box_loss   cls_loss   dfl_loss  Instances       Size\n"
     ]
    },
    {
     "name": "stderr",
     "output_type": "stream",
     "text": [
      "      9/100         0G          2      1.215      1.151         60        640: 100%|██████████| 7/7 [00:42<00:00,  6.05s/it]\n",
      "                 Class     Images  Instances      Box(P          R      mAP50  mAP50-95): 100%|██████████| 1/1 [00:01<00:00,  1.26s/it]"
     ]
    },
    {
     "name": "stdout",
     "output_type": "stream",
     "text": [
      "                   all          9         47     0.0167      0.957      0.539      0.166\n"
     ]
    },
    {
     "name": "stderr",
     "output_type": "stream",
     "text": [
      "\n"
     ]
    },
    {
     "name": "stdout",
     "output_type": "stream",
     "text": [
      "\n",
      "      Epoch    GPU_mem   box_loss   cls_loss   dfl_loss  Instances       Size\n"
     ]
    },
    {
     "name": "stderr",
     "output_type": "stream",
     "text": [
      "     10/100         0G      2.093      1.312      1.256         41        640: 100%|██████████| 7/7 [00:39<00:00,  5.63s/it]\n",
      "                 Class     Images  Instances      Box(P          R      mAP50  mAP50-95): 100%|██████████| 1/1 [00:01<00:00,  1.30s/it]"
     ]
    },
    {
     "name": "stdout",
     "output_type": "stream",
     "text": [
      "                   all          9         47     0.0163      0.936      0.842      0.313\n"
     ]
    },
    {
     "name": "stderr",
     "output_type": "stream",
     "text": [
      "\n"
     ]
    },
    {
     "name": "stdout",
     "output_type": "stream",
     "text": [
      "\n",
      "      Epoch    GPU_mem   box_loss   cls_loss   dfl_loss  Instances       Size\n"
     ]
    },
    {
     "name": "stderr",
     "output_type": "stream",
     "text": [
      "     11/100         0G      1.976      1.194      1.139         65        640: 100%|██████████| 7/7 [00:39<00:00,  5.71s/it]\n",
      "                 Class     Images  Instances      Box(P          R      mAP50  mAP50-95): 100%|██████████| 1/1 [00:01<00:00,  1.27s/it]"
     ]
    },
    {
     "name": "stdout",
     "output_type": "stream",
     "text": [
      "                   all          9         47      0.943       0.83      0.933      0.403\n"
     ]
    },
    {
     "name": "stderr",
     "output_type": "stream",
     "text": [
      "\n"
     ]
    },
    {
     "name": "stdout",
     "output_type": "stream",
     "text": [
      "\n",
      "      Epoch    GPU_mem   box_loss   cls_loss   dfl_loss  Instances       Size\n"
     ]
    },
    {
     "name": "stderr",
     "output_type": "stream",
     "text": [
      "     12/100         0G      1.901      1.108      1.161         32        640: 100%|██████████| 7/7 [00:39<00:00,  5.67s/it]\n",
      "                 Class     Images  Instances      Box(P          R      mAP50  mAP50-95): 100%|██████████| 1/1 [00:01<00:00,  1.25s/it]"
     ]
    },
    {
     "name": "stdout",
     "output_type": "stream",
     "text": [
      "                   all          9         47      0.892      0.703      0.874      0.322\n"
     ]
    },
    {
     "name": "stderr",
     "output_type": "stream",
     "text": [
      "\n"
     ]
    },
    {
     "name": "stdout",
     "output_type": "stream",
     "text": [
      "\n",
      "      Epoch    GPU_mem   box_loss   cls_loss   dfl_loss  Instances       Size\n"
     ]
    },
    {
     "name": "stderr",
     "output_type": "stream",
     "text": [
      "     13/100         0G      1.899      1.073      1.147         47        640: 100%|██████████| 7/7 [01:35<00:00, 13.65s/it]\n",
      "                 Class     Images  Instances      Box(P          R      mAP50  mAP50-95): 100%|██████████| 1/1 [00:01<00:00,  1.47s/it]"
     ]
    },
    {
     "name": "stdout",
     "output_type": "stream",
     "text": [
      "                   all          9         47      0.862      0.745      0.923      0.354\n"
     ]
    },
    {
     "name": "stderr",
     "output_type": "stream",
     "text": [
      "\n"
     ]
    },
    {
     "name": "stdout",
     "output_type": "stream",
     "text": [
      "\n",
      "      Epoch    GPU_mem   box_loss   cls_loss   dfl_loss  Instances       Size\n"
     ]
    },
    {
     "name": "stderr",
     "output_type": "stream",
     "text": [
      "     14/100         0G      1.967      1.133      1.166         48        640: 100%|██████████| 7/7 [00:44<00:00,  6.31s/it]\n",
      "                 Class     Images  Instances      Box(P          R      mAP50  mAP50-95): 100%|██████████| 1/1 [00:01<00:00,  1.38s/it]"
     ]
    },
    {
     "name": "stdout",
     "output_type": "stream",
     "text": [
      "                   all          9         47       0.91      0.936      0.956      0.369\n"
     ]
    },
    {
     "name": "stderr",
     "output_type": "stream",
     "text": [
      "\n"
     ]
    },
    {
     "name": "stdout",
     "output_type": "stream",
     "text": [
      "\n",
      "      Epoch    GPU_mem   box_loss   cls_loss   dfl_loss  Instances       Size\n"
     ]
    },
    {
     "name": "stderr",
     "output_type": "stream",
     "text": [
      "     15/100         0G      1.914      1.092      1.168         60        640: 100%|██████████| 7/7 [00:44<00:00,  6.33s/it]\n",
      "                 Class     Images  Instances      Box(P          R      mAP50  mAP50-95): 100%|██████████| 1/1 [00:01<00:00,  1.69s/it]"
     ]
    },
    {
     "name": "stdout",
     "output_type": "stream",
     "text": [
      "                   all          9         47       0.91      0.915      0.961      0.423\n"
     ]
    },
    {
     "name": "stderr",
     "output_type": "stream",
     "text": [
      "\n"
     ]
    },
    {
     "name": "stdout",
     "output_type": "stream",
     "text": [
      "\n",
      "      Epoch    GPU_mem   box_loss   cls_loss   dfl_loss  Instances       Size\n"
     ]
    },
    {
     "name": "stderr",
     "output_type": "stream",
     "text": [
      "     16/100         0G      1.859      1.093      1.155         61        640: 100%|██████████| 7/7 [00:51<00:00,  7.37s/it]\n",
      "                 Class     Images  Instances      Box(P          R      mAP50  mAP50-95): 100%|██████████| 1/1 [00:01<00:00,  1.70s/it]"
     ]
    },
    {
     "name": "stdout",
     "output_type": "stream",
     "text": [
      "                   all          9         47      0.809      0.915      0.918      0.389\n"
     ]
    },
    {
     "name": "stderr",
     "output_type": "stream",
     "text": [
      "\n"
     ]
    },
    {
     "name": "stdout",
     "output_type": "stream",
     "text": [
      "\n",
      "      Epoch    GPU_mem   box_loss   cls_loss   dfl_loss  Instances       Size\n"
     ]
    },
    {
     "name": "stderr",
     "output_type": "stream",
     "text": [
      "     17/100         0G      1.904      1.165      1.134         22        640: 100%|██████████| 7/7 [00:46<00:00,  6.70s/it]\n",
      "                 Class     Images  Instances      Box(P          R      mAP50  mAP50-95): 100%|██████████| 1/1 [00:01<00:00,  1.69s/it]"
     ]
    },
    {
     "name": "stdout",
     "output_type": "stream",
     "text": [
      "                   all          9         47      0.784      0.849      0.878       0.38\n"
     ]
    },
    {
     "name": "stderr",
     "output_type": "stream",
     "text": [
      "\n"
     ]
    },
    {
     "name": "stdout",
     "output_type": "stream",
     "text": [
      "\n",
      "      Epoch    GPU_mem   box_loss   cls_loss   dfl_loss  Instances       Size\n"
     ]
    },
    {
     "name": "stderr",
     "output_type": "stream",
     "text": [
      "     18/100         0G      1.893       1.09      1.111         46        640: 100%|██████████| 7/7 [00:45<00:00,  6.46s/it]\n",
      "                 Class     Images  Instances      Box(P          R      mAP50  mAP50-95): 100%|██████████| 1/1 [00:01<00:00,  1.46s/it]"
     ]
    },
    {
     "name": "stdout",
     "output_type": "stream",
     "text": [
      "                   all          9         47       0.88      0.894      0.888      0.341\n"
     ]
    },
    {
     "name": "stderr",
     "output_type": "stream",
     "text": [
      "\n"
     ]
    },
    {
     "name": "stdout",
     "output_type": "stream",
     "text": [
      "\n",
      "      Epoch    GPU_mem   box_loss   cls_loss   dfl_loss  Instances       Size\n"
     ]
    },
    {
     "name": "stderr",
     "output_type": "stream",
     "text": [
      "     19/100         0G      1.872      1.075      1.129         26        640: 100%|██████████| 7/7 [00:45<00:00,  6.49s/it]\n",
      "                 Class     Images  Instances      Box(P          R      mAP50  mAP50-95): 100%|██████████| 1/1 [00:01<00:00,  1.42s/it]"
     ]
    },
    {
     "name": "stdout",
     "output_type": "stream",
     "text": [
      "                   all          9         47      0.869      0.915      0.891      0.408\n"
     ]
    },
    {
     "name": "stderr",
     "output_type": "stream",
     "text": [
      "\n"
     ]
    },
    {
     "name": "stdout",
     "output_type": "stream",
     "text": [
      "\n",
      "      Epoch    GPU_mem   box_loss   cls_loss   dfl_loss  Instances       Size\n"
     ]
    },
    {
     "name": "stderr",
     "output_type": "stream",
     "text": [
      "     20/100         0G      1.872      1.087      1.147         44        640: 100%|██████████| 7/7 [00:45<00:00,  6.55s/it]\n",
      "                 Class     Images  Instances      Box(P          R      mAP50  mAP50-95): 100%|██████████| 1/1 [00:01<00:00,  1.68s/it]"
     ]
    },
    {
     "name": "stdout",
     "output_type": "stream",
     "text": [
      "                   all          9         47      0.963      0.979      0.969      0.387\n"
     ]
    },
    {
     "name": "stderr",
     "output_type": "stream",
     "text": [
      "\n"
     ]
    },
    {
     "name": "stdout",
     "output_type": "stream",
     "text": [
      "\n",
      "      Epoch    GPU_mem   box_loss   cls_loss   dfl_loss  Instances       Size\n"
     ]
    },
    {
     "name": "stderr",
     "output_type": "stream",
     "text": [
      "     21/100         0G      1.886      1.038      1.112         70        640: 100%|██████████| 7/7 [00:49<00:00,  7.02s/it]\n",
      "                 Class     Images  Instances      Box(P          R      mAP50  mAP50-95): 100%|██████████| 1/1 [00:01<00:00,  1.92s/it]"
     ]
    },
    {
     "name": "stdout",
     "output_type": "stream",
     "text": [
      "                   all          9         47      0.975      0.957      0.974      0.439\n"
     ]
    },
    {
     "name": "stderr",
     "output_type": "stream",
     "text": [
      "\n"
     ]
    },
    {
     "name": "stdout",
     "output_type": "stream",
     "text": [
      "\n",
      "      Epoch    GPU_mem   box_loss   cls_loss   dfl_loss  Instances       Size\n"
     ]
    },
    {
     "name": "stderr",
     "output_type": "stream",
     "text": [
      "     22/100         0G      1.975      1.074      1.178         62        640: 100%|██████████| 7/7 [00:53<00:00,  7.68s/it]\n",
      "                 Class     Images  Instances      Box(P          R      mAP50  mAP50-95): 100%|██████████| 1/1 [00:02<00:00,  2.03s/it]"
     ]
    },
    {
     "name": "stdout",
     "output_type": "stream",
     "text": [
      "                   all          9         47      0.949      0.915      0.922      0.409\n"
     ]
    },
    {
     "name": "stderr",
     "output_type": "stream",
     "text": [
      "\n"
     ]
    },
    {
     "name": "stdout",
     "output_type": "stream",
     "text": [
      "\n",
      "      Epoch    GPU_mem   box_loss   cls_loss   dfl_loss  Instances       Size\n"
     ]
    },
    {
     "name": "stderr",
     "output_type": "stream",
     "text": [
      "     23/100         0G      1.946      1.065      1.128         48        640: 100%|██████████| 7/7 [00:50<00:00,  7.17s/it]\n",
      "                 Class     Images  Instances      Box(P          R      mAP50  mAP50-95): 100%|██████████| 1/1 [00:01<00:00,  1.43s/it]"
     ]
    },
    {
     "name": "stdout",
     "output_type": "stream",
     "text": [
      "                   all          9         47      0.991      0.936      0.954       0.44\n"
     ]
    },
    {
     "name": "stderr",
     "output_type": "stream",
     "text": [
      "\n"
     ]
    },
    {
     "name": "stdout",
     "output_type": "stream",
     "text": [
      "\n",
      "      Epoch    GPU_mem   box_loss   cls_loss   dfl_loss  Instances       Size\n"
     ]
    },
    {
     "name": "stderr",
     "output_type": "stream",
     "text": [
      "     24/100         0G      1.933       1.02      1.146         53        640: 100%|██████████| 7/7 [00:42<00:00,  6.13s/it]\n",
      "                 Class     Images  Instances      Box(P          R      mAP50  mAP50-95): 100%|██████████| 1/1 [00:01<00:00,  1.34s/it]"
     ]
    },
    {
     "name": "stdout",
     "output_type": "stream",
     "text": [
      "                   all          9         47      0.979      0.977       0.97      0.429\n"
     ]
    },
    {
     "name": "stderr",
     "output_type": "stream",
     "text": [
      "\n"
     ]
    },
    {
     "name": "stdout",
     "output_type": "stream",
     "text": [
      "\n",
      "      Epoch    GPU_mem   box_loss   cls_loss   dfl_loss  Instances       Size\n"
     ]
    },
    {
     "name": "stderr",
     "output_type": "stream",
     "text": [
      "     25/100         0G      1.851      1.037       1.13         69        640: 100%|██████████| 7/7 [00:43<00:00,  6.27s/it]\n",
      "                 Class     Images  Instances      Box(P          R      mAP50  mAP50-95): 100%|██████████| 1/1 [00:01<00:00,  1.36s/it]"
     ]
    },
    {
     "name": "stdout",
     "output_type": "stream",
     "text": [
      "                   all          9         47      0.971      0.936      0.951      0.382\n"
     ]
    },
    {
     "name": "stderr",
     "output_type": "stream",
     "text": [
      "\n"
     ]
    },
    {
     "name": "stdout",
     "output_type": "stream",
     "text": [
      "\n",
      "      Epoch    GPU_mem   box_loss   cls_loss   dfl_loss  Instances       Size\n"
     ]
    },
    {
     "name": "stderr",
     "output_type": "stream",
     "text": [
      "     26/100         0G      1.939      1.057      1.162         48        640: 100%|██████████| 7/7 [00:41<00:00,  5.87s/it]\n",
      "                 Class     Images  Instances      Box(P          R      mAP50  mAP50-95): 100%|██████████| 1/1 [00:01<00:00,  1.33s/it]"
     ]
    },
    {
     "name": "stdout",
     "output_type": "stream",
     "text": [
      "                   all          9         47      0.933      0.936      0.914      0.339\n"
     ]
    },
    {
     "name": "stderr",
     "output_type": "stream",
     "text": [
      "\n"
     ]
    },
    {
     "name": "stdout",
     "output_type": "stream",
     "text": [
      "\n",
      "      Epoch    GPU_mem   box_loss   cls_loss   dfl_loss  Instances       Size\n"
     ]
    },
    {
     "name": "stderr",
     "output_type": "stream",
     "text": [
      "     27/100         0G      1.908      1.092        1.1         59        640: 100%|██████████| 7/7 [00:44<00:00,  6.40s/it]\n",
      "                 Class     Images  Instances      Box(P          R      mAP50  mAP50-95): 100%|██████████| 1/1 [00:01<00:00,  1.41s/it]"
     ]
    },
    {
     "name": "stdout",
     "output_type": "stream",
     "text": [
      "                   all          9         47       0.93      0.936      0.977      0.474\n"
     ]
    },
    {
     "name": "stderr",
     "output_type": "stream",
     "text": [
      "\n"
     ]
    },
    {
     "name": "stdout",
     "output_type": "stream",
     "text": [
      "\n",
      "      Epoch    GPU_mem   box_loss   cls_loss   dfl_loss  Instances       Size\n"
     ]
    },
    {
     "name": "stderr",
     "output_type": "stream",
     "text": [
      "     28/100         0G      1.784      1.008      1.093         35        640: 100%|██████████| 7/7 [00:43<00:00,  6.23s/it]\n",
      "                 Class     Images  Instances      Box(P          R      mAP50  mAP50-95): 100%|██████████| 1/1 [00:01<00:00,  1.34s/it]"
     ]
    },
    {
     "name": "stdout",
     "output_type": "stream",
     "text": [
      "                   all          9         47      0.978      0.931      0.952      0.463\n"
     ]
    },
    {
     "name": "stderr",
     "output_type": "stream",
     "text": [
      "\n"
     ]
    },
    {
     "name": "stdout",
     "output_type": "stream",
     "text": [
      "\n",
      "      Epoch    GPU_mem   box_loss   cls_loss   dfl_loss  Instances       Size\n"
     ]
    },
    {
     "name": "stderr",
     "output_type": "stream",
     "text": [
      "     29/100         0G      1.812      1.034      1.102         68        640: 100%|██████████| 7/7 [00:41<00:00,  6.00s/it]\n",
      "                 Class     Images  Instances      Box(P          R      mAP50  mAP50-95): 100%|██████████| 1/1 [00:01<00:00,  1.35s/it]"
     ]
    },
    {
     "name": "stdout",
     "output_type": "stream",
     "text": [
      "                   all          9         47      0.935      0.924      0.927      0.465\n"
     ]
    },
    {
     "name": "stderr",
     "output_type": "stream",
     "text": [
      "\n"
     ]
    },
    {
     "name": "stdout",
     "output_type": "stream",
     "text": [
      "\n",
      "      Epoch    GPU_mem   box_loss   cls_loss   dfl_loss  Instances       Size\n"
     ]
    },
    {
     "name": "stderr",
     "output_type": "stream",
     "text": [
      "     30/100         0G      1.887      1.019      1.127         31        640: 100%|██████████| 7/7 [00:41<00:00,  5.96s/it]\n",
      "                 Class     Images  Instances      Box(P          R      mAP50  mAP50-95): 100%|██████████| 1/1 [00:01<00:00,  1.32s/it]"
     ]
    },
    {
     "name": "stdout",
     "output_type": "stream",
     "text": [
      "                   all          9         47      0.954      0.957      0.947      0.465\n"
     ]
    },
    {
     "name": "stderr",
     "output_type": "stream",
     "text": [
      "\n"
     ]
    },
    {
     "name": "stdout",
     "output_type": "stream",
     "text": [
      "\n",
      "      Epoch    GPU_mem   box_loss   cls_loss   dfl_loss  Instances       Size\n"
     ]
    },
    {
     "name": "stderr",
     "output_type": "stream",
     "text": [
      "     31/100         0G      1.801     0.9928      1.117         28        640: 100%|██████████| 7/7 [00:40<00:00,  5.84s/it]\n",
      "                 Class     Images  Instances      Box(P          R      mAP50  mAP50-95): 100%|██████████| 1/1 [00:01<00:00,  1.35s/it]"
     ]
    },
    {
     "name": "stdout",
     "output_type": "stream",
     "text": [
      "                   all          9         47      0.998      0.957      0.955      0.388\n"
     ]
    },
    {
     "name": "stderr",
     "output_type": "stream",
     "text": [
      "\n"
     ]
    },
    {
     "name": "stdout",
     "output_type": "stream",
     "text": [
      "\n",
      "      Epoch    GPU_mem   box_loss   cls_loss   dfl_loss  Instances       Size\n"
     ]
    },
    {
     "name": "stderr",
     "output_type": "stream",
     "text": [
      "     32/100         0G      1.777     0.9274      1.079         43        640: 100%|██████████| 7/7 [00:42<00:00,  6.00s/it]\n",
      "                 Class     Images  Instances      Box(P          R      mAP50  mAP50-95): 100%|██████████| 1/1 [00:01<00:00,  1.33s/it]"
     ]
    },
    {
     "name": "stdout",
     "output_type": "stream",
     "text": [
      "                   all          9         47      0.948      0.936      0.927      0.371\n"
     ]
    },
    {
     "name": "stderr",
     "output_type": "stream",
     "text": [
      "\n"
     ]
    },
    {
     "name": "stdout",
     "output_type": "stream",
     "text": [
      "\n",
      "      Epoch    GPU_mem   box_loss   cls_loss   dfl_loss  Instances       Size\n"
     ]
    },
    {
     "name": "stderr",
     "output_type": "stream",
     "text": [
      "     33/100         0G      1.826     0.9186      1.122         61        640: 100%|██████████| 7/7 [00:41<00:00,  5.93s/it]\n",
      "                 Class     Images  Instances      Box(P          R      mAP50  mAP50-95): 100%|██████████| 1/1 [00:01<00:00,  1.31s/it]"
     ]
    },
    {
     "name": "stdout",
     "output_type": "stream",
     "text": [
      "                   all          9         47      0.935      0.923      0.925      0.336\n"
     ]
    },
    {
     "name": "stderr",
     "output_type": "stream",
     "text": [
      "\n"
     ]
    },
    {
     "name": "stdout",
     "output_type": "stream",
     "text": [
      "\n",
      "      Epoch    GPU_mem   box_loss   cls_loss   dfl_loss  Instances       Size\n"
     ]
    },
    {
     "name": "stderr",
     "output_type": "stream",
     "text": [
      "     34/100         0G      1.775     0.9109       1.08         34        640: 100%|██████████| 7/7 [00:42<00:00,  6.06s/it]\n",
      "                 Class     Images  Instances      Box(P          R      mAP50  mAP50-95): 100%|██████████| 1/1 [00:01<00:00,  1.29s/it]"
     ]
    },
    {
     "name": "stdout",
     "output_type": "stream",
     "text": [
      "                   all          9         47      0.975      0.979      0.974      0.407\n"
     ]
    },
    {
     "name": "stderr",
     "output_type": "stream",
     "text": [
      "\n"
     ]
    },
    {
     "name": "stdout",
     "output_type": "stream",
     "text": [
      "\n",
      "      Epoch    GPU_mem   box_loss   cls_loss   dfl_loss  Instances       Size\n"
     ]
    },
    {
     "name": "stderr",
     "output_type": "stream",
     "text": [
      "     35/100         0G       1.88     0.9641      1.097         38        640: 100%|██████████| 7/7 [00:42<00:00,  6.02s/it]\n",
      "                 Class     Images  Instances      Box(P          R      mAP50  mAP50-95): 100%|██████████| 1/1 [00:01<00:00,  1.31s/it]"
     ]
    },
    {
     "name": "stdout",
     "output_type": "stream",
     "text": [
      "                   all          9         47      0.979      0.936      0.974      0.439\n"
     ]
    },
    {
     "name": "stderr",
     "output_type": "stream",
     "text": [
      "\n"
     ]
    },
    {
     "name": "stdout",
     "output_type": "stream",
     "text": [
      "\n",
      "      Epoch    GPU_mem   box_loss   cls_loss   dfl_loss  Instances       Size\n"
     ]
    },
    {
     "name": "stderr",
     "output_type": "stream",
     "text": [
      "     36/100         0G       1.81     0.9618      1.128         38        640: 100%|██████████| 7/7 [00:44<00:00,  6.36s/it]\n",
      "                 Class     Images  Instances      Box(P          R      mAP50  mAP50-95): 100%|██████████| 1/1 [00:01<00:00,  1.30s/it]"
     ]
    },
    {
     "name": "stdout",
     "output_type": "stream",
     "text": [
      "                   all          9         47      0.937      0.956      0.944      0.349\n"
     ]
    },
    {
     "name": "stderr",
     "output_type": "stream",
     "text": [
      "\n"
     ]
    },
    {
     "name": "stdout",
     "output_type": "stream",
     "text": [
      "\n",
      "      Epoch    GPU_mem   box_loss   cls_loss   dfl_loss  Instances       Size\n"
     ]
    },
    {
     "name": "stderr",
     "output_type": "stream",
     "text": [
      "     37/100         0G       1.78     0.9444      1.088         40        640: 100%|██████████| 7/7 [00:44<00:00,  6.37s/it]\n",
      "                 Class     Images  Instances      Box(P          R      mAP50  mAP50-95): 100%|██████████| 1/1 [00:01<00:00,  1.50s/it]"
     ]
    },
    {
     "name": "stdout",
     "output_type": "stream",
     "text": [
      "                   all          9         47      0.922      0.936      0.945      0.366\n"
     ]
    },
    {
     "name": "stderr",
     "output_type": "stream",
     "text": [
      "\n"
     ]
    },
    {
     "name": "stdout",
     "output_type": "stream",
     "text": [
      "\n",
      "      Epoch    GPU_mem   box_loss   cls_loss   dfl_loss  Instances       Size\n"
     ]
    },
    {
     "name": "stderr",
     "output_type": "stream",
     "text": [
      "     38/100         0G      1.816     0.9378      1.123         40        640: 100%|██████████| 7/7 [00:45<00:00,  6.51s/it]\n",
      "                 Class     Images  Instances      Box(P          R      mAP50  mAP50-95): 100%|██████████| 1/1 [00:01<00:00,  1.38s/it]"
     ]
    },
    {
     "name": "stdout",
     "output_type": "stream",
     "text": [
      "                   all          9         47      0.967      0.979      0.974      0.477\n"
     ]
    },
    {
     "name": "stderr",
     "output_type": "stream",
     "text": [
      "\n"
     ]
    },
    {
     "name": "stdout",
     "output_type": "stream",
     "text": [
      "\n",
      "      Epoch    GPU_mem   box_loss   cls_loss   dfl_loss  Instances       Size\n"
     ]
    },
    {
     "name": "stderr",
     "output_type": "stream",
     "text": [
      "     39/100         0G        1.9     0.9539      1.189         41        640: 100%|██████████| 7/7 [00:41<00:00,  6.00s/it]\n",
      "                 Class     Images  Instances      Box(P          R      mAP50  mAP50-95): 100%|██████████| 1/1 [00:01<00:00,  1.31s/it]"
     ]
    },
    {
     "name": "stdout",
     "output_type": "stream",
     "text": [
      "                   all          9         47      0.976      0.979      0.974      0.401\n"
     ]
    },
    {
     "name": "stderr",
     "output_type": "stream",
     "text": [
      "\n"
     ]
    },
    {
     "name": "stdout",
     "output_type": "stream",
     "text": [
      "\n",
      "      Epoch    GPU_mem   box_loss   cls_loss   dfl_loss  Instances       Size\n"
     ]
    },
    {
     "name": "stderr",
     "output_type": "stream",
     "text": [
      "     40/100         0G      1.851     0.9028      1.102         84        640: 100%|██████████| 7/7 [00:40<00:00,  5.80s/it]\n",
      "                 Class     Images  Instances      Box(P          R      mAP50  mAP50-95): 100%|██████████| 1/1 [00:01<00:00,  1.25s/it]"
     ]
    },
    {
     "name": "stdout",
     "output_type": "stream",
     "text": [
      "                   all          9         47      0.957      0.955      0.941      0.444\n"
     ]
    },
    {
     "name": "stderr",
     "output_type": "stream",
     "text": [
      "\n"
     ]
    },
    {
     "name": "stdout",
     "output_type": "stream",
     "text": [
      "\n",
      "      Epoch    GPU_mem   box_loss   cls_loss   dfl_loss  Instances       Size\n"
     ]
    },
    {
     "name": "stderr",
     "output_type": "stream",
     "text": [
      "     41/100         0G      1.745     0.8791      1.081         50        640: 100%|██████████| 7/7 [00:41<00:00,  5.86s/it]\n",
      "                 Class     Images  Instances      Box(P          R      mAP50  mAP50-95): 100%|██████████| 1/1 [00:01<00:00,  1.26s/it]"
     ]
    },
    {
     "name": "stdout",
     "output_type": "stream",
     "text": [
      "                   all          9         47       0.93      0.915      0.935      0.443\n"
     ]
    },
    {
     "name": "stderr",
     "output_type": "stream",
     "text": [
      "\n"
     ]
    },
    {
     "name": "stdout",
     "output_type": "stream",
     "text": [
      "\n",
      "      Epoch    GPU_mem   box_loss   cls_loss   dfl_loss  Instances       Size\n"
     ]
    },
    {
     "name": "stderr",
     "output_type": "stream",
     "text": [
      "     42/100         0G      1.809      0.905      1.131         26        640: 100%|██████████| 7/7 [00:42<00:00,  6.11s/it]\n",
      "                 Class     Images  Instances      Box(P          R      mAP50  mAP50-95): 100%|██████████| 1/1 [00:01<00:00,  1.38s/it]"
     ]
    },
    {
     "name": "stdout",
     "output_type": "stream",
     "text": [
      "                   all          9         47      0.999      0.957      0.974       0.43\n"
     ]
    },
    {
     "name": "stderr",
     "output_type": "stream",
     "text": [
      "\n"
     ]
    },
    {
     "name": "stdout",
     "output_type": "stream",
     "text": [
      "\n",
      "      Epoch    GPU_mem   box_loss   cls_loss   dfl_loss  Instances       Size\n"
     ]
    },
    {
     "name": "stderr",
     "output_type": "stream",
     "text": [
      "     43/100         0G       1.75     0.8778      1.081         47        640: 100%|██████████| 7/7 [00:41<00:00,  5.89s/it]\n",
      "                 Class     Images  Instances      Box(P          R      mAP50  mAP50-95): 100%|██████████| 1/1 [00:01<00:00,  1.30s/it]"
     ]
    },
    {
     "name": "stdout",
     "output_type": "stream",
     "text": [
      "                   all          9         47      0.933      0.936      0.934      0.365\n"
     ]
    },
    {
     "name": "stderr",
     "output_type": "stream",
     "text": [
      "\n"
     ]
    },
    {
     "name": "stdout",
     "output_type": "stream",
     "text": [
      "\n",
      "      Epoch    GPU_mem   box_loss   cls_loss   dfl_loss  Instances       Size\n"
     ]
    },
    {
     "name": "stderr",
     "output_type": "stream",
     "text": [
      "     44/100         0G      1.715     0.8728      1.108         55        640: 100%|██████████| 7/7 [00:40<00:00,  5.76s/it]\n",
      "                 Class     Images  Instances      Box(P          R      mAP50  mAP50-95): 100%|██████████| 1/1 [00:01<00:00,  1.29s/it]"
     ]
    },
    {
     "name": "stdout",
     "output_type": "stream",
     "text": [
      "                   all          9         47      0.978      0.979      0.975      0.457\n"
     ]
    },
    {
     "name": "stderr",
     "output_type": "stream",
     "text": [
      "\n"
     ]
    },
    {
     "name": "stdout",
     "output_type": "stream",
     "text": [
      "\n",
      "      Epoch    GPU_mem   box_loss   cls_loss   dfl_loss  Instances       Size\n"
     ]
    },
    {
     "name": "stderr",
     "output_type": "stream",
     "text": [
      "     45/100         0G       1.71     0.8351      1.075         51        640: 100%|██████████| 7/7 [00:40<00:00,  5.84s/it]\n",
      "                 Class     Images  Instances      Box(P          R      mAP50  mAP50-95): 100%|██████████| 1/1 [00:01<00:00,  1.37s/it]"
     ]
    },
    {
     "name": "stdout",
     "output_type": "stream",
     "text": [
      "                   all          9         47      0.992      0.979      0.975      0.471\n"
     ]
    },
    {
     "name": "stderr",
     "output_type": "stream",
     "text": [
      "\n"
     ]
    },
    {
     "name": "stdout",
     "output_type": "stream",
     "text": [
      "\n",
      "      Epoch    GPU_mem   box_loss   cls_loss   dfl_loss  Instances       Size\n"
     ]
    },
    {
     "name": "stderr",
     "output_type": "stream",
     "text": [
      "     46/100         0G      1.639     0.8071      1.066         65        640: 100%|██████████| 7/7 [00:44<00:00,  6.31s/it]\n",
      "                 Class     Images  Instances      Box(P          R      mAP50  mAP50-95): 100%|██████████| 1/1 [00:01<00:00,  1.43s/it]"
     ]
    },
    {
     "name": "stdout",
     "output_type": "stream",
     "text": [
      "                   all          9         47      0.955      0.957      0.969       0.49\n"
     ]
    },
    {
     "name": "stderr",
     "output_type": "stream",
     "text": [
      "\n"
     ]
    },
    {
     "name": "stdout",
     "output_type": "stream",
     "text": [
      "\n",
      "      Epoch    GPU_mem   box_loss   cls_loss   dfl_loss  Instances       Size\n"
     ]
    },
    {
     "name": "stderr",
     "output_type": "stream",
     "text": [
      "     47/100         0G      1.756     0.8517      1.083         44        640: 100%|██████████| 7/7 [00:44<00:00,  6.33s/it]\n",
      "                 Class     Images  Instances      Box(P          R      mAP50  mAP50-95): 100%|██████████| 1/1 [00:01<00:00,  1.38s/it]"
     ]
    },
    {
     "name": "stdout",
     "output_type": "stream",
     "text": [
      "                   all          9         47      0.953      0.957      0.967      0.473\n"
     ]
    },
    {
     "name": "stderr",
     "output_type": "stream",
     "text": [
      "\n"
     ]
    },
    {
     "name": "stdout",
     "output_type": "stream",
     "text": [
      "\n",
      "      Epoch    GPU_mem   box_loss   cls_loss   dfl_loss  Instances       Size\n"
     ]
    },
    {
     "name": "stderr",
     "output_type": "stream",
     "text": [
      "     48/100         0G      1.768     0.8637      1.067         45        640: 100%|██████████| 7/7 [00:44<00:00,  6.39s/it]\n",
      "                 Class     Images  Instances      Box(P          R      mAP50  mAP50-95): 100%|██████████| 1/1 [00:01<00:00,  1.65s/it]"
     ]
    },
    {
     "name": "stdout",
     "output_type": "stream",
     "text": [
      "                   all          9         47      0.936      0.934      0.909      0.451\n"
     ]
    },
    {
     "name": "stderr",
     "output_type": "stream",
     "text": [
      "\n"
     ]
    },
    {
     "name": "stdout",
     "output_type": "stream",
     "text": [
      "\n",
      "      Epoch    GPU_mem   box_loss   cls_loss   dfl_loss  Instances       Size\n"
     ]
    },
    {
     "name": "stderr",
     "output_type": "stream",
     "text": [
      "     49/100         0G      1.802     0.8938      1.099         48        640: 100%|██████████| 7/7 [00:47<00:00,  6.76s/it]\n",
      "                 Class     Images  Instances      Box(P          R      mAP50  mAP50-95): 100%|██████████| 1/1 [00:01<00:00,  1.32s/it]"
     ]
    },
    {
     "name": "stdout",
     "output_type": "stream",
     "text": [
      "                   all          9         47       0.88      0.934      0.923      0.442\n"
     ]
    },
    {
     "name": "stderr",
     "output_type": "stream",
     "text": [
      "\n"
     ]
    },
    {
     "name": "stdout",
     "output_type": "stream",
     "text": [
      "\n",
      "      Epoch    GPU_mem   box_loss   cls_loss   dfl_loss  Instances       Size\n"
     ]
    },
    {
     "name": "stderr",
     "output_type": "stream",
     "text": [
      "     50/100         0G      1.741     0.8746      1.065         88        640: 100%|██████████| 7/7 [00:41<00:00,  6.00s/it]\n",
      "                 Class     Images  Instances      Box(P          R      mAP50  mAP50-95): 100%|██████████| 1/1 [00:01<00:00,  1.29s/it]"
     ]
    },
    {
     "name": "stdout",
     "output_type": "stream",
     "text": [
      "                   all          9         47      0.933      0.936      0.955      0.457\n"
     ]
    },
    {
     "name": "stderr",
     "output_type": "stream",
     "text": [
      "\n"
     ]
    },
    {
     "name": "stdout",
     "output_type": "stream",
     "text": [
      "\n",
      "      Epoch    GPU_mem   box_loss   cls_loss   dfl_loss  Instances       Size\n"
     ]
    },
    {
     "name": "stderr",
     "output_type": "stream",
     "text": [
      "     51/100         0G      1.666      0.838      1.029         71        640: 100%|██████████| 7/7 [00:41<00:00,  5.95s/it]\n",
      "                 Class     Images  Instances      Box(P          R      mAP50  mAP50-95): 100%|██████████| 1/1 [00:01<00:00,  1.33s/it]"
     ]
    },
    {
     "name": "stdout",
     "output_type": "stream",
     "text": [
      "                   all          9         47      0.954      0.979      0.974      0.469\n"
     ]
    },
    {
     "name": "stderr",
     "output_type": "stream",
     "text": [
      "\n"
     ]
    },
    {
     "name": "stdout",
     "output_type": "stream",
     "text": [
      "\n",
      "      Epoch    GPU_mem   box_loss   cls_loss   dfl_loss  Instances       Size\n"
     ]
    },
    {
     "name": "stderr",
     "output_type": "stream",
     "text": [
      "     52/100         0G      1.647     0.8493       1.04         45        640: 100%|██████████| 7/7 [00:44<00:00,  6.30s/it]\n",
      "                 Class     Images  Instances      Box(P          R      mAP50  mAP50-95): 100%|██████████| 1/1 [00:01<00:00,  1.30s/it]"
     ]
    },
    {
     "name": "stdout",
     "output_type": "stream",
     "text": [
      "                   all          9         47      0.936      0.915      0.917       0.41\n"
     ]
    },
    {
     "name": "stderr",
     "output_type": "stream",
     "text": [
      "\n"
     ]
    },
    {
     "name": "stdout",
     "output_type": "stream",
     "text": [
      "\n",
      "      Epoch    GPU_mem   box_loss   cls_loss   dfl_loss  Instances       Size\n"
     ]
    },
    {
     "name": "stderr",
     "output_type": "stream",
     "text": [
      "     53/100         0G      1.646     0.8275      1.069         53        640: 100%|██████████| 7/7 [00:41<00:00,  5.92s/it]\n",
      "                 Class     Images  Instances      Box(P          R      mAP50  mAP50-95): 100%|██████████| 1/1 [00:01<00:00,  1.30s/it]"
     ]
    },
    {
     "name": "stdout",
     "output_type": "stream",
     "text": [
      "                   all          9         47      0.914      0.904      0.867      0.396\n"
     ]
    },
    {
     "name": "stderr",
     "output_type": "stream",
     "text": [
      "\n"
     ]
    },
    {
     "name": "stdout",
     "output_type": "stream",
     "text": [
      "\n",
      "      Epoch    GPU_mem   box_loss   cls_loss   dfl_loss  Instances       Size\n"
     ]
    },
    {
     "name": "stderr",
     "output_type": "stream",
     "text": [
      "     54/100         0G      1.703     0.8514      1.073         58        640: 100%|██████████| 7/7 [00:44<00:00,  6.42s/it]\n",
      "                 Class     Images  Instances      Box(P          R      mAP50  mAP50-95): 100%|██████████| 1/1 [00:01<00:00,  1.33s/it]"
     ]
    },
    {
     "name": "stdout",
     "output_type": "stream",
     "text": [
      "                   all          9         47          1      0.952      0.974       0.45\n"
     ]
    },
    {
     "name": "stderr",
     "output_type": "stream",
     "text": [
      "\n"
     ]
    },
    {
     "name": "stdout",
     "output_type": "stream",
     "text": [
      "\n",
      "      Epoch    GPU_mem   box_loss   cls_loss   dfl_loss  Instances       Size\n"
     ]
    },
    {
     "name": "stderr",
     "output_type": "stream",
     "text": [
      "     55/100         0G      1.744      0.832       1.12         37        640: 100%|██████████| 7/7 [00:41<00:00,  5.95s/it]\n",
      "                 Class     Images  Instances      Box(P          R      mAP50  mAP50-95): 100%|██████████| 1/1 [00:01<00:00,  1.33s/it]"
     ]
    },
    {
     "name": "stdout",
     "output_type": "stream",
     "text": [
      "                   all          9         47      0.978      0.958      0.975      0.466\n"
     ]
    },
    {
     "name": "stderr",
     "output_type": "stream",
     "text": [
      "\n"
     ]
    },
    {
     "name": "stdout",
     "output_type": "stream",
     "text": [
      "\n",
      "      Epoch    GPU_mem   box_loss   cls_loss   dfl_loss  Instances       Size\n"
     ]
    },
    {
     "name": "stderr",
     "output_type": "stream",
     "text": [
      "     56/100         0G      1.686     0.8023      1.034         70        640: 100%|██████████| 7/7 [00:41<00:00,  5.93s/it]\n",
      "                 Class     Images  Instances      Box(P          R      mAP50  mAP50-95): 100%|██████████| 1/1 [00:01<00:00,  1.31s/it]"
     ]
    },
    {
     "name": "stdout",
     "output_type": "stream",
     "text": [
      "                   all          9         47      0.974      0.979      0.974       0.41\n"
     ]
    },
    {
     "name": "stderr",
     "output_type": "stream",
     "text": [
      "\n"
     ]
    },
    {
     "name": "stdout",
     "output_type": "stream",
     "text": [
      "\n",
      "      Epoch    GPU_mem   box_loss   cls_loss   dfl_loss  Instances       Size\n"
     ]
    },
    {
     "name": "stderr",
     "output_type": "stream",
     "text": [
      "     57/100         0G      1.716      0.801      1.068         66        640: 100%|██████████| 7/7 [00:41<00:00,  5.90s/it]\n",
      "                 Class     Images  Instances      Box(P          R      mAP50  mAP50-95): 100%|██████████| 1/1 [00:01<00:00,  1.31s/it]"
     ]
    },
    {
     "name": "stdout",
     "output_type": "stream",
     "text": [
      "                   all          9         47      0.975      0.979      0.974      0.412\n"
     ]
    },
    {
     "name": "stderr",
     "output_type": "stream",
     "text": [
      "\n"
     ]
    },
    {
     "name": "stdout",
     "output_type": "stream",
     "text": [
      "\n",
      "      Epoch    GPU_mem   box_loss   cls_loss   dfl_loss  Instances       Size\n"
     ]
    },
    {
     "name": "stderr",
     "output_type": "stream",
     "text": [
      "     58/100         0G      1.706     0.8103      1.078         94        640: 100%|██████████| 7/7 [00:41<00:00,  5.93s/it]\n",
      "                 Class     Images  Instances      Box(P          R      mAP50  mAP50-95): 100%|██████████| 1/1 [00:01<00:00,  1.32s/it]"
     ]
    },
    {
     "name": "stdout",
     "output_type": "stream",
     "text": [
      "                   all          9         47      0.974      0.979      0.975      0.408\n"
     ]
    },
    {
     "name": "stderr",
     "output_type": "stream",
     "text": [
      "\n"
     ]
    },
    {
     "name": "stdout",
     "output_type": "stream",
     "text": [
      "\n",
      "      Epoch    GPU_mem   box_loss   cls_loss   dfl_loss  Instances       Size\n"
     ]
    },
    {
     "name": "stderr",
     "output_type": "stream",
     "text": [
      "     59/100         0G      1.647     0.8167      1.053         22        640: 100%|██████████| 7/7 [00:42<00:00,  6.02s/it]\n",
      "                 Class     Images  Instances      Box(P          R      mAP50  mAP50-95): 100%|██████████| 1/1 [00:01<00:00,  1.30s/it]"
     ]
    },
    {
     "name": "stdout",
     "output_type": "stream",
     "text": [
      "                   all          9         47      0.953      0.979      0.985      0.431\n"
     ]
    },
    {
     "name": "stderr",
     "output_type": "stream",
     "text": [
      "\n"
     ]
    },
    {
     "name": "stdout",
     "output_type": "stream",
     "text": [
      "\n",
      "      Epoch    GPU_mem   box_loss   cls_loss   dfl_loss  Instances       Size\n"
     ]
    },
    {
     "name": "stderr",
     "output_type": "stream",
     "text": [
      "     60/100         0G      1.639     0.8041      1.001         54        640: 100%|██████████| 7/7 [00:41<00:00,  5.94s/it]\n",
      "                 Class     Images  Instances      Box(P          R      mAP50  mAP50-95): 100%|██████████| 1/1 [00:01<00:00,  1.27s/it]"
     ]
    },
    {
     "name": "stdout",
     "output_type": "stream",
     "text": [
      "                   all          9         47      0.973      0.979      0.984      0.454\n"
     ]
    },
    {
     "name": "stderr",
     "output_type": "stream",
     "text": [
      "\n"
     ]
    },
    {
     "name": "stdout",
     "output_type": "stream",
     "text": [
      "\n",
      "      Epoch    GPU_mem   box_loss   cls_loss   dfl_loss  Instances       Size\n"
     ]
    },
    {
     "name": "stderr",
     "output_type": "stream",
     "text": [
      "     61/100         0G      1.663     0.7971      1.058         53        640: 100%|██████████| 7/7 [00:41<00:00,  5.92s/it]\n",
      "                 Class     Images  Instances      Box(P          R      mAP50  mAP50-95): 100%|██████████| 1/1 [00:01<00:00,  1.27s/it]"
     ]
    },
    {
     "name": "stdout",
     "output_type": "stream",
     "text": [
      "                   all          9         47      0.953      0.957      0.937      0.451\n"
     ]
    },
    {
     "name": "stderr",
     "output_type": "stream",
     "text": [
      "\n"
     ]
    },
    {
     "name": "stdout",
     "output_type": "stream",
     "text": [
      "\n",
      "      Epoch    GPU_mem   box_loss   cls_loss   dfl_loss  Instances       Size\n"
     ]
    },
    {
     "name": "stderr",
     "output_type": "stream",
     "text": [
      "     62/100         0G      1.676     0.7895      1.086         31        640: 100%|██████████| 7/7 [00:40<00:00,  5.81s/it]\n",
      "                 Class     Images  Instances      Box(P          R      mAP50  mAP50-95): 100%|██████████| 1/1 [00:01<00:00,  1.30s/it]"
     ]
    },
    {
     "name": "stdout",
     "output_type": "stream",
     "text": [
      "                   all          9         47      0.942      0.936      0.905      0.423\n"
     ]
    },
    {
     "name": "stderr",
     "output_type": "stream",
     "text": [
      "\n"
     ]
    },
    {
     "name": "stdout",
     "output_type": "stream",
     "text": [
      "\n",
      "      Epoch    GPU_mem   box_loss   cls_loss   dfl_loss  Instances       Size\n"
     ]
    },
    {
     "name": "stderr",
     "output_type": "stream",
     "text": [
      "     63/100         0G      1.591     0.7649      1.059         28        640: 100%|██████████| 7/7 [00:40<00:00,  5.80s/it]\n",
      "                 Class     Images  Instances      Box(P          R      mAP50  mAP50-95): 100%|██████████| 1/1 [00:01<00:00,  1.25s/it]"
     ]
    },
    {
     "name": "stdout",
     "output_type": "stream",
     "text": [
      "                   all          9         47      0.933      0.936      0.951      0.451\n"
     ]
    },
    {
     "name": "stderr",
     "output_type": "stream",
     "text": [
      "\n"
     ]
    },
    {
     "name": "stdout",
     "output_type": "stream",
     "text": [
      "\n",
      "      Epoch    GPU_mem   box_loss   cls_loss   dfl_loss  Instances       Size\n"
     ]
    },
    {
     "name": "stderr",
     "output_type": "stream",
     "text": [
      "     64/100         0G      1.643      0.791      1.068         29        640: 100%|██████████| 7/7 [00:41<00:00,  5.88s/it]\n",
      "                 Class     Images  Instances      Box(P          R      mAP50  mAP50-95): 100%|██████████| 1/1 [00:01<00:00,  1.30s/it]"
     ]
    },
    {
     "name": "stdout",
     "output_type": "stream",
     "text": [
      "                   all          9         47      0.897      0.936      0.941      0.429\n"
     ]
    },
    {
     "name": "stderr",
     "output_type": "stream",
     "text": [
      "\n"
     ]
    },
    {
     "name": "stdout",
     "output_type": "stream",
     "text": [
      "\n",
      "      Epoch    GPU_mem   box_loss   cls_loss   dfl_loss  Instances       Size\n"
     ]
    },
    {
     "name": "stderr",
     "output_type": "stream",
     "text": [
      "     65/100         0G      1.604     0.7696      1.045         69        640: 100%|██████████| 7/7 [00:41<00:00,  5.90s/it]\n",
      "                 Class     Images  Instances      Box(P          R      mAP50  mAP50-95): 100%|██████████| 1/1 [00:01<00:00,  1.27s/it]"
     ]
    },
    {
     "name": "stdout",
     "output_type": "stream",
     "text": [
      "                   all          9         47      0.875      0.915      0.905      0.431\n"
     ]
    },
    {
     "name": "stderr",
     "output_type": "stream",
     "text": [
      "\n"
     ]
    },
    {
     "name": "stdout",
     "output_type": "stream",
     "text": [
      "\n",
      "      Epoch    GPU_mem   box_loss   cls_loss   dfl_loss  Instances       Size\n"
     ]
    },
    {
     "name": "stderr",
     "output_type": "stream",
     "text": [
      "     66/100         0G      1.663     0.7958       1.06         30        640: 100%|██████████| 7/7 [00:48<00:00,  6.96s/it]\n",
      "                 Class     Images  Instances      Box(P          R      mAP50  mAP50-95): 100%|██████████| 1/1 [00:01<00:00,  1.43s/it]"
     ]
    },
    {
     "name": "stdout",
     "output_type": "stream",
     "text": [
      "                   all          9         47      0.878      0.936      0.933      0.433\n"
     ]
    },
    {
     "name": "stderr",
     "output_type": "stream",
     "text": [
      "\n"
     ]
    },
    {
     "name": "stdout",
     "output_type": "stream",
     "text": [
      "\n",
      "      Epoch    GPU_mem   box_loss   cls_loss   dfl_loss  Instances       Size\n"
     ]
    },
    {
     "name": "stderr",
     "output_type": "stream",
     "text": [
      "     67/100         0G      1.627     0.7831      1.028         57        640: 100%|██████████| 7/7 [10:00<00:00, 85.84s/it] \n",
      "                 Class     Images  Instances      Box(P          R      mAP50  mAP50-95): 100%|██████████| 1/1 [00:01<00:00,  1.53s/it]"
     ]
    },
    {
     "name": "stdout",
     "output_type": "stream",
     "text": [
      "                   all          9         47      0.877      0.936      0.926      0.424\n"
     ]
    },
    {
     "name": "stderr",
     "output_type": "stream",
     "text": [
      "\n"
     ]
    },
    {
     "name": "stdout",
     "output_type": "stream",
     "text": [
      "\n",
      "      Epoch    GPU_mem   box_loss   cls_loss   dfl_loss  Instances       Size\n"
     ]
    },
    {
     "name": "stderr",
     "output_type": "stream",
     "text": [
      "     68/100         0G      1.629     0.7736      1.037         49        640: 100%|██████████| 7/7 [00:55<00:00,  7.95s/it]\n",
      "                 Class     Images  Instances      Box(P          R      mAP50  mAP50-95): 100%|██████████| 1/1 [00:02<00:00,  2.23s/it]"
     ]
    },
    {
     "name": "stdout",
     "output_type": "stream",
     "text": [
      "                   all          9         47      0.937      0.953       0.92      0.423\n"
     ]
    },
    {
     "name": "stderr",
     "output_type": "stream",
     "text": [
      "\n"
     ]
    },
    {
     "name": "stdout",
     "output_type": "stream",
     "text": [
      "\n",
      "      Epoch    GPU_mem   box_loss   cls_loss   dfl_loss  Instances       Size\n"
     ]
    },
    {
     "name": "stderr",
     "output_type": "stream",
     "text": [
      "     69/100         0G      1.625      0.766      1.042         42        640: 100%|██████████| 7/7 [00:56<00:00,  8.08s/it]\n",
      "                 Class     Images  Instances      Box(P          R      mAP50  mAP50-95): 100%|██████████| 1/1 [00:01<00:00,  1.58s/it]"
     ]
    },
    {
     "name": "stdout",
     "output_type": "stream",
     "text": [
      "                   all          9         47      0.932      0.957       0.94      0.441\n"
     ]
    },
    {
     "name": "stderr",
     "output_type": "stream",
     "text": [
      "\n"
     ]
    },
    {
     "name": "stdout",
     "output_type": "stream",
     "text": [
      "\n",
      "      Epoch    GPU_mem   box_loss   cls_loss   dfl_loss  Instances       Size\n"
     ]
    },
    {
     "name": "stderr",
     "output_type": "stream",
     "text": [
      "     70/100         0G      1.564     0.7505      1.029         29        640: 100%|██████████| 7/7 [00:45<00:00,  6.52s/it]\n",
      "                 Class     Images  Instances      Box(P          R      mAP50  mAP50-95): 100%|██████████| 1/1 [00:01<00:00,  1.38s/it]"
     ]
    },
    {
     "name": "stdout",
     "output_type": "stream",
     "text": [
      "                   all          9         47      0.931      0.936      0.929      0.458\n"
     ]
    },
    {
     "name": "stderr",
     "output_type": "stream",
     "text": [
      "\n"
     ]
    },
    {
     "name": "stdout",
     "output_type": "stream",
     "text": [
      "\n",
      "      Epoch    GPU_mem   box_loss   cls_loss   dfl_loss  Instances       Size\n"
     ]
    },
    {
     "name": "stderr",
     "output_type": "stream",
     "text": [
      "     71/100         0G      1.572     0.7306      1.045         82        640: 100%|██████████| 7/7 [00:46<00:00,  6.70s/it]\n",
      "                 Class     Images  Instances      Box(P          R      mAP50  mAP50-95): 100%|██████████| 1/1 [00:01<00:00,  1.39s/it]"
     ]
    },
    {
     "name": "stdout",
     "output_type": "stream",
     "text": [
      "                   all          9         47      0.933      0.936       0.93      0.457\n"
     ]
    },
    {
     "name": "stderr",
     "output_type": "stream",
     "text": [
      "\n"
     ]
    },
    {
     "name": "stdout",
     "output_type": "stream",
     "text": [
      "\n",
      "      Epoch    GPU_mem   box_loss   cls_loss   dfl_loss  Instances       Size\n"
     ]
    },
    {
     "name": "stderr",
     "output_type": "stream",
     "text": [
      "     72/100         0G      1.529     0.7196      1.026         74        640: 100%|██████████| 7/7 [00:44<00:00,  6.39s/it]\n",
      "                 Class     Images  Instances      Box(P          R      mAP50  mAP50-95): 100%|██████████| 1/1 [00:01<00:00,  1.62s/it]"
     ]
    },
    {
     "name": "stdout",
     "output_type": "stream",
     "text": [
      "                   all          9         47      0.948      0.936      0.959      0.444\n"
     ]
    },
    {
     "name": "stderr",
     "output_type": "stream",
     "text": [
      "\n"
     ]
    },
    {
     "name": "stdout",
     "output_type": "stream",
     "text": [
      "\n",
      "      Epoch    GPU_mem   box_loss   cls_loss   dfl_loss  Instances       Size\n"
     ]
    },
    {
     "name": "stderr",
     "output_type": "stream",
     "text": [
      "     73/100         0G      1.592     0.7486      1.006         61        640: 100%|██████████| 7/7 [00:48<00:00,  6.97s/it]\n",
      "                 Class     Images  Instances      Box(P          R      mAP50  mAP50-95): 100%|██████████| 1/1 [00:01<00:00,  1.43s/it]"
     ]
    },
    {
     "name": "stdout",
     "output_type": "stream",
     "text": [
      "                   all          9         47      0.935      0.936      0.944      0.424\n"
     ]
    },
    {
     "name": "stderr",
     "output_type": "stream",
     "text": [
      "\n"
     ]
    },
    {
     "name": "stdout",
     "output_type": "stream",
     "text": [
      "\n",
      "      Epoch    GPU_mem   box_loss   cls_loss   dfl_loss  Instances       Size\n"
     ]
    },
    {
     "name": "stderr",
     "output_type": "stream",
     "text": [
      "     74/100         0G      1.591     0.7297      1.008         80        640: 100%|██████████| 7/7 [00:47<00:00,  6.74s/it]\n",
      "                 Class     Images  Instances      Box(P          R      mAP50  mAP50-95): 100%|██████████| 1/1 [00:01<00:00,  1.32s/it]"
     ]
    },
    {
     "name": "stdout",
     "output_type": "stream",
     "text": [
      "                   all          9         47      0.954      0.957      0.951      0.406\n"
     ]
    },
    {
     "name": "stderr",
     "output_type": "stream",
     "text": [
      "\n"
     ]
    },
    {
     "name": "stdout",
     "output_type": "stream",
     "text": [
      "\n",
      "      Epoch    GPU_mem   box_loss   cls_loss   dfl_loss  Instances       Size\n"
     ]
    },
    {
     "name": "stderr",
     "output_type": "stream",
     "text": [
      "     75/100         0G      1.621     0.7634      1.033         42        640: 100%|██████████| 7/7 [00:47<00:00,  6.75s/it]\n",
      "                 Class     Images  Instances      Box(P          R      mAP50  mAP50-95): 100%|██████████| 1/1 [00:01<00:00,  1.46s/it]"
     ]
    },
    {
     "name": "stdout",
     "output_type": "stream",
     "text": [
      "                   all          9         47      0.953      0.957      0.954      0.394\n"
     ]
    },
    {
     "name": "stderr",
     "output_type": "stream",
     "text": [
      "\n"
     ]
    },
    {
     "name": "stdout",
     "output_type": "stream",
     "text": [
      "\n",
      "      Epoch    GPU_mem   box_loss   cls_loss   dfl_loss  Instances       Size\n"
     ]
    },
    {
     "name": "stderr",
     "output_type": "stream",
     "text": [
      "     76/100         0G      1.479     0.7071      1.007         33        640: 100%|██████████| 7/7 [00:43<00:00,  6.16s/it]\n",
      "                 Class     Images  Instances      Box(P          R      mAP50  mAP50-95): 100%|██████████| 1/1 [00:01<00:00,  1.36s/it]"
     ]
    },
    {
     "name": "stdout",
     "output_type": "stream",
     "text": [
      "                   all          9         47      0.922      0.936       0.94      0.393\n"
     ]
    },
    {
     "name": "stderr",
     "output_type": "stream",
     "text": [
      "\n"
     ]
    },
    {
     "name": "stdout",
     "output_type": "stream",
     "text": [
      "\n",
      "      Epoch    GPU_mem   box_loss   cls_loss   dfl_loss  Instances       Size\n"
     ]
    },
    {
     "name": "stderr",
     "output_type": "stream",
     "text": [
      "     77/100         0G      1.539     0.7189      1.013         33        640: 100%|██████████| 7/7 [00:42<00:00,  6.02s/it]\n",
      "                 Class     Images  Instances      Box(P          R      mAP50  mAP50-95): 100%|██████████| 1/1 [00:01<00:00,  1.30s/it]"
     ]
    },
    {
     "name": "stdout",
     "output_type": "stream",
     "text": [
      "                   all          9         47      0.933      0.936      0.944      0.388\n"
     ]
    },
    {
     "name": "stderr",
     "output_type": "stream",
     "text": [
      "\n"
     ]
    },
    {
     "name": "stdout",
     "output_type": "stream",
     "text": [
      "\n",
      "      Epoch    GPU_mem   box_loss   cls_loss   dfl_loss  Instances       Size\n"
     ]
    },
    {
     "name": "stderr",
     "output_type": "stream",
     "text": [
      "     78/100         0G      1.601     0.7362      1.013         44        640: 100%|██████████| 7/7 [00:43<00:00,  6.21s/it]\n",
      "                 Class     Images  Instances      Box(P          R      mAP50  mAP50-95): 100%|██████████| 1/1 [00:01<00:00,  1.33s/it]"
     ]
    },
    {
     "name": "stdout",
     "output_type": "stream",
     "text": [
      "                   all          9         47      0.912      0.915      0.915      0.396\n"
     ]
    },
    {
     "name": "stderr",
     "output_type": "stream",
     "text": [
      "\n"
     ]
    },
    {
     "name": "stdout",
     "output_type": "stream",
     "text": [
      "\n",
      "      Epoch    GPU_mem   box_loss   cls_loss   dfl_loss  Instances       Size\n"
     ]
    },
    {
     "name": "stderr",
     "output_type": "stream",
     "text": [
      "     79/100         0G      1.569     0.7196      1.037         35        640: 100%|██████████| 7/7 [00:44<00:00,  6.37s/it]\n",
      "                 Class     Images  Instances      Box(P          R      mAP50  mAP50-95): 100%|██████████| 1/1 [00:01<00:00,  1.46s/it]"
     ]
    },
    {
     "name": "stdout",
     "output_type": "stream",
     "text": [
      "                   all          9         47      0.913      0.915      0.914      0.403\n"
     ]
    },
    {
     "name": "stderr",
     "output_type": "stream",
     "text": [
      "\n"
     ]
    },
    {
     "name": "stdout",
     "output_type": "stream",
     "text": [
      "\n",
      "      Epoch    GPU_mem   box_loss   cls_loss   dfl_loss  Instances       Size\n"
     ]
    },
    {
     "name": "stderr",
     "output_type": "stream",
     "text": [
      "     80/100         0G      1.617     0.7217      1.045         62        640: 100%|██████████| 7/7 [00:44<00:00,  6.38s/it]\n",
      "                 Class     Images  Instances      Box(P          R      mAP50  mAP50-95): 100%|██████████| 1/1 [00:01<00:00,  1.45s/it]"
     ]
    },
    {
     "name": "stdout",
     "output_type": "stream",
     "text": [
      "                   all          9         47       0.91      0.915      0.915      0.429\n"
     ]
    },
    {
     "name": "stderr",
     "output_type": "stream",
     "text": [
      "\n"
     ]
    },
    {
     "name": "stdout",
     "output_type": "stream",
     "text": [
      "\n",
      "      Epoch    GPU_mem   box_loss   cls_loss   dfl_loss  Instances       Size\n"
     ]
    },
    {
     "name": "stderr",
     "output_type": "stream",
     "text": [
      "     81/100         0G      1.557     0.7186      1.035         24        640: 100%|██████████| 7/7 [00:42<00:00,  6.09s/it]\n",
      "                 Class     Images  Instances      Box(P          R      mAP50  mAP50-95): 100%|██████████| 1/1 [00:01<00:00,  1.36s/it]"
     ]
    },
    {
     "name": "stdout",
     "output_type": "stream",
     "text": [
      "                   all          9         47      0.932      0.936      0.921      0.445\n"
     ]
    },
    {
     "name": "stderr",
     "output_type": "stream",
     "text": [
      "\n"
     ]
    },
    {
     "name": "stdout",
     "output_type": "stream",
     "text": [
      "\n",
      "      Epoch    GPU_mem   box_loss   cls_loss   dfl_loss  Instances       Size\n"
     ]
    },
    {
     "name": "stderr",
     "output_type": "stream",
     "text": [
      "     82/100         0G        1.6     0.7379      1.055         46        640: 100%|██████████| 7/7 [00:43<00:00,  6.27s/it]\n",
      "                 Class     Images  Instances      Box(P          R      mAP50  mAP50-95): 100%|██████████| 1/1 [00:01<00:00,  1.48s/it]"
     ]
    },
    {
     "name": "stdout",
     "output_type": "stream",
     "text": [
      "                   all          9         47      0.952      0.957      0.943      0.457\n"
     ]
    },
    {
     "name": "stderr",
     "output_type": "stream",
     "text": [
      "\n"
     ]
    },
    {
     "name": "stdout",
     "output_type": "stream",
     "text": [
      "\n",
      "      Epoch    GPU_mem   box_loss   cls_loss   dfl_loss  Instances       Size\n"
     ]
    },
    {
     "name": "stderr",
     "output_type": "stream",
     "text": [
      "     83/100         0G      1.543     0.7046     0.9995         51        640: 100%|██████████| 7/7 [00:47<00:00,  6.81s/it]\n",
      "                 Class     Images  Instances      Box(P          R      mAP50  mAP50-95): 100%|██████████| 1/1 [00:01<00:00,  1.52s/it]"
     ]
    },
    {
     "name": "stdout",
     "output_type": "stream",
     "text": [
      "                   all          9         47      0.953      0.957      0.941      0.409\n"
     ]
    },
    {
     "name": "stderr",
     "output_type": "stream",
     "text": [
      "\n"
     ]
    },
    {
     "name": "stdout",
     "output_type": "stream",
     "text": [
      "\n",
      "      Epoch    GPU_mem   box_loss   cls_loss   dfl_loss  Instances       Size\n"
     ]
    },
    {
     "name": "stderr",
     "output_type": "stream",
     "text": [
      "     84/100         0G      1.494     0.7101      1.011         41        640: 100%|██████████| 7/7 [00:46<00:00,  6.62s/it]\n",
      "                 Class     Images  Instances      Box(P          R      mAP50  mAP50-95): 100%|██████████| 1/1 [00:01<00:00,  1.37s/it]"
     ]
    },
    {
     "name": "stdout",
     "output_type": "stream",
     "text": [
      "                   all          9         47      0.954      0.957      0.941      0.388\n"
     ]
    },
    {
     "name": "stderr",
     "output_type": "stream",
     "text": [
      "\n"
     ]
    },
    {
     "name": "stdout",
     "output_type": "stream",
     "text": [
      "\n",
      "      Epoch    GPU_mem   box_loss   cls_loss   dfl_loss  Instances       Size\n"
     ]
    },
    {
     "name": "stderr",
     "output_type": "stream",
     "text": [
      "     85/100         0G        1.5     0.6995      1.017         60        640: 100%|██████████| 7/7 [00:43<00:00,  6.16s/it]\n",
      "                 Class     Images  Instances      Box(P          R      mAP50  mAP50-95): 100%|██████████| 1/1 [00:01<00:00,  1.46s/it]"
     ]
    },
    {
     "name": "stdout",
     "output_type": "stream",
     "text": [
      "                   all          9         47      0.954      0.957      0.941      0.406\n"
     ]
    },
    {
     "name": "stderr",
     "output_type": "stream",
     "text": [
      "\n"
     ]
    },
    {
     "name": "stdout",
     "output_type": "stream",
     "text": [
      "\n",
      "      Epoch    GPU_mem   box_loss   cls_loss   dfl_loss  Instances       Size\n"
     ]
    },
    {
     "name": "stderr",
     "output_type": "stream",
     "text": [
      "     86/100         0G       1.54     0.7159     0.9891         85        640: 100%|██████████| 7/7 [00:43<00:00,  6.26s/it]\n",
      "                 Class     Images  Instances      Box(P          R      mAP50  mAP50-95): 100%|██████████| 1/1 [00:01<00:00,  1.34s/it]"
     ]
    },
    {
     "name": "stdout",
     "output_type": "stream",
     "text": [
      "                   all          9         47      0.954      0.957      0.944      0.444\n"
     ]
    },
    {
     "name": "stderr",
     "output_type": "stream",
     "text": [
      "\n"
     ]
    },
    {
     "name": "stdout",
     "output_type": "stream",
     "text": [
      "\n",
      "      Epoch    GPU_mem   box_loss   cls_loss   dfl_loss  Instances       Size\n"
     ]
    },
    {
     "name": "stderr",
     "output_type": "stream",
     "text": [
      "     87/100         0G      1.481     0.6821      1.002         32        640: 100%|██████████| 7/7 [00:42<00:00,  6.13s/it]\n",
      "                 Class     Images  Instances      Box(P          R      mAP50  mAP50-95): 100%|██████████| 1/1 [00:01<00:00,  1.35s/it]"
     ]
    },
    {
     "name": "stdout",
     "output_type": "stream",
     "text": [
      "                   all          9         47      0.955      0.957      0.945      0.448\n"
     ]
    },
    {
     "name": "stderr",
     "output_type": "stream",
     "text": [
      "\n"
     ]
    },
    {
     "name": "stdout",
     "output_type": "stream",
     "text": [
      "\n",
      "      Epoch    GPU_mem   box_loss   cls_loss   dfl_loss  Instances       Size\n"
     ]
    },
    {
     "name": "stderr",
     "output_type": "stream",
     "text": [
      "     88/100         0G      1.461      0.676      1.005         59        640: 100%|██████████| 7/7 [00:41<00:00,  5.93s/it]\n",
      "                 Class     Images  Instances      Box(P          R      mAP50  mAP50-95): 100%|██████████| 1/1 [00:01<00:00,  1.30s/it]"
     ]
    },
    {
     "name": "stdout",
     "output_type": "stream",
     "text": [
      "                   all          9         47      0.976      0.979      0.977      0.429\n"
     ]
    },
    {
     "name": "stderr",
     "output_type": "stream",
     "text": [
      "\n"
     ]
    },
    {
     "name": "stdout",
     "output_type": "stream",
     "text": [
      "\n",
      "      Epoch    GPU_mem   box_loss   cls_loss   dfl_loss  Instances       Size\n"
     ]
    },
    {
     "name": "stderr",
     "output_type": "stream",
     "text": [
      "     89/100         0G      1.533      0.705      1.022         55        640: 100%|██████████| 7/7 [00:45<00:00,  6.49s/it]\n",
      "                 Class     Images  Instances      Box(P          R      mAP50  mAP50-95): 100%|██████████| 1/1 [00:01<00:00,  1.32s/it]"
     ]
    },
    {
     "name": "stdout",
     "output_type": "stream",
     "text": [
      "                   all          9         47      0.954      0.957      0.939      0.419\n"
     ]
    },
    {
     "name": "stderr",
     "output_type": "stream",
     "text": [
      "\n"
     ]
    },
    {
     "name": "stdout",
     "output_type": "stream",
     "text": [
      "\n",
      "      Epoch    GPU_mem   box_loss   cls_loss   dfl_loss  Instances       Size\n"
     ]
    },
    {
     "name": "stderr",
     "output_type": "stream",
     "text": [
      "     90/100         0G      1.506     0.6922     0.9972         72        640: 100%|██████████| 7/7 [00:43<00:00,  6.17s/it]\n",
      "                 Class     Images  Instances      Box(P          R      mAP50  mAP50-95): 100%|██████████| 1/1 [00:01<00:00,  1.34s/it]"
     ]
    },
    {
     "name": "stdout",
     "output_type": "stream",
     "text": [
      "                   all          9         47      0.956      0.922      0.938      0.417\n"
     ]
    },
    {
     "name": "stderr",
     "output_type": "stream",
     "text": [
      "\n"
     ]
    },
    {
     "name": "stdout",
     "output_type": "stream",
     "text": [
      "Closing dataloader mosaic\n",
      "\n",
      "      Epoch    GPU_mem   box_loss   cls_loss   dfl_loss  Instances       Size\n"
     ]
    },
    {
     "name": "stderr",
     "output_type": "stream",
     "text": [
      "     91/100         0G      1.461      0.687      1.036         32        640: 100%|██████████| 7/7 [00:40<00:00,  5.82s/it]\n",
      "                 Class     Images  Instances      Box(P          R      mAP50  mAP50-95): 100%|██████████| 1/1 [00:01<00:00,  1.26s/it]"
     ]
    },
    {
     "name": "stdout",
     "output_type": "stream",
     "text": [
      "                   all          9         47      0.969      0.957      0.946      0.444\n"
     ]
    },
    {
     "name": "stderr",
     "output_type": "stream",
     "text": [
      "\n"
     ]
    },
    {
     "name": "stdout",
     "output_type": "stream",
     "text": [
      "\n",
      "      Epoch    GPU_mem   box_loss   cls_loss   dfl_loss  Instances       Size\n"
     ]
    },
    {
     "name": "stderr",
     "output_type": "stream",
     "text": [
      "     92/100         0G      1.455     0.6843      1.031         37        640: 100%|██████████| 7/7 [00:41<00:00,  5.89s/it]\n",
      "                 Class     Images  Instances      Box(P          R      mAP50  mAP50-95): 100%|██████████| 1/1 [00:01<00:00,  1.30s/it]"
     ]
    },
    {
     "name": "stdout",
     "output_type": "stream",
     "text": [
      "                   all          9         47      0.964      0.957      0.971      0.464\n"
     ]
    },
    {
     "name": "stderr",
     "output_type": "stream",
     "text": [
      "\n"
     ]
    },
    {
     "name": "stdout",
     "output_type": "stream",
     "text": [
      "\n",
      "      Epoch    GPU_mem   box_loss   cls_loss   dfl_loss  Instances       Size\n"
     ]
    },
    {
     "name": "stderr",
     "output_type": "stream",
     "text": [
      "     93/100         0G       1.47     0.6812      1.046         46        640: 100%|██████████| 7/7 [00:41<00:00,  5.86s/it]\n",
      "                 Class     Images  Instances      Box(P          R      mAP50  mAP50-95): 100%|██████████| 1/1 [00:01<00:00,  1.29s/it]"
     ]
    },
    {
     "name": "stdout",
     "output_type": "stream",
     "text": [
      "                   all          9         47      0.962      0.957      0.972       0.46\n"
     ]
    },
    {
     "name": "stderr",
     "output_type": "stream",
     "text": [
      "\n"
     ]
    },
    {
     "name": "stdout",
     "output_type": "stream",
     "text": [
      "\n",
      "      Epoch    GPU_mem   box_loss   cls_loss   dfl_loss  Instances       Size\n"
     ]
    },
    {
     "name": "stderr",
     "output_type": "stream",
     "text": [
      "     94/100         0G      1.479     0.6777      1.023         32        640: 100%|██████████| 7/7 [00:39<00:00,  5.62s/it]\n",
      "                 Class     Images  Instances      Box(P          R      mAP50  mAP50-95): 100%|██████████| 1/1 [00:01<00:00,  1.54s/it]"
     ]
    },
    {
     "name": "stdout",
     "output_type": "stream",
     "text": [
      "                   all          9         47      0.936      0.936      0.947       0.45\n"
     ]
    },
    {
     "name": "stderr",
     "output_type": "stream",
     "text": [
      "\n"
     ]
    },
    {
     "name": "stdout",
     "output_type": "stream",
     "text": [
      "\n",
      "      Epoch    GPU_mem   box_loss   cls_loss   dfl_loss  Instances       Size\n"
     ]
    },
    {
     "name": "stderr",
     "output_type": "stream",
     "text": [
      "     95/100         0G      1.516     0.6686      1.067         33        640: 100%|██████████| 7/7 [00:43<00:00,  6.27s/it]\n",
      "                 Class     Images  Instances      Box(P          R      mAP50  mAP50-95): 100%|██████████| 1/1 [00:01<00:00,  1.44s/it]"
     ]
    },
    {
     "name": "stdout",
     "output_type": "stream",
     "text": [
      "                   all          9         47      0.957      0.957      0.954      0.441\n"
     ]
    },
    {
     "name": "stderr",
     "output_type": "stream",
     "text": [
      "\n"
     ]
    },
    {
     "name": "stdout",
     "output_type": "stream",
     "text": [
      "\n",
      "      Epoch    GPU_mem   box_loss   cls_loss   dfl_loss  Instances       Size\n"
     ]
    },
    {
     "name": "stderr",
     "output_type": "stream",
     "text": [
      "     96/100         0G       1.48     0.6711      1.034         22        640: 100%|██████████| 7/7 [00:42<00:00,  6.12s/it]\n",
      "                 Class     Images  Instances      Box(P          R      mAP50  mAP50-95): 100%|██████████| 1/1 [00:01<00:00,  1.41s/it]"
     ]
    },
    {
     "name": "stdout",
     "output_type": "stream",
     "text": [
      "                   all          9         47      0.957      0.957      0.952      0.453\n"
     ]
    },
    {
     "name": "stderr",
     "output_type": "stream",
     "text": [
      "\n"
     ]
    },
    {
     "name": "stdout",
     "output_type": "stream",
     "text": [
      "\n",
      "      Epoch    GPU_mem   box_loss   cls_loss   dfl_loss  Instances       Size\n"
     ]
    },
    {
     "name": "stderr",
     "output_type": "stream",
     "text": [
      "     97/100         0G      1.502      0.682      1.036         50        640: 100%|██████████| 7/7 [00:41<00:00,  5.97s/it]\n",
      "                 Class     Images  Instances      Box(P          R      mAP50  mAP50-95): 100%|██████████| 1/1 [00:01<00:00,  1.36s/it]"
     ]
    },
    {
     "name": "stdout",
     "output_type": "stream",
     "text": [
      "                   all          9         47      0.956      0.957      0.952       0.47\n"
     ]
    },
    {
     "name": "stderr",
     "output_type": "stream",
     "text": [
      "\n"
     ]
    },
    {
     "name": "stdout",
     "output_type": "stream",
     "text": [
      "\n",
      "      Epoch    GPU_mem   box_loss   cls_loss   dfl_loss  Instances       Size\n"
     ]
    },
    {
     "name": "stderr",
     "output_type": "stream",
     "text": [
      "     98/100         0G      1.462     0.6636       1.07         28        640: 100%|██████████| 7/7 [00:43<00:00,  6.19s/it]\n",
      "                 Class     Images  Instances      Box(P          R      mAP50  mAP50-95): 100%|██████████| 1/1 [00:01<00:00,  1.53s/it]"
     ]
    },
    {
     "name": "stdout",
     "output_type": "stream",
     "text": [
      "                   all          9         47      0.977      0.979      0.978      0.475\n"
     ]
    },
    {
     "name": "stderr",
     "output_type": "stream",
     "text": [
      "\n"
     ]
    },
    {
     "name": "stdout",
     "output_type": "stream",
     "text": [
      "\n",
      "      Epoch    GPU_mem   box_loss   cls_loss   dfl_loss  Instances       Size\n"
     ]
    },
    {
     "name": "stderr",
     "output_type": "stream",
     "text": [
      "     99/100         0G      1.413     0.6399      1.021         36        640: 100%|██████████| 7/7 [00:51<00:00,  7.30s/it]\n",
      "                 Class     Images  Instances      Box(P          R      mAP50  mAP50-95): 100%|██████████| 1/1 [00:02<00:00,  2.26s/it]"
     ]
    },
    {
     "name": "stdout",
     "output_type": "stream",
     "text": [
      "                   all          9         47      0.977      0.979      0.978      0.473\n"
     ]
    },
    {
     "name": "stderr",
     "output_type": "stream",
     "text": [
      "\n"
     ]
    },
    {
     "name": "stdout",
     "output_type": "stream",
     "text": [
      "\n",
      "      Epoch    GPU_mem   box_loss   cls_loss   dfl_loss  Instances       Size\n"
     ]
    },
    {
     "name": "stderr",
     "output_type": "stream",
     "text": [
      "    100/100         0G      1.463     0.6548      1.063         35        640: 100%|██████████| 7/7 [00:59<00:00,  8.57s/it]\n",
      "                 Class     Images  Instances      Box(P          R      mAP50  mAP50-95): 100%|██████████| 1/1 [00:01<00:00,  1.67s/it]"
     ]
    },
    {
     "name": "stdout",
     "output_type": "stream",
     "text": [
      "                   all          9         47      0.954      0.957      0.959      0.473\n"
     ]
    },
    {
     "name": "stderr",
     "output_type": "stream",
     "text": [
      "\n"
     ]
    },
    {
     "name": "stdout",
     "output_type": "stream",
     "text": [
      "\n",
      "100 epochs completed in 1.485 hours.\n",
      "Optimizer stripped from runs\\detect\\garbage_detection5\\weights\\last.pt, 6.3MB\n",
      "Optimizer stripped from runs\\detect\\garbage_detection5\\weights\\best.pt, 6.2MB\n",
      "\n",
      "Validating runs\\detect\\garbage_detection5\\weights\\best.pt...\n",
      "Ultralytics YOLOv8.2.62  Python-3.11.2 torch-2.2.1+cpu CPU (AMD Ryzen 5 5600H with Radeon Graphics)\n",
      "Model summary (fused): 168 layers, 3,005,843 parameters, 0 gradients, 8.1 GFLOPs\n"
     ]
    },
    {
     "name": "stderr",
     "output_type": "stream",
     "text": [
      "                 Class     Images  Instances      Box(P          R      mAP50  mAP50-95): 100%|██████████| 1/1 [00:01<00:00,  1.29s/it]\n"
     ]
    },
    {
     "name": "stdout",
     "output_type": "stream",
     "text": [
      "                   all          9         47      0.955      0.957      0.969      0.486\n",
      "Speed: 10.7ms preprocess, 117.9ms inference, 0.0ms loss, 1.5ms postprocess per image\n",
      "Results saved to \u001b[1mruns\\detect\\garbage_detection5\u001b[0m\n"
     ]
    }
   ],
   "source": [
    "# Train the YOLOv8 model\n",
    "model = YOLO('yolov8n.pt')  # Load a pretrained YOLOv8 model\n",
    "\n",
    "# Train the model on the dataset\n",
    "results = model.train(data='D:/multi-agent/dataset_v2/data.yaml', epochs=100, imgsz=640, batch=16,\n",
    "    name='garbage_detection', pretrained=True)\n",
    "\n",
    "# Save the trained model \n",
    "model.save('model/yolov8_garbage_detection.pt')"
   ]
  },
  {
   "cell_type": "code",
   "execution_count": 11,
   "metadata": {},
   "outputs": [
    {
     "name": "stdout",
     "output_type": "stream",
     "text": [
      "Ultralytics YOLOv8.2.62  Python-3.11.2 torch-2.2.1+cpu CPU (AMD Ryzen 5 5600H with Radeon Graphics)\n"
     ]
    },
    {
     "name": "stderr",
     "output_type": "stream",
     "text": [
      "\u001b[34m\u001b[1mval: \u001b[0mScanning D:\\multi-agent\\dataset_v2\\valid\\labels.cache... 9 images, 0 backgrounds, 0 corrupt: 100%|██████████| 9/9 [00:00<?, ?it/s]\n",
      "                 Class     Images  Instances      Box(P          R      mAP50  mAP50-95): 100%|██████████| 1/1 [00:01<00:00,  1.17s/it]\n"
     ]
    },
    {
     "name": "stdout",
     "output_type": "stream",
     "text": [
      "                   all          9         47      0.955      0.957      0.969      0.486\n",
      "Speed: 4.3ms preprocess, 115.9ms inference, 0.0ms loss, 1.1ms postprocess per image\n",
      "Results saved to \u001b[1mruns\\detect\\garbage_detection53\u001b[0m\n"
     ]
    },
    {
     "data": {
      "text/plain": [
       "ultralytics.utils.metrics.DetMetrics object with attributes:\n",
       "\n",
       "ap_class_index: array([0])\n",
       "box: ultralytics.utils.metrics.Metric object\n",
       "confusion_matrix: <ultralytics.utils.metrics.ConfusionMatrix object at 0x0000022A1D7F92D0>\n",
       "curves: ['Precision-Recall(B)', 'F1-Confidence(B)', 'Precision-Confidence(B)', 'Recall-Confidence(B)']\n",
       "curves_results: [[array([          0,    0.001001,    0.002002,    0.003003,    0.004004,    0.005005,    0.006006,    0.007007,    0.008008,    0.009009,     0.01001,    0.011011,    0.012012,    0.013013,    0.014014,    0.015015,    0.016016,    0.017017,    0.018018,    0.019019,     0.02002,    0.021021,    0.022022,    0.023023,\n",
       "          0.024024,    0.025025,    0.026026,    0.027027,    0.028028,    0.029029,     0.03003,    0.031031,    0.032032,    0.033033,    0.034034,    0.035035,    0.036036,    0.037037,    0.038038,    0.039039,     0.04004,    0.041041,    0.042042,    0.043043,    0.044044,    0.045045,    0.046046,    0.047047,\n",
       "          0.048048,    0.049049,     0.05005,    0.051051,    0.052052,    0.053053,    0.054054,    0.055055,    0.056056,    0.057057,    0.058058,    0.059059,     0.06006,    0.061061,    0.062062,    0.063063,    0.064064,    0.065065,    0.066066,    0.067067,    0.068068,    0.069069,     0.07007,    0.071071,\n",
       "          0.072072,    0.073073,    0.074074,    0.075075,    0.076076,    0.077077,    0.078078,    0.079079,     0.08008,    0.081081,    0.082082,    0.083083,    0.084084,    0.085085,    0.086086,    0.087087,    0.088088,    0.089089,     0.09009,    0.091091,    0.092092,    0.093093,    0.094094,    0.095095,\n",
       "          0.096096,    0.097097,    0.098098,    0.099099,      0.1001,      0.1011,      0.1021,      0.1031,      0.1041,     0.10511,     0.10611,     0.10711,     0.10811,     0.10911,     0.11011,     0.11111,     0.11211,     0.11311,     0.11411,     0.11512,     0.11612,     0.11712,     0.11812,     0.11912,\n",
       "           0.12012,     0.12112,     0.12212,     0.12312,     0.12412,     0.12513,     0.12613,     0.12713,     0.12813,     0.12913,     0.13013,     0.13113,     0.13213,     0.13313,     0.13413,     0.13514,     0.13614,     0.13714,     0.13814,     0.13914,     0.14014,     0.14114,     0.14214,     0.14314,\n",
       "           0.14414,     0.14515,     0.14615,     0.14715,     0.14815,     0.14915,     0.15015,     0.15115,     0.15215,     0.15315,     0.15415,     0.15516,     0.15616,     0.15716,     0.15816,     0.15916,     0.16016,     0.16116,     0.16216,     0.16316,     0.16416,     0.16517,     0.16617,     0.16717,\n",
       "           0.16817,     0.16917,     0.17017,     0.17117,     0.17217,     0.17317,     0.17417,     0.17518,     0.17618,     0.17718,     0.17818,     0.17918,     0.18018,     0.18118,     0.18218,     0.18318,     0.18418,     0.18519,     0.18619,     0.18719,     0.18819,     0.18919,     0.19019,     0.19119,\n",
       "           0.19219,     0.19319,     0.19419,      0.1952,      0.1962,      0.1972,      0.1982,      0.1992,      0.2002,      0.2012,      0.2022,      0.2032,      0.2042,     0.20521,     0.20621,     0.20721,     0.20821,     0.20921,     0.21021,     0.21121,     0.21221,     0.21321,     0.21421,     0.21522,\n",
       "           0.21622,     0.21722,     0.21822,     0.21922,     0.22022,     0.22122,     0.22222,     0.22322,     0.22422,     0.22523,     0.22623,     0.22723,     0.22823,     0.22923,     0.23023,     0.23123,     0.23223,     0.23323,     0.23423,     0.23524,     0.23624,     0.23724,     0.23824,     0.23924,\n",
       "           0.24024,     0.24124,     0.24224,     0.24324,     0.24424,     0.24525,     0.24625,     0.24725,     0.24825,     0.24925,     0.25025,     0.25125,     0.25225,     0.25325,     0.25425,     0.25526,     0.25626,     0.25726,     0.25826,     0.25926,     0.26026,     0.26126,     0.26226,     0.26326,\n",
       "           0.26426,     0.26527,     0.26627,     0.26727,     0.26827,     0.26927,     0.27027,     0.27127,     0.27227,     0.27327,     0.27427,     0.27528,     0.27628,     0.27728,     0.27828,     0.27928,     0.28028,     0.28128,     0.28228,     0.28328,     0.28428,     0.28529,     0.28629,     0.28729,\n",
       "           0.28829,     0.28929,     0.29029,     0.29129,     0.29229,     0.29329,     0.29429,      0.2953,      0.2963,      0.2973,      0.2983,      0.2993,      0.3003,      0.3013,      0.3023,      0.3033,      0.3043,     0.30531,     0.30631,     0.30731,     0.30831,     0.30931,     0.31031,     0.31131,\n",
       "           0.31231,     0.31331,     0.31431,     0.31532,     0.31632,     0.31732,     0.31832,     0.31932,     0.32032,     0.32132,     0.32232,     0.32332,     0.32432,     0.32533,     0.32633,     0.32733,     0.32833,     0.32933,     0.33033,     0.33133,     0.33233,     0.33333,     0.33433,     0.33534,\n",
       "           0.33634,     0.33734,     0.33834,     0.33934,     0.34034,     0.34134,     0.34234,     0.34334,     0.34434,     0.34535,     0.34635,     0.34735,     0.34835,     0.34935,     0.35035,     0.35135,     0.35235,     0.35335,     0.35435,     0.35536,     0.35636,     0.35736,     0.35836,     0.35936,\n",
       "           0.36036,     0.36136,     0.36236,     0.36336,     0.36436,     0.36537,     0.36637,     0.36737,     0.36837,     0.36937,     0.37037,     0.37137,     0.37237,     0.37337,     0.37437,     0.37538,     0.37638,     0.37738,     0.37838,     0.37938,     0.38038,     0.38138,     0.38238,     0.38338,\n",
       "           0.38438,     0.38539,     0.38639,     0.38739,     0.38839,     0.38939,     0.39039,     0.39139,     0.39239,     0.39339,     0.39439,      0.3954,      0.3964,      0.3974,      0.3984,      0.3994,      0.4004,      0.4014,      0.4024,      0.4034,      0.4044,     0.40541,     0.40641,     0.40741,\n",
       "           0.40841,     0.40941,     0.41041,     0.41141,     0.41241,     0.41341,     0.41441,     0.41542,     0.41642,     0.41742,     0.41842,     0.41942,     0.42042,     0.42142,     0.42242,     0.42342,     0.42442,     0.42543,     0.42643,     0.42743,     0.42843,     0.42943,     0.43043,     0.43143,\n",
       "           0.43243,     0.43343,     0.43443,     0.43544,     0.43644,     0.43744,     0.43844,     0.43944,     0.44044,     0.44144,     0.44244,     0.44344,     0.44444,     0.44545,     0.44645,     0.44745,     0.44845,     0.44945,     0.45045,     0.45145,     0.45245,     0.45345,     0.45445,     0.45546,\n",
       "           0.45646,     0.45746,     0.45846,     0.45946,     0.46046,     0.46146,     0.46246,     0.46346,     0.46446,     0.46547,     0.46647,     0.46747,     0.46847,     0.46947,     0.47047,     0.47147,     0.47247,     0.47347,     0.47447,     0.47548,     0.47648,     0.47748,     0.47848,     0.47948,\n",
       "           0.48048,     0.48148,     0.48248,     0.48348,     0.48448,     0.48549,     0.48649,     0.48749,     0.48849,     0.48949,     0.49049,     0.49149,     0.49249,     0.49349,     0.49449,      0.4955,      0.4965,      0.4975,      0.4985,      0.4995,      0.5005,      0.5015,      0.5025,      0.5035,\n",
       "            0.5045,     0.50551,     0.50651,     0.50751,     0.50851,     0.50951,     0.51051,     0.51151,     0.51251,     0.51351,     0.51451,     0.51552,     0.51652,     0.51752,     0.51852,     0.51952,     0.52052,     0.52152,     0.52252,     0.52352,     0.52452,     0.52553,     0.52653,     0.52753,\n",
       "           0.52853,     0.52953,     0.53053,     0.53153,     0.53253,     0.53353,     0.53453,     0.53554,     0.53654,     0.53754,     0.53854,     0.53954,     0.54054,     0.54154,     0.54254,     0.54354,     0.54454,     0.54555,     0.54655,     0.54755,     0.54855,     0.54955,     0.55055,     0.55155,\n",
       "           0.55255,     0.55355,     0.55455,     0.55556,     0.55656,     0.55756,     0.55856,     0.55956,     0.56056,     0.56156,     0.56256,     0.56356,     0.56456,     0.56557,     0.56657,     0.56757,     0.56857,     0.56957,     0.57057,     0.57157,     0.57257,     0.57357,     0.57457,     0.57558,\n",
       "           0.57658,     0.57758,     0.57858,     0.57958,     0.58058,     0.58158,     0.58258,     0.58358,     0.58458,     0.58559,     0.58659,     0.58759,     0.58859,     0.58959,     0.59059,     0.59159,     0.59259,     0.59359,     0.59459,      0.5956,      0.5966,      0.5976,      0.5986,      0.5996,\n",
       "            0.6006,      0.6016,      0.6026,      0.6036,      0.6046,     0.60561,     0.60661,     0.60761,     0.60861,     0.60961,     0.61061,     0.61161,     0.61261,     0.61361,     0.61461,     0.61562,     0.61662,     0.61762,     0.61862,     0.61962,     0.62062,     0.62162,     0.62262,     0.62362,\n",
       "           0.62462,     0.62563,     0.62663,     0.62763,     0.62863,     0.62963,     0.63063,     0.63163,     0.63263,     0.63363,     0.63463,     0.63564,     0.63664,     0.63764,     0.63864,     0.63964,     0.64064,     0.64164,     0.64264,     0.64364,     0.64464,     0.64565,     0.64665,     0.64765,\n",
       "           0.64865,     0.64965,     0.65065,     0.65165,     0.65265,     0.65365,     0.65465,     0.65566,     0.65666,     0.65766,     0.65866,     0.65966,     0.66066,     0.66166,     0.66266,     0.66366,     0.66466,     0.66567,     0.66667,     0.66767,     0.66867,     0.66967,     0.67067,     0.67167,\n",
       "           0.67267,     0.67367,     0.67467,     0.67568,     0.67668,     0.67768,     0.67868,     0.67968,     0.68068,     0.68168,     0.68268,     0.68368,     0.68468,     0.68569,     0.68669,     0.68769,     0.68869,     0.68969,     0.69069,     0.69169,     0.69269,     0.69369,     0.69469,      0.6957,\n",
       "            0.6967,      0.6977,      0.6987,      0.6997,      0.7007,      0.7017,      0.7027,      0.7037,      0.7047,     0.70571,     0.70671,     0.70771,     0.70871,     0.70971,     0.71071,     0.71171,     0.71271,     0.71371,     0.71471,     0.71572,     0.71672,     0.71772,     0.71872,     0.71972,\n",
       "           0.72072,     0.72172,     0.72272,     0.72372,     0.72472,     0.72573,     0.72673,     0.72773,     0.72873,     0.72973,     0.73073,     0.73173,     0.73273,     0.73373,     0.73473,     0.73574,     0.73674,     0.73774,     0.73874,     0.73974,     0.74074,     0.74174,     0.74274,     0.74374,\n",
       "           0.74474,     0.74575,     0.74675,     0.74775,     0.74875,     0.74975,     0.75075,     0.75175,     0.75275,     0.75375,     0.75475,     0.75576,     0.75676,     0.75776,     0.75876,     0.75976,     0.76076,     0.76176,     0.76276,     0.76376,     0.76476,     0.76577,     0.76677,     0.76777,\n",
       "           0.76877,     0.76977,     0.77077,     0.77177,     0.77277,     0.77377,     0.77477,     0.77578,     0.77678,     0.77778,     0.77878,     0.77978,     0.78078,     0.78178,     0.78278,     0.78378,     0.78478,     0.78579,     0.78679,     0.78779,     0.78879,     0.78979,     0.79079,     0.79179,\n",
       "           0.79279,     0.79379,     0.79479,      0.7958,      0.7968,      0.7978,      0.7988,      0.7998,      0.8008,      0.8018,      0.8028,      0.8038,      0.8048,     0.80581,     0.80681,     0.80781,     0.80881,     0.80981,     0.81081,     0.81181,     0.81281,     0.81381,     0.81481,     0.81582,\n",
       "           0.81682,     0.81782,     0.81882,     0.81982,     0.82082,     0.82182,     0.82282,     0.82382,     0.82482,     0.82583,     0.82683,     0.82783,     0.82883,     0.82983,     0.83083,     0.83183,     0.83283,     0.83383,     0.83483,     0.83584,     0.83684,     0.83784,     0.83884,     0.83984,\n",
       "           0.84084,     0.84184,     0.84284,     0.84384,     0.84484,     0.84585,     0.84685,     0.84785,     0.84885,     0.84985,     0.85085,     0.85185,     0.85285,     0.85385,     0.85485,     0.85586,     0.85686,     0.85786,     0.85886,     0.85986,     0.86086,     0.86186,     0.86286,     0.86386,\n",
       "           0.86486,     0.86587,     0.86687,     0.86787,     0.86887,     0.86987,     0.87087,     0.87187,     0.87287,     0.87387,     0.87487,     0.87588,     0.87688,     0.87788,     0.87888,     0.87988,     0.88088,     0.88188,     0.88288,     0.88388,     0.88488,     0.88589,     0.88689,     0.88789,\n",
       "           0.88889,     0.88989,     0.89089,     0.89189,     0.89289,     0.89389,     0.89489,      0.8959,      0.8969,      0.8979,      0.8989,      0.8999,      0.9009,      0.9019,      0.9029,      0.9039,      0.9049,     0.90591,     0.90691,     0.90791,     0.90891,     0.90991,     0.91091,     0.91191,\n",
       "           0.91291,     0.91391,     0.91491,     0.91592,     0.91692,     0.91792,     0.91892,     0.91992,     0.92092,     0.92192,     0.92292,     0.92392,     0.92492,     0.92593,     0.92693,     0.92793,     0.92893,     0.92993,     0.93093,     0.93193,     0.93293,     0.93393,     0.93493,     0.93594,\n",
       "           0.93694,     0.93794,     0.93894,     0.93994,     0.94094,     0.94194,     0.94294,     0.94394,     0.94494,     0.94595,     0.94695,     0.94795,     0.94895,     0.94995,     0.95095,     0.95195,     0.95295,     0.95395,     0.95495,     0.95596,     0.95696,     0.95796,     0.95896,     0.95996,\n",
       "           0.96096,     0.96196,     0.96296,     0.96396,     0.96496,     0.96597,     0.96697,     0.96797,     0.96897,     0.96997,     0.97097,     0.97197,     0.97297,     0.97397,     0.97497,     0.97598,     0.97698,     0.97798,     0.97898,     0.97998,     0.98098,     0.98198,     0.98298,     0.98398,\n",
       "           0.98498,     0.98599,     0.98699,     0.98799,     0.98899,     0.98999,     0.99099,     0.99199,     0.99299,     0.99399,     0.99499,       0.996,       0.997,       0.998,       0.999,           1]), array([[          1,           1,           1,           1,           1,           1,           1,           1,           1,           1,           1,           1,           1,           1,           1,           1,           1,           1,           1,           1,           1,           1,           1,\n",
       "                  1,           1,           1,           1,           1,           1,           1,           1,           1,           1,           1,           1,           1,           1,           1,           1,           1,           1,           1,           1,           1,           1,           1,\n",
       "                  1,           1,           1,           1,           1,           1,           1,           1,           1,           1,           1,           1,           1,           1,           1,           1,           1,           1,           1,           1,           1,           1,           1,\n",
       "                  1,           1,           1,           1,           1,           1,           1,           1,           1,           1,           1,           1,           1,           1,           1,           1,           1,           1,           1,           1,           1,           1,           1,\n",
       "                  1,           1,           1,           1,           1,           1,           1,           1,           1,           1,           1,           1,           1,           1,           1,           1,           1,           1,           1,           1,           1,           1,           1,\n",
       "                  1,           1,           1,           1,           1,           1,           1,           1,           1,           1,           1,           1,           1,           1,           1,           1,           1,           1,           1,           1,           1,           1,           1,\n",
       "                  1,           1,           1,           1,           1,           1,           1,           1,           1,           1,           1,           1,           1,           1,           1,           1,           1,           1,           1,           1,           1,           1,           1,\n",
       "                  1,           1,           1,           1,           1,           1,           1,           1,           1,           1,           1,           1,           1,           1,           1,           1,           1,           1,           1,           1,           1,           1,           1,\n",
       "                  1,           1,           1,           1,           1,           1,           1,           1,           1,           1,           1,           1,           1,           1,           1,           1,           1,           1,           1,           1,           1,           1,           1,\n",
       "                  1,           1,           1,           1,           1,           1,           1,           1,           1,           1,           1,           1,           1,           1,           1,           1,           1,           1,           1,           1,           1,           1,           1,\n",
       "                  1,           1,           1,           1,           1,           1,           1,           1,           1,           1,           1,           1,           1,           1,           1,           1,           1,           1,           1,           1,           1,           1,           1,\n",
       "                  1,           1,           1,           1,           1,           1,           1,           1,           1,           1,           1,           1,           1,           1,           1,           1,           1,           1,           1,           1,           1,           1,           1,\n",
       "                  1,           1,           1,           1,           1,           1,           1,           1,           1,           1,           1,           1,           1,           1,           1,           1,           1,           1,           1,           1,           1,           1,           1,\n",
       "                  1,           1,           1,           1,           1,           1,           1,           1,           1,           1,           1,           1,           1,           1,           1,           1,           1,           1,           1,           1,           1,           1,           1,\n",
       "                  1,           1,           1,           1,           1,           1,           1,           1,           1,           1,           1,           1,           1,           1,           1,           1,           1,           1,           1,           1,           1,           1,           1,\n",
       "                  1,           1,           1,           1,           1,           1,           1,           1,           1,           1,           1,           1,           1,           1,           1,           1,           1,           1,           1,           1,           1,           1,           1,\n",
       "                  1,           1,           1,           1,           1,           1,           1,           1,           1,           1,           1,           1,           1,           1,           1,           1,           1,           1,           1,           1,           1,           1,           1,\n",
       "                  1,           1,           1,           1,           1,           1,           1,           1,           1,           1,           1,           1,           1,           1,           1,           1,           1,           1,           1,           1,           1,           1,           1,\n",
       "                  1,           1,           1,           1,           1,           1,           1,           1,           1,           1,           1,           1,           1,           1,           1,           1,           1,           1,           1,           1,           1,           1,           1,\n",
       "                  1,           1,           1,           1,           1,           1,           1,           1,           1,           1,           1,           1,           1,           1,           1,           1,           1,           1,           1,           1,           1,           1,           1,\n",
       "                  1,           1,           1,           1,           1,           1,           1,           1,           1,           1,           1,           1,           1,           1,           1,           1,           1,           1,           1,           1,           1,           1,           1,\n",
       "                  1,           1,           1,           1,           1,           1,           1,           1,           1,           1,           1,           1,           1,           1,           1,           1,           1,           1,           1,           1,           1,           1,           1,\n",
       "                  1,           1,           1,           1,           1,           1,           1,           1,           1,           1,           1,           1,           1,           1,           1,           1,           1,           1,           1,           1,           1,           1,           1,\n",
       "                  1,           1,           1,           1,           1,           1,           1,           1,           1,           1,           1,           1,           1,           1,           1,           1,           1,           1,           1,           1,           1,           1,           1,\n",
       "                  1,           1,           1,           1,           1,           1,           1,           1,           1,           1,           1,           1,           1,           1,           1,           1,           1,           1,           1,           1,           1,           1,           1,\n",
       "                  1,           1,           1,           1,           1,           1,           1,           1,           1,           1,           1,           1,           1,           1,           1,           1,           1,           1,           1,           1,           1,           1,           1,\n",
       "                  1,           1,           1,           1,           1,           1,           1,           1,           1,           1,           1,           1,           1,           1,           1,           1,           1,           1,           1,           1,           1,           1,           1,\n",
       "                  1,           1,           1,           1,           1,           1,           1,           1,           1,           1,           1,           1,           1,           1,           1,           1,           1,           1,           1,           1,           1,           1,           1,\n",
       "                  1,           1,           1,           1,           1,           1,           1,           1,           1,           1,           1,           1,           1,           1,           1,           1,           1,           1,           1,           1,           1,           1,           1,\n",
       "                  1,           1,           1,           1,           1,           1,           1,           1,           1,           1,           1,           1,           1,           1,           1,           1,           1,           1,           1,           1,           1,           1,           1,\n",
       "                  1,           1,           1,           1,           1,           1,           1,           1,           1,           1,           1,           1,           1,           1,           1,           1,           1,           1,           1,           1,           1,           1,           1,\n",
       "                  1,           1,           1,           1,           1,           1,           1,           1,           1,           1,           1,           1,           1,           1,           1,           1,           1,           1,           1,           1,           1,           1,           1,\n",
       "                  1,           1,           1,           1,           1,           1,           1,           1,           1,           1,           1,           1,           1,           1,           1,           1,           1,           1,           1,           1,           1,           1,           1,\n",
       "                  1,           1,           1,           1,           1,           1,           1,           1,           1,           1,           1,           1,           1,           1,           1,           1,           1,           1,           1,           1,           1,           1,           1,\n",
       "                  1,           1,           1,           1,           1,           1,           1,           1,           1,           1,           1,           1,           1,           1,           1,           1,           1,           1,           1,           1,           1,           1,           1,\n",
       "                  1,           1,           1,           1,           1,           1,           1,           1,           1,           1,           1,           1,           1,           1,           1,           1,           1,           1,           1,           1,           1,           1,           1,\n",
       "                  1,           1,           1,           1,           1,           1,           1,           1,           1,           1,           1,           1,           1,           1,           1,           1,           1,           1,           1,           1,           1,           1,           1,\n",
       "                  1,           1,           1,           1,           1,           1,           1,           1,           1,           1,           1,           1,           1,           1,           1,           1,           1,           1,           1,           1,           1,     0.97778,     0.97778,\n",
       "            0.97778,     0.97778,     0.97778,     0.97778,     0.97778,     0.97778,     0.97778,     0.97778,     0.97778,     0.97778,     0.97778,     0.97778,     0.97778,     0.97778,     0.97778,     0.97778,     0.97778,     0.97778,     0.97778,     0.97778,     0.97778,     0.97778,     0.97778,\n",
       "            0.97778,     0.97778,     0.97778,     0.97778,     0.97778,     0.97778,     0.97778,     0.97778,     0.97778,     0.97778,     0.97778,     0.97778,     0.97778,     0.97778,     0.97778,     0.97778,     0.97778,     0.97778,     0.97778,     0.97778,     0.97778,     0.97778,     0.97778,\n",
       "            0.97778,     0.97778,     0.97778,     0.97778,     0.97778,     0.97778,     0.97778,     0.97778,     0.97778,     0.97778,     0.97778,     0.97778,     0.97778,     0.97778,     0.97778,     0.97778,     0.95745,     0.95745,     0.95745,     0.95745,     0.95745,     0.95745,     0.95745,\n",
       "            0.95745,     0.95745,     0.95745,     0.95745,     0.95745,     0.95745,     0.95745,     0.95745,     0.95745,     0.95745,     0.95745,     0.95745,     0.95745,     0.95745,      0.7931,      0.7931,      0.7931,      0.7931,      0.7931,      0.7931,      0.7931,      0.7931,      0.7931,\n",
       "             0.7931,      0.7931,      0.7931,      0.7931,      0.7931,      0.7931,      0.7931,      0.7931,      0.7931,      0.7931,      0.7931,      0.7931,    0.016832,    0.016031,    0.015229,    0.014428,    0.013626,    0.012825,    0.012023,    0.011222,     0.01042,   0.0096185,    0.008817,\n",
       "          0.0080154,   0.0072139,   0.0064123,   0.0056108,   0.0048093,   0.0040077,   0.0032062,   0.0024046,   0.0016031,  0.00080154,           0]]), 'Recall', 'Precision'], [array([          0,    0.001001,    0.002002,    0.003003,    0.004004,    0.005005,    0.006006,    0.007007,    0.008008,    0.009009,     0.01001,    0.011011,    0.012012,    0.013013,    0.014014,    0.015015,    0.016016,    0.017017,    0.018018,    0.019019,     0.02002,    0.021021,    0.022022,    0.023023,\n",
       "          0.024024,    0.025025,    0.026026,    0.027027,    0.028028,    0.029029,     0.03003,    0.031031,    0.032032,    0.033033,    0.034034,    0.035035,    0.036036,    0.037037,    0.038038,    0.039039,     0.04004,    0.041041,    0.042042,    0.043043,    0.044044,    0.045045,    0.046046,    0.047047,\n",
       "          0.048048,    0.049049,     0.05005,    0.051051,    0.052052,    0.053053,    0.054054,    0.055055,    0.056056,    0.057057,    0.058058,    0.059059,     0.06006,    0.061061,    0.062062,    0.063063,    0.064064,    0.065065,    0.066066,    0.067067,    0.068068,    0.069069,     0.07007,    0.071071,\n",
       "          0.072072,    0.073073,    0.074074,    0.075075,    0.076076,    0.077077,    0.078078,    0.079079,     0.08008,    0.081081,    0.082082,    0.083083,    0.084084,    0.085085,    0.086086,    0.087087,    0.088088,    0.089089,     0.09009,    0.091091,    0.092092,    0.093093,    0.094094,    0.095095,\n",
       "          0.096096,    0.097097,    0.098098,    0.099099,      0.1001,      0.1011,      0.1021,      0.1031,      0.1041,     0.10511,     0.10611,     0.10711,     0.10811,     0.10911,     0.11011,     0.11111,     0.11211,     0.11311,     0.11411,     0.11512,     0.11612,     0.11712,     0.11812,     0.11912,\n",
       "           0.12012,     0.12112,     0.12212,     0.12312,     0.12412,     0.12513,     0.12613,     0.12713,     0.12813,     0.12913,     0.13013,     0.13113,     0.13213,     0.13313,     0.13413,     0.13514,     0.13614,     0.13714,     0.13814,     0.13914,     0.14014,     0.14114,     0.14214,     0.14314,\n",
       "           0.14414,     0.14515,     0.14615,     0.14715,     0.14815,     0.14915,     0.15015,     0.15115,     0.15215,     0.15315,     0.15415,     0.15516,     0.15616,     0.15716,     0.15816,     0.15916,     0.16016,     0.16116,     0.16216,     0.16316,     0.16416,     0.16517,     0.16617,     0.16717,\n",
       "           0.16817,     0.16917,     0.17017,     0.17117,     0.17217,     0.17317,     0.17417,     0.17518,     0.17618,     0.17718,     0.17818,     0.17918,     0.18018,     0.18118,     0.18218,     0.18318,     0.18418,     0.18519,     0.18619,     0.18719,     0.18819,     0.18919,     0.19019,     0.19119,\n",
       "           0.19219,     0.19319,     0.19419,      0.1952,      0.1962,      0.1972,      0.1982,      0.1992,      0.2002,      0.2012,      0.2022,      0.2032,      0.2042,     0.20521,     0.20621,     0.20721,     0.20821,     0.20921,     0.21021,     0.21121,     0.21221,     0.21321,     0.21421,     0.21522,\n",
       "           0.21622,     0.21722,     0.21822,     0.21922,     0.22022,     0.22122,     0.22222,     0.22322,     0.22422,     0.22523,     0.22623,     0.22723,     0.22823,     0.22923,     0.23023,     0.23123,     0.23223,     0.23323,     0.23423,     0.23524,     0.23624,     0.23724,     0.23824,     0.23924,\n",
       "           0.24024,     0.24124,     0.24224,     0.24324,     0.24424,     0.24525,     0.24625,     0.24725,     0.24825,     0.24925,     0.25025,     0.25125,     0.25225,     0.25325,     0.25425,     0.25526,     0.25626,     0.25726,     0.25826,     0.25926,     0.26026,     0.26126,     0.26226,     0.26326,\n",
       "           0.26426,     0.26527,     0.26627,     0.26727,     0.26827,     0.26927,     0.27027,     0.27127,     0.27227,     0.27327,     0.27427,     0.27528,     0.27628,     0.27728,     0.27828,     0.27928,     0.28028,     0.28128,     0.28228,     0.28328,     0.28428,     0.28529,     0.28629,     0.28729,\n",
       "           0.28829,     0.28929,     0.29029,     0.29129,     0.29229,     0.29329,     0.29429,      0.2953,      0.2963,      0.2973,      0.2983,      0.2993,      0.3003,      0.3013,      0.3023,      0.3033,      0.3043,     0.30531,     0.30631,     0.30731,     0.30831,     0.30931,     0.31031,     0.31131,\n",
       "           0.31231,     0.31331,     0.31431,     0.31532,     0.31632,     0.31732,     0.31832,     0.31932,     0.32032,     0.32132,     0.32232,     0.32332,     0.32432,     0.32533,     0.32633,     0.32733,     0.32833,     0.32933,     0.33033,     0.33133,     0.33233,     0.33333,     0.33433,     0.33534,\n",
       "           0.33634,     0.33734,     0.33834,     0.33934,     0.34034,     0.34134,     0.34234,     0.34334,     0.34434,     0.34535,     0.34635,     0.34735,     0.34835,     0.34935,     0.35035,     0.35135,     0.35235,     0.35335,     0.35435,     0.35536,     0.35636,     0.35736,     0.35836,     0.35936,\n",
       "           0.36036,     0.36136,     0.36236,     0.36336,     0.36436,     0.36537,     0.36637,     0.36737,     0.36837,     0.36937,     0.37037,     0.37137,     0.37237,     0.37337,     0.37437,     0.37538,     0.37638,     0.37738,     0.37838,     0.37938,     0.38038,     0.38138,     0.38238,     0.38338,\n",
       "           0.38438,     0.38539,     0.38639,     0.38739,     0.38839,     0.38939,     0.39039,     0.39139,     0.39239,     0.39339,     0.39439,      0.3954,      0.3964,      0.3974,      0.3984,      0.3994,      0.4004,      0.4014,      0.4024,      0.4034,      0.4044,     0.40541,     0.40641,     0.40741,\n",
       "           0.40841,     0.40941,     0.41041,     0.41141,     0.41241,     0.41341,     0.41441,     0.41542,     0.41642,     0.41742,     0.41842,     0.41942,     0.42042,     0.42142,     0.42242,     0.42342,     0.42442,     0.42543,     0.42643,     0.42743,     0.42843,     0.42943,     0.43043,     0.43143,\n",
       "           0.43243,     0.43343,     0.43443,     0.43544,     0.43644,     0.43744,     0.43844,     0.43944,     0.44044,     0.44144,     0.44244,     0.44344,     0.44444,     0.44545,     0.44645,     0.44745,     0.44845,     0.44945,     0.45045,     0.45145,     0.45245,     0.45345,     0.45445,     0.45546,\n",
       "           0.45646,     0.45746,     0.45846,     0.45946,     0.46046,     0.46146,     0.46246,     0.46346,     0.46446,     0.46547,     0.46647,     0.46747,     0.46847,     0.46947,     0.47047,     0.47147,     0.47247,     0.47347,     0.47447,     0.47548,     0.47648,     0.47748,     0.47848,     0.47948,\n",
       "           0.48048,     0.48148,     0.48248,     0.48348,     0.48448,     0.48549,     0.48649,     0.48749,     0.48849,     0.48949,     0.49049,     0.49149,     0.49249,     0.49349,     0.49449,      0.4955,      0.4965,      0.4975,      0.4985,      0.4995,      0.5005,      0.5015,      0.5025,      0.5035,\n",
       "            0.5045,     0.50551,     0.50651,     0.50751,     0.50851,     0.50951,     0.51051,     0.51151,     0.51251,     0.51351,     0.51451,     0.51552,     0.51652,     0.51752,     0.51852,     0.51952,     0.52052,     0.52152,     0.52252,     0.52352,     0.52452,     0.52553,     0.52653,     0.52753,\n",
       "           0.52853,     0.52953,     0.53053,     0.53153,     0.53253,     0.53353,     0.53453,     0.53554,     0.53654,     0.53754,     0.53854,     0.53954,     0.54054,     0.54154,     0.54254,     0.54354,     0.54454,     0.54555,     0.54655,     0.54755,     0.54855,     0.54955,     0.55055,     0.55155,\n",
       "           0.55255,     0.55355,     0.55455,     0.55556,     0.55656,     0.55756,     0.55856,     0.55956,     0.56056,     0.56156,     0.56256,     0.56356,     0.56456,     0.56557,     0.56657,     0.56757,     0.56857,     0.56957,     0.57057,     0.57157,     0.57257,     0.57357,     0.57457,     0.57558,\n",
       "           0.57658,     0.57758,     0.57858,     0.57958,     0.58058,     0.58158,     0.58258,     0.58358,     0.58458,     0.58559,     0.58659,     0.58759,     0.58859,     0.58959,     0.59059,     0.59159,     0.59259,     0.59359,     0.59459,      0.5956,      0.5966,      0.5976,      0.5986,      0.5996,\n",
       "            0.6006,      0.6016,      0.6026,      0.6036,      0.6046,     0.60561,     0.60661,     0.60761,     0.60861,     0.60961,     0.61061,     0.61161,     0.61261,     0.61361,     0.61461,     0.61562,     0.61662,     0.61762,     0.61862,     0.61962,     0.62062,     0.62162,     0.62262,     0.62362,\n",
       "           0.62462,     0.62563,     0.62663,     0.62763,     0.62863,     0.62963,     0.63063,     0.63163,     0.63263,     0.63363,     0.63463,     0.63564,     0.63664,     0.63764,     0.63864,     0.63964,     0.64064,     0.64164,     0.64264,     0.64364,     0.64464,     0.64565,     0.64665,     0.64765,\n",
       "           0.64865,     0.64965,     0.65065,     0.65165,     0.65265,     0.65365,     0.65465,     0.65566,     0.65666,     0.65766,     0.65866,     0.65966,     0.66066,     0.66166,     0.66266,     0.66366,     0.66466,     0.66567,     0.66667,     0.66767,     0.66867,     0.66967,     0.67067,     0.67167,\n",
       "           0.67267,     0.67367,     0.67467,     0.67568,     0.67668,     0.67768,     0.67868,     0.67968,     0.68068,     0.68168,     0.68268,     0.68368,     0.68468,     0.68569,     0.68669,     0.68769,     0.68869,     0.68969,     0.69069,     0.69169,     0.69269,     0.69369,     0.69469,      0.6957,\n",
       "            0.6967,      0.6977,      0.6987,      0.6997,      0.7007,      0.7017,      0.7027,      0.7037,      0.7047,     0.70571,     0.70671,     0.70771,     0.70871,     0.70971,     0.71071,     0.71171,     0.71271,     0.71371,     0.71471,     0.71572,     0.71672,     0.71772,     0.71872,     0.71972,\n",
       "           0.72072,     0.72172,     0.72272,     0.72372,     0.72472,     0.72573,     0.72673,     0.72773,     0.72873,     0.72973,     0.73073,     0.73173,     0.73273,     0.73373,     0.73473,     0.73574,     0.73674,     0.73774,     0.73874,     0.73974,     0.74074,     0.74174,     0.74274,     0.74374,\n",
       "           0.74474,     0.74575,     0.74675,     0.74775,     0.74875,     0.74975,     0.75075,     0.75175,     0.75275,     0.75375,     0.75475,     0.75576,     0.75676,     0.75776,     0.75876,     0.75976,     0.76076,     0.76176,     0.76276,     0.76376,     0.76476,     0.76577,     0.76677,     0.76777,\n",
       "           0.76877,     0.76977,     0.77077,     0.77177,     0.77277,     0.77377,     0.77477,     0.77578,     0.77678,     0.77778,     0.77878,     0.77978,     0.78078,     0.78178,     0.78278,     0.78378,     0.78478,     0.78579,     0.78679,     0.78779,     0.78879,     0.78979,     0.79079,     0.79179,\n",
       "           0.79279,     0.79379,     0.79479,      0.7958,      0.7968,      0.7978,      0.7988,      0.7998,      0.8008,      0.8018,      0.8028,      0.8038,      0.8048,     0.80581,     0.80681,     0.80781,     0.80881,     0.80981,     0.81081,     0.81181,     0.81281,     0.81381,     0.81481,     0.81582,\n",
       "           0.81682,     0.81782,     0.81882,     0.81982,     0.82082,     0.82182,     0.82282,     0.82382,     0.82482,     0.82583,     0.82683,     0.82783,     0.82883,     0.82983,     0.83083,     0.83183,     0.83283,     0.83383,     0.83483,     0.83584,     0.83684,     0.83784,     0.83884,     0.83984,\n",
       "           0.84084,     0.84184,     0.84284,     0.84384,     0.84484,     0.84585,     0.84685,     0.84785,     0.84885,     0.84985,     0.85085,     0.85185,     0.85285,     0.85385,     0.85485,     0.85586,     0.85686,     0.85786,     0.85886,     0.85986,     0.86086,     0.86186,     0.86286,     0.86386,\n",
       "           0.86486,     0.86587,     0.86687,     0.86787,     0.86887,     0.86987,     0.87087,     0.87187,     0.87287,     0.87387,     0.87487,     0.87588,     0.87688,     0.87788,     0.87888,     0.87988,     0.88088,     0.88188,     0.88288,     0.88388,     0.88488,     0.88589,     0.88689,     0.88789,\n",
       "           0.88889,     0.88989,     0.89089,     0.89189,     0.89289,     0.89389,     0.89489,      0.8959,      0.8969,      0.8979,      0.8989,      0.8999,      0.9009,      0.9019,      0.9029,      0.9039,      0.9049,     0.90591,     0.90691,     0.90791,     0.90891,     0.90991,     0.91091,     0.91191,\n",
       "           0.91291,     0.91391,     0.91491,     0.91592,     0.91692,     0.91792,     0.91892,     0.91992,     0.92092,     0.92192,     0.92292,     0.92392,     0.92492,     0.92593,     0.92693,     0.92793,     0.92893,     0.92993,     0.93093,     0.93193,     0.93293,     0.93393,     0.93493,     0.93594,\n",
       "           0.93694,     0.93794,     0.93894,     0.93994,     0.94094,     0.94194,     0.94294,     0.94394,     0.94494,     0.94595,     0.94695,     0.94795,     0.94895,     0.94995,     0.95095,     0.95195,     0.95295,     0.95395,     0.95495,     0.95596,     0.95696,     0.95796,     0.95896,     0.95996,\n",
       "           0.96096,     0.96196,     0.96296,     0.96396,     0.96496,     0.96597,     0.96697,     0.96797,     0.96897,     0.96997,     0.97097,     0.97197,     0.97297,     0.97397,     0.97497,     0.97598,     0.97698,     0.97798,     0.97898,     0.97998,     0.98098,     0.98198,     0.98298,     0.98398,\n",
       "           0.98498,     0.98599,     0.98699,     0.98799,     0.98899,     0.98999,     0.99099,     0.99199,     0.99299,     0.99399,     0.99499,       0.996,       0.997,       0.998,       0.999,           1]), array([[   0.033491,    0.033491,     0.17128,     0.41827,     0.46115,      0.5133,     0.54306,     0.56026,     0.57394,     0.59719,     0.62838,      0.6552,     0.68837,     0.70737,     0.71068,     0.71421,     0.72031,     0.72641,     0.73353,     0.75043,     0.76995,      0.7846,     0.80031,\n",
       "            0.80125,     0.80219,     0.80313,     0.80407,       0.805,     0.80594,     0.80687,     0.81594,     0.81857,     0.82118,     0.82968,     0.83304,     0.83638,      0.8389,     0.84141,     0.84391,     0.84628,     0.84863,     0.85097,     0.85563,     0.86018,     0.86139,     0.86259,\n",
       "            0.86379,     0.86499,     0.86618,     0.86738,      0.8687,     0.87015,     0.87159,     0.87302,     0.87445,     0.87588,     0.87423,     0.87172,     0.86921,     0.86668,     0.86588,      0.8669,     0.86791,     0.86892,     0.86993,     0.87094,     0.87195,     0.87295,     0.87492,\n",
       "            0.88153,     0.88793,     0.89883,     0.90058,     0.90121,     0.90184,     0.90247,      0.9031,     0.90372,     0.90435,     0.90498,      0.9056,     0.90622,     0.90685,     0.90747,     0.90809,     0.90871,     0.91165,     0.91818,     0.91972,     0.92111,      0.9225,     0.92389,\n",
       "            0.92526,     0.92664,      0.9279,     0.92836,     0.92883,      0.9293,     0.92977,     0.93023,      0.9307,     0.93116,     0.93163,     0.93209,     0.93256,     0.93302,     0.93348,     0.93395,     0.93441,     0.93487,     0.93533,     0.93579,     0.93625,     0.93671,     0.93717,\n",
       "            0.93763,      0.9381,     0.93856,     0.93902,     0.93948,     0.93994,      0.9404,     0.94086,     0.94132,     0.94178,     0.94224,      0.9427,     0.94316,     0.94362,     0.94407,     0.94453,     0.94499,     0.94544,      0.9459,     0.94635,     0.94681,     0.94726,     0.94739,\n",
       "            0.94742,     0.94745,     0.94748,     0.94752,     0.94755,     0.94758,     0.94761,     0.94764,     0.94767,      0.9477,     0.94773,     0.94776,     0.94779,     0.94782,     0.94785,     0.94789,     0.94792,     0.94795,     0.94798,     0.94801,     0.94804,     0.94807,      0.9481,\n",
       "            0.94813,     0.94816,     0.94819,     0.94822,     0.94826,     0.94829,     0.94832,     0.94835,     0.94838,     0.94841,     0.94844,     0.94847,      0.9485,     0.94853,     0.94856,     0.94859,     0.94862,     0.94866,     0.94869,     0.94872,     0.94875,     0.94878,     0.94881,\n",
       "            0.94884,     0.94887,      0.9489,     0.94893,     0.94896,     0.94899,     0.94902,     0.94905,     0.94909,     0.94912,     0.94915,     0.94918,     0.94921,     0.94924,     0.94927,      0.9493,     0.94933,     0.94936,     0.94939,     0.94942,     0.94945,     0.94949,     0.94952,\n",
       "            0.94955,     0.94958,     0.94961,     0.94964,     0.94967,      0.9497,     0.94973,     0.94976,     0.94979,     0.94982,     0.94985,     0.94988,     0.94991,     0.94995,     0.94998,     0.95001,     0.95004,     0.95007,      0.9501,     0.95013,     0.95016,     0.95019,     0.95022,\n",
       "            0.95025,     0.95028,     0.95031,     0.95034,     0.95037,     0.95041,     0.95044,     0.95047,      0.9505,     0.95053,     0.95056,     0.95059,     0.95062,     0.95065,     0.95068,     0.95071,     0.95074,     0.95077,      0.9508,     0.95083,     0.95087,      0.9509,     0.95093,\n",
       "            0.95096,     0.95099,     0.95102,     0.95105,     0.95108,     0.95111,     0.95114,     0.95117,      0.9512,     0.95123,     0.95126,     0.95129,     0.95132,     0.95135,     0.95139,     0.95142,     0.95145,     0.95148,     0.95151,     0.95154,     0.95157,      0.9516,     0.95163,\n",
       "            0.95166,     0.95169,     0.95172,     0.95175,     0.95178,     0.95181,     0.95184,     0.95187,     0.95191,     0.95194,     0.95197,       0.952,     0.95203,     0.95206,     0.95209,     0.95212,     0.95215,     0.95218,     0.95221,     0.95224,     0.95227,      0.9523,     0.95233,\n",
       "            0.95236,     0.95239,     0.95242,     0.95245,     0.95249,     0.95252,     0.95255,     0.95258,     0.95261,     0.95264,     0.95267,      0.9527,     0.95273,     0.95276,     0.95279,     0.95282,     0.95285,     0.95288,     0.95291,     0.95294,     0.95297,       0.953,     0.95303,\n",
       "            0.95307,      0.9531,     0.95313,     0.95316,     0.95319,     0.95322,     0.95325,     0.95328,     0.95331,     0.95334,     0.95337,      0.9534,     0.95343,     0.95346,     0.95349,     0.95352,     0.95355,     0.95358,     0.95361,     0.95364,     0.95367,      0.9537,     0.95374,\n",
       "            0.95377,      0.9538,     0.95383,     0.95386,     0.95389,     0.95392,     0.95395,     0.95398,     0.95401,     0.95404,     0.95407,      0.9541,     0.95413,     0.95416,     0.95419,     0.95422,     0.95425,     0.95428,     0.95431,     0.95434,     0.95437,      0.9544,     0.95443,\n",
       "            0.95447,      0.9545,     0.95453,     0.95456,     0.95459,     0.95462,     0.95465,     0.95468,     0.95471,     0.95474,     0.95477,      0.9548,     0.95483,     0.95486,     0.95489,     0.95492,     0.95495,     0.95498,     0.95501,     0.95504,     0.95507,      0.9551,     0.95513,\n",
       "            0.95516,     0.95519,     0.95522,     0.95525,     0.95529,     0.95532,     0.95535,     0.95538,     0.95541,     0.95544,     0.95547,      0.9555,     0.95553,     0.95556,     0.95559,     0.95562,     0.95565,     0.95568,     0.95571,     0.95574,     0.95577,      0.9558,     0.95583,\n",
       "            0.95586,     0.95589,     0.95592,     0.95595,     0.95598,     0.95601,     0.95604,     0.95607,      0.9561,     0.95613,     0.95616,     0.95619,     0.95623,     0.95626,     0.95629,     0.95632,     0.95635,     0.95638,     0.95641,     0.95644,     0.95647,      0.9565,     0.95653,\n",
       "            0.95656,     0.95659,     0.95662,     0.95665,     0.95668,     0.95671,     0.95674,     0.95677,      0.9568,     0.95683,     0.95686,     0.95689,     0.95692,     0.95695,     0.95698,     0.95701,     0.95704,     0.95707,      0.9571,     0.95713,     0.95716,     0.95719,     0.95722,\n",
       "            0.95725,     0.95728,     0.95731,     0.95734,     0.95737,      0.9574,     0.95743,     0.95682,     0.95579,     0.95476,     0.95373,     0.95269,     0.95165,     0.95061,     0.94957,     0.94853,     0.94748,     0.94643,     0.94635,     0.94649,     0.94663,     0.94677,     0.94691,\n",
       "            0.94705,     0.94719,     0.94733,     0.94747,     0.94761,     0.94774,     0.94788,     0.94802,     0.94816,      0.9483,     0.94844,     0.94858,     0.94872,     0.94886,       0.949,     0.94914,     0.94927,     0.94941,     0.94955,     0.94969,     0.94983,     0.94997,     0.95011,\n",
       "            0.95025,     0.95038,     0.95052,     0.95066,      0.9508,     0.95094,     0.95108,     0.95121,     0.95135,     0.95149,     0.95163,     0.95177,      0.9519,     0.95204,     0.95218,     0.95232,     0.95246,     0.95259,     0.95273,     0.95287,     0.95301,     0.95315,     0.95328,\n",
       "            0.95342,     0.95356,      0.9537,     0.95383,     0.95397,     0.95411,     0.95425,     0.95438,     0.95452,     0.95466,     0.95479,     0.95493,     0.95507,     0.95521,     0.95534,     0.95548,     0.95562,     0.95575,     0.95589,     0.95603,     0.95616,      0.9563,     0.95644,\n",
       "            0.95618,     0.95528,     0.95438,     0.95348,     0.95258,     0.95167,     0.95077,     0.94986,     0.94895,     0.94804,     0.94713,     0.94621,      0.9453,      0.9448,     0.94446,     0.94412,     0.94378,     0.94344,      0.9431,     0.94276,     0.94241,     0.94207,     0.94173,\n",
       "            0.94139,     0.94104,      0.9407,     0.94036,     0.94001,     0.93967,     0.93932,     0.93898,     0.93863,     0.93829,     0.93795,      0.9376,     0.93725,     0.93691,     0.93656,     0.93622,     0.93587,     0.93552,     0.93518,     0.93483,     0.93448,     0.93414,     0.93379,\n",
       "            0.93344,     0.93163,     0.92915,     0.92667,     0.92417,     0.92166,     0.92254,     0.92389,     0.92524,     0.92658,     0.92792,     0.92925,     0.93058,     0.93148,     0.92653,     0.92154,     0.91852,     0.91683,     0.91513,     0.91342,     0.91171,        0.91,     0.90828,\n",
       "            0.90665,     0.90532,     0.90399,     0.90266,     0.90132,     0.89998,     0.89864,     0.89729,     0.89594,     0.89459,      0.8939,     0.89356,     0.89323,     0.89289,     0.89255,     0.89222,     0.89188,     0.89154,     0.89121,     0.89087,     0.89053,     0.89019,     0.88985,\n",
       "            0.88951,     0.88918,     0.88884,      0.8885,     0.88816,     0.88782,     0.88748,     0.88714,      0.8868,     0.88646,     0.88612,     0.88578,     0.88544,      0.8851,     0.88475,     0.88441,     0.88407,     0.88373,     0.88339,     0.88304,      0.8827,     0.88236,     0.88202,\n",
       "            0.88167,     0.88133,     0.88099,     0.87424,     0.86717,     0.86414,      0.8611,     0.85804,     0.85496,     0.85317,     0.85233,     0.85149,     0.85065,     0.84981,     0.84896,     0.84812,     0.84727,     0.84642,     0.84557,     0.84472,     0.84387,     0.84302,     0.84216,\n",
       "            0.84131,     0.84045,     0.83959,     0.83508,     0.83013,     0.82513,     0.80926,     0.80546,     0.80163,     0.79778,     0.79353,     0.78813,     0.78268,     0.77864,     0.77707,      0.7755,     0.77392,     0.77234,     0.77076,     0.76917,     0.76758,     0.76598,     0.76438,\n",
       "            0.76214,     0.75787,     0.75356,     0.74923,      0.7422,     0.73125,     0.72858,     0.72724,      0.7259,     0.72455,      0.7232,     0.72185,      0.7205,     0.71914,     0.71778,     0.71642,     0.71506,     0.71369,     0.71226,     0.70286,       0.694,     0.69021,      0.6864,\n",
       "            0.68256,      0.6787,     0.67547,     0.67363,     0.67179,     0.66993,     0.66808,     0.66622,     0.66435,     0.66248,      0.6606,     0.65872,     0.65555,      0.6459,     0.63395,     0.61631,     0.61202,      0.6077,     0.60336,     0.59899,     0.59197,     0.58272,     0.57322,\n",
       "             0.5632,     0.53867,     0.52945,     0.52757,     0.52569,     0.52381,     0.52192,     0.52002,     0.51812,     0.51622,     0.51431,     0.51239,     0.51047,     0.50855,     0.46003,     0.44345,     0.42923,     0.41817,     0.40694,     0.40148,     0.39607,     0.39062,     0.38513,\n",
       "            0.37961,      0.3769,     0.37433,     0.37177,     0.36919,      0.3666,     0.36401,     0.36141,      0.3588,     0.35618,     0.35356,     0.35092,     0.34529,     0.33957,      0.3338,       0.328,     0.32216,     0.31862,     0.31541,     0.31218,     0.30894,     0.30569,     0.30243,\n",
       "            0.29915,     0.29586,     0.29256,     0.28752,     0.28072,     0.27387,     0.26696,        0.26,     0.24299,     0.22569,     0.21888,     0.21202,      0.2051,     0.19813,     0.19146,     0.18648,     0.18147,     0.17644,     0.17138,     0.16629,     0.16117,     0.14638,     0.11429,\n",
       "            0.10465,    0.094921,    0.085088,     0.07509,    0.064953,     0.05471,    0.044357,           0,           0,           0,           0,           0,           0,           0,           0,           0,           0,           0,           0,           0,           0,           0,           0,\n",
       "                  0,           0,           0,           0,           0,           0,           0,           0,           0,           0,           0,           0,           0,           0,           0,           0,           0,           0,           0,           0,           0,           0,           0,\n",
       "                  0,           0,           0,           0,           0,           0,           0,           0,           0,           0,           0,           0,           0,           0,           0,           0,           0,           0,           0,           0,           0,           0,           0,\n",
       "                  0,           0,           0,           0,           0,           0,           0,           0,           0,           0,           0,           0,           0,           0,           0,           0,           0,           0,           0,           0,           0,           0,           0,\n",
       "                  0,           0,           0,           0,           0,           0,           0,           0,           0,           0,           0,           0,           0,           0,           0,           0,           0,           0,           0,           0,           0,           0,           0,\n",
       "                  0,           0,           0,           0,           0,           0,           0,           0,           0,           0,           0,           0,           0,           0,           0,           0,           0,           0,           0,           0,           0,           0,           0,\n",
       "                  0,           0,           0,           0,           0,           0,           0,           0,           0,           0,           0,           0,           0,           0,           0,           0,           0,           0,           0,           0,           0,           0,           0,\n",
       "                  0,           0,           0,           0,           0,           0,           0,           0,           0,           0,           0]]), 'Confidence', 'F1'], [array([          0,    0.001001,    0.002002,    0.003003,    0.004004,    0.005005,    0.006006,    0.007007,    0.008008,    0.009009,     0.01001,    0.011011,    0.012012,    0.013013,    0.014014,    0.015015,    0.016016,    0.017017,    0.018018,    0.019019,     0.02002,    0.021021,    0.022022,    0.023023,\n",
       "          0.024024,    0.025025,    0.026026,    0.027027,    0.028028,    0.029029,     0.03003,    0.031031,    0.032032,    0.033033,    0.034034,    0.035035,    0.036036,    0.037037,    0.038038,    0.039039,     0.04004,    0.041041,    0.042042,    0.043043,    0.044044,    0.045045,    0.046046,    0.047047,\n",
       "          0.048048,    0.049049,     0.05005,    0.051051,    0.052052,    0.053053,    0.054054,    0.055055,    0.056056,    0.057057,    0.058058,    0.059059,     0.06006,    0.061061,    0.062062,    0.063063,    0.064064,    0.065065,    0.066066,    0.067067,    0.068068,    0.069069,     0.07007,    0.071071,\n",
       "          0.072072,    0.073073,    0.074074,    0.075075,    0.076076,    0.077077,    0.078078,    0.079079,     0.08008,    0.081081,    0.082082,    0.083083,    0.084084,    0.085085,    0.086086,    0.087087,    0.088088,    0.089089,     0.09009,    0.091091,    0.092092,    0.093093,    0.094094,    0.095095,\n",
       "          0.096096,    0.097097,    0.098098,    0.099099,      0.1001,      0.1011,      0.1021,      0.1031,      0.1041,     0.10511,     0.10611,     0.10711,     0.10811,     0.10911,     0.11011,     0.11111,     0.11211,     0.11311,     0.11411,     0.11512,     0.11612,     0.11712,     0.11812,     0.11912,\n",
       "           0.12012,     0.12112,     0.12212,     0.12312,     0.12412,     0.12513,     0.12613,     0.12713,     0.12813,     0.12913,     0.13013,     0.13113,     0.13213,     0.13313,     0.13413,     0.13514,     0.13614,     0.13714,     0.13814,     0.13914,     0.14014,     0.14114,     0.14214,     0.14314,\n",
       "           0.14414,     0.14515,     0.14615,     0.14715,     0.14815,     0.14915,     0.15015,     0.15115,     0.15215,     0.15315,     0.15415,     0.15516,     0.15616,     0.15716,     0.15816,     0.15916,     0.16016,     0.16116,     0.16216,     0.16316,     0.16416,     0.16517,     0.16617,     0.16717,\n",
       "           0.16817,     0.16917,     0.17017,     0.17117,     0.17217,     0.17317,     0.17417,     0.17518,     0.17618,     0.17718,     0.17818,     0.17918,     0.18018,     0.18118,     0.18218,     0.18318,     0.18418,     0.18519,     0.18619,     0.18719,     0.18819,     0.18919,     0.19019,     0.19119,\n",
       "           0.19219,     0.19319,     0.19419,      0.1952,      0.1962,      0.1972,      0.1982,      0.1992,      0.2002,      0.2012,      0.2022,      0.2032,      0.2042,     0.20521,     0.20621,     0.20721,     0.20821,     0.20921,     0.21021,     0.21121,     0.21221,     0.21321,     0.21421,     0.21522,\n",
       "           0.21622,     0.21722,     0.21822,     0.21922,     0.22022,     0.22122,     0.22222,     0.22322,     0.22422,     0.22523,     0.22623,     0.22723,     0.22823,     0.22923,     0.23023,     0.23123,     0.23223,     0.23323,     0.23423,     0.23524,     0.23624,     0.23724,     0.23824,     0.23924,\n",
       "           0.24024,     0.24124,     0.24224,     0.24324,     0.24424,     0.24525,     0.24625,     0.24725,     0.24825,     0.24925,     0.25025,     0.25125,     0.25225,     0.25325,     0.25425,     0.25526,     0.25626,     0.25726,     0.25826,     0.25926,     0.26026,     0.26126,     0.26226,     0.26326,\n",
       "           0.26426,     0.26527,     0.26627,     0.26727,     0.26827,     0.26927,     0.27027,     0.27127,     0.27227,     0.27327,     0.27427,     0.27528,     0.27628,     0.27728,     0.27828,     0.27928,     0.28028,     0.28128,     0.28228,     0.28328,     0.28428,     0.28529,     0.28629,     0.28729,\n",
       "           0.28829,     0.28929,     0.29029,     0.29129,     0.29229,     0.29329,     0.29429,      0.2953,      0.2963,      0.2973,      0.2983,      0.2993,      0.3003,      0.3013,      0.3023,      0.3033,      0.3043,     0.30531,     0.30631,     0.30731,     0.30831,     0.30931,     0.31031,     0.31131,\n",
       "           0.31231,     0.31331,     0.31431,     0.31532,     0.31632,     0.31732,     0.31832,     0.31932,     0.32032,     0.32132,     0.32232,     0.32332,     0.32432,     0.32533,     0.32633,     0.32733,     0.32833,     0.32933,     0.33033,     0.33133,     0.33233,     0.33333,     0.33433,     0.33534,\n",
       "           0.33634,     0.33734,     0.33834,     0.33934,     0.34034,     0.34134,     0.34234,     0.34334,     0.34434,     0.34535,     0.34635,     0.34735,     0.34835,     0.34935,     0.35035,     0.35135,     0.35235,     0.35335,     0.35435,     0.35536,     0.35636,     0.35736,     0.35836,     0.35936,\n",
       "           0.36036,     0.36136,     0.36236,     0.36336,     0.36436,     0.36537,     0.36637,     0.36737,     0.36837,     0.36937,     0.37037,     0.37137,     0.37237,     0.37337,     0.37437,     0.37538,     0.37638,     0.37738,     0.37838,     0.37938,     0.38038,     0.38138,     0.38238,     0.38338,\n",
       "           0.38438,     0.38539,     0.38639,     0.38739,     0.38839,     0.38939,     0.39039,     0.39139,     0.39239,     0.39339,     0.39439,      0.3954,      0.3964,      0.3974,      0.3984,      0.3994,      0.4004,      0.4014,      0.4024,      0.4034,      0.4044,     0.40541,     0.40641,     0.40741,\n",
       "           0.40841,     0.40941,     0.41041,     0.41141,     0.41241,     0.41341,     0.41441,     0.41542,     0.41642,     0.41742,     0.41842,     0.41942,     0.42042,     0.42142,     0.42242,     0.42342,     0.42442,     0.42543,     0.42643,     0.42743,     0.42843,     0.42943,     0.43043,     0.43143,\n",
       "           0.43243,     0.43343,     0.43443,     0.43544,     0.43644,     0.43744,     0.43844,     0.43944,     0.44044,     0.44144,     0.44244,     0.44344,     0.44444,     0.44545,     0.44645,     0.44745,     0.44845,     0.44945,     0.45045,     0.45145,     0.45245,     0.45345,     0.45445,     0.45546,\n",
       "           0.45646,     0.45746,     0.45846,     0.45946,     0.46046,     0.46146,     0.46246,     0.46346,     0.46446,     0.46547,     0.46647,     0.46747,     0.46847,     0.46947,     0.47047,     0.47147,     0.47247,     0.47347,     0.47447,     0.47548,     0.47648,     0.47748,     0.47848,     0.47948,\n",
       "           0.48048,     0.48148,     0.48248,     0.48348,     0.48448,     0.48549,     0.48649,     0.48749,     0.48849,     0.48949,     0.49049,     0.49149,     0.49249,     0.49349,     0.49449,      0.4955,      0.4965,      0.4975,      0.4985,      0.4995,      0.5005,      0.5015,      0.5025,      0.5035,\n",
       "            0.5045,     0.50551,     0.50651,     0.50751,     0.50851,     0.50951,     0.51051,     0.51151,     0.51251,     0.51351,     0.51451,     0.51552,     0.51652,     0.51752,     0.51852,     0.51952,     0.52052,     0.52152,     0.52252,     0.52352,     0.52452,     0.52553,     0.52653,     0.52753,\n",
       "           0.52853,     0.52953,     0.53053,     0.53153,     0.53253,     0.53353,     0.53453,     0.53554,     0.53654,     0.53754,     0.53854,     0.53954,     0.54054,     0.54154,     0.54254,     0.54354,     0.54454,     0.54555,     0.54655,     0.54755,     0.54855,     0.54955,     0.55055,     0.55155,\n",
       "           0.55255,     0.55355,     0.55455,     0.55556,     0.55656,     0.55756,     0.55856,     0.55956,     0.56056,     0.56156,     0.56256,     0.56356,     0.56456,     0.56557,     0.56657,     0.56757,     0.56857,     0.56957,     0.57057,     0.57157,     0.57257,     0.57357,     0.57457,     0.57558,\n",
       "           0.57658,     0.57758,     0.57858,     0.57958,     0.58058,     0.58158,     0.58258,     0.58358,     0.58458,     0.58559,     0.58659,     0.58759,     0.58859,     0.58959,     0.59059,     0.59159,     0.59259,     0.59359,     0.59459,      0.5956,      0.5966,      0.5976,      0.5986,      0.5996,\n",
       "            0.6006,      0.6016,      0.6026,      0.6036,      0.6046,     0.60561,     0.60661,     0.60761,     0.60861,     0.60961,     0.61061,     0.61161,     0.61261,     0.61361,     0.61461,     0.61562,     0.61662,     0.61762,     0.61862,     0.61962,     0.62062,     0.62162,     0.62262,     0.62362,\n",
       "           0.62462,     0.62563,     0.62663,     0.62763,     0.62863,     0.62963,     0.63063,     0.63163,     0.63263,     0.63363,     0.63463,     0.63564,     0.63664,     0.63764,     0.63864,     0.63964,     0.64064,     0.64164,     0.64264,     0.64364,     0.64464,     0.64565,     0.64665,     0.64765,\n",
       "           0.64865,     0.64965,     0.65065,     0.65165,     0.65265,     0.65365,     0.65465,     0.65566,     0.65666,     0.65766,     0.65866,     0.65966,     0.66066,     0.66166,     0.66266,     0.66366,     0.66466,     0.66567,     0.66667,     0.66767,     0.66867,     0.66967,     0.67067,     0.67167,\n",
       "           0.67267,     0.67367,     0.67467,     0.67568,     0.67668,     0.67768,     0.67868,     0.67968,     0.68068,     0.68168,     0.68268,     0.68368,     0.68468,     0.68569,     0.68669,     0.68769,     0.68869,     0.68969,     0.69069,     0.69169,     0.69269,     0.69369,     0.69469,      0.6957,\n",
       "            0.6967,      0.6977,      0.6987,      0.6997,      0.7007,      0.7017,      0.7027,      0.7037,      0.7047,     0.70571,     0.70671,     0.70771,     0.70871,     0.70971,     0.71071,     0.71171,     0.71271,     0.71371,     0.71471,     0.71572,     0.71672,     0.71772,     0.71872,     0.71972,\n",
       "           0.72072,     0.72172,     0.72272,     0.72372,     0.72472,     0.72573,     0.72673,     0.72773,     0.72873,     0.72973,     0.73073,     0.73173,     0.73273,     0.73373,     0.73473,     0.73574,     0.73674,     0.73774,     0.73874,     0.73974,     0.74074,     0.74174,     0.74274,     0.74374,\n",
       "           0.74474,     0.74575,     0.74675,     0.74775,     0.74875,     0.74975,     0.75075,     0.75175,     0.75275,     0.75375,     0.75475,     0.75576,     0.75676,     0.75776,     0.75876,     0.75976,     0.76076,     0.76176,     0.76276,     0.76376,     0.76476,     0.76577,     0.76677,     0.76777,\n",
       "           0.76877,     0.76977,     0.77077,     0.77177,     0.77277,     0.77377,     0.77477,     0.77578,     0.77678,     0.77778,     0.77878,     0.77978,     0.78078,     0.78178,     0.78278,     0.78378,     0.78478,     0.78579,     0.78679,     0.78779,     0.78879,     0.78979,     0.79079,     0.79179,\n",
       "           0.79279,     0.79379,     0.79479,      0.7958,      0.7968,      0.7978,      0.7988,      0.7998,      0.8008,      0.8018,      0.8028,      0.8038,      0.8048,     0.80581,     0.80681,     0.80781,     0.80881,     0.80981,     0.81081,     0.81181,     0.81281,     0.81381,     0.81481,     0.81582,\n",
       "           0.81682,     0.81782,     0.81882,     0.81982,     0.82082,     0.82182,     0.82282,     0.82382,     0.82482,     0.82583,     0.82683,     0.82783,     0.82883,     0.82983,     0.83083,     0.83183,     0.83283,     0.83383,     0.83483,     0.83584,     0.83684,     0.83784,     0.83884,     0.83984,\n",
       "           0.84084,     0.84184,     0.84284,     0.84384,     0.84484,     0.84585,     0.84685,     0.84785,     0.84885,     0.84985,     0.85085,     0.85185,     0.85285,     0.85385,     0.85485,     0.85586,     0.85686,     0.85786,     0.85886,     0.85986,     0.86086,     0.86186,     0.86286,     0.86386,\n",
       "           0.86486,     0.86587,     0.86687,     0.86787,     0.86887,     0.86987,     0.87087,     0.87187,     0.87287,     0.87387,     0.87487,     0.87588,     0.87688,     0.87788,     0.87888,     0.87988,     0.88088,     0.88188,     0.88288,     0.88388,     0.88488,     0.88589,     0.88689,     0.88789,\n",
       "           0.88889,     0.88989,     0.89089,     0.89189,     0.89289,     0.89389,     0.89489,      0.8959,      0.8969,      0.8979,      0.8989,      0.8999,      0.9009,      0.9019,      0.9029,      0.9039,      0.9049,     0.90591,     0.90691,     0.90791,     0.90891,     0.90991,     0.91091,     0.91191,\n",
       "           0.91291,     0.91391,     0.91491,     0.91592,     0.91692,     0.91792,     0.91892,     0.91992,     0.92092,     0.92192,     0.92292,     0.92392,     0.92492,     0.92593,     0.92693,     0.92793,     0.92893,     0.92993,     0.93093,     0.93193,     0.93293,     0.93393,     0.93493,     0.93594,\n",
       "           0.93694,     0.93794,     0.93894,     0.93994,     0.94094,     0.94194,     0.94294,     0.94394,     0.94494,     0.94595,     0.94695,     0.94795,     0.94895,     0.94995,     0.95095,     0.95195,     0.95295,     0.95395,     0.95495,     0.95596,     0.95696,     0.95796,     0.95896,     0.95996,\n",
       "           0.96096,     0.96196,     0.96296,     0.96396,     0.96496,     0.96597,     0.96697,     0.96797,     0.96897,     0.96997,     0.97097,     0.97197,     0.97297,     0.97397,     0.97497,     0.97598,     0.97698,     0.97798,     0.97898,     0.97998,     0.98098,     0.98198,     0.98298,     0.98398,\n",
       "           0.98498,     0.98599,     0.98699,     0.98799,     0.98899,     0.98999,     0.99099,     0.99199,     0.99299,     0.99399,     0.99499,       0.996,       0.997,       0.998,       0.999,           1]), array([[   0.017037,    0.017037,    0.093852,     0.26597,     0.30164,     0.34787,     0.37578,     0.39246,     0.40602,     0.42969,     0.46274,     0.49242,     0.53088,     0.55382,     0.55788,     0.56225,     0.56985,     0.57752,     0.58658,     0.60849,     0.63459,     0.65474,     0.67692,\n",
       "            0.67826,     0.67961,     0.68096,     0.68231,     0.68366,     0.68501,     0.68636,     0.69958,     0.70345,     0.70733,     0.72003,     0.72511,     0.73019,     0.73404,     0.73789,     0.74174,     0.74541,     0.74906,     0.75271,     0.76004,     0.76726,     0.76918,      0.7711,\n",
       "            0.77302,     0.77494,     0.77686,     0.77878,     0.78092,     0.78326,     0.78559,     0.78792,     0.79026,     0.79259,     0.79244,      0.7916,     0.79075,     0.78991,      0.7903,     0.79199,     0.79369,     0.79538,     0.79708,     0.79877,     0.80047,     0.80216,     0.80549,\n",
       "            0.81678,     0.82782,     0.84697,     0.85009,     0.85122,     0.85234,     0.85346,     0.85459,     0.85571,     0.85683,     0.85796,     0.85908,      0.8602,     0.86133,     0.86245,     0.86357,      0.8647,     0.87003,     0.88201,     0.88486,     0.88744,     0.89002,      0.8926,\n",
       "            0.89518,     0.89776,     0.90011,       0.901,     0.90188,     0.90276,     0.90364,     0.90452,      0.9054,     0.90628,     0.90716,     0.90805,     0.90893,     0.90981,     0.91069,     0.91157,     0.91245,     0.91333,     0.91421,      0.9151,     0.91598,     0.91686,     0.91774,\n",
       "            0.91862,     0.91951,      0.9204,     0.92129,     0.92218,     0.92307,     0.92396,     0.92485,     0.92574,     0.92663,     0.92751,      0.9284,     0.92929,     0.93018,     0.93107,     0.93196,     0.93285,     0.93374,     0.93463,     0.93552,     0.93641,     0.93729,     0.93755,\n",
       "            0.93761,     0.93767,     0.93773,     0.93779,     0.93785,     0.93791,     0.93797,     0.93803,     0.93809,     0.93815,     0.93821,     0.93827,     0.93833,     0.93839,     0.93845,     0.93851,     0.93857,     0.93863,     0.93869,     0.93875,     0.93882,     0.93888,     0.93894,\n",
       "              0.939,     0.93906,     0.93912,     0.93918,     0.93924,      0.9393,     0.93936,     0.93942,     0.93948,     0.93954,      0.9396,     0.93966,     0.93972,     0.93978,     0.93984,      0.9399,     0.93996,     0.94002,     0.94008,     0.94014,      0.9402,     0.94027,     0.94033,\n",
       "            0.94039,     0.94045,     0.94051,     0.94057,     0.94063,     0.94069,     0.94075,     0.94081,     0.94087,     0.94093,     0.94099,     0.94105,     0.94111,     0.94117,     0.94123,     0.94129,     0.94135,     0.94141,     0.94147,     0.94153,     0.94159,     0.94165,     0.94172,\n",
       "            0.94178,     0.94184,      0.9419,     0.94196,     0.94202,     0.94208,     0.94214,      0.9422,     0.94226,     0.94232,     0.94238,     0.94244,      0.9425,     0.94256,     0.94262,     0.94268,     0.94274,      0.9428,     0.94286,     0.94292,     0.94298,     0.94304,      0.9431,\n",
       "            0.94317,     0.94323,     0.94329,     0.94335,     0.94341,     0.94347,     0.94353,     0.94359,     0.94365,     0.94371,     0.94377,     0.94383,     0.94389,     0.94395,     0.94401,     0.94407,     0.94413,     0.94419,     0.94425,     0.94431,     0.94437,     0.94443,     0.94449,\n",
       "            0.94455,     0.94462,     0.94468,     0.94474,      0.9448,     0.94486,     0.94492,     0.94498,     0.94504,      0.9451,     0.94516,     0.94522,     0.94528,     0.94534,      0.9454,     0.94546,     0.94552,     0.94558,     0.94564,      0.9457,     0.94576,     0.94582,     0.94588,\n",
       "            0.94594,       0.946,     0.94606,     0.94613,     0.94619,     0.94625,     0.94631,     0.94637,     0.94643,     0.94649,     0.94655,     0.94661,     0.94667,     0.94673,     0.94679,     0.94685,     0.94691,     0.94697,     0.94703,     0.94709,     0.94715,     0.94721,     0.94727,\n",
       "            0.94733,     0.94739,     0.94745,     0.94751,     0.94758,     0.94764,      0.9477,     0.94776,     0.94782,     0.94788,     0.94794,       0.948,     0.94806,     0.94812,     0.94818,     0.94824,      0.9483,     0.94836,     0.94842,     0.94848,     0.94854,      0.9486,     0.94866,\n",
       "            0.94872,     0.94878,     0.94884,      0.9489,     0.94896,     0.94903,     0.94909,     0.94915,     0.94921,     0.94927,     0.94933,     0.94939,     0.94945,     0.94951,     0.94957,     0.94963,     0.94969,     0.94975,     0.94981,     0.94987,     0.94993,     0.94999,     0.95005,\n",
       "            0.95011,     0.95017,     0.95023,     0.95029,     0.95035,     0.95041,     0.95048,     0.95054,      0.9506,     0.95066,     0.95072,     0.95078,     0.95084,      0.9509,     0.95096,     0.95102,     0.95108,     0.95114,      0.9512,     0.95126,     0.95132,     0.95138,     0.95144,\n",
       "             0.9515,     0.95156,     0.95162,     0.95168,     0.95174,      0.9518,     0.95186,     0.95193,     0.95199,     0.95205,     0.95211,     0.95217,     0.95223,     0.95229,     0.95235,     0.95241,     0.95247,     0.95253,     0.95259,     0.95265,     0.95271,     0.95277,     0.95283,\n",
       "            0.95289,     0.95295,     0.95301,     0.95307,     0.95313,     0.95319,     0.95325,     0.95331,     0.95338,     0.95344,      0.9535,     0.95356,     0.95362,     0.95368,     0.95374,      0.9538,     0.95386,     0.95392,     0.95398,     0.95404,      0.9541,     0.95416,     0.95422,\n",
       "            0.95428,     0.95434,      0.9544,     0.95446,     0.95452,     0.95458,     0.95464,      0.9547,     0.95476,     0.95483,     0.95489,     0.95495,     0.95501,     0.95507,     0.95513,     0.95519,     0.95525,     0.95531,     0.95537,     0.95543,     0.95549,     0.95555,     0.95561,\n",
       "            0.95567,     0.95573,     0.95579,     0.95585,     0.95591,     0.95597,     0.95603,     0.95609,     0.95615,     0.95621,     0.95628,     0.95634,      0.9564,     0.95646,     0.95652,     0.95658,     0.95664,      0.9567,     0.95676,     0.95682,     0.95688,     0.95694,       0.957,\n",
       "            0.95706,     0.95712,     0.95718,     0.95724,      0.9573,     0.95736,     0.95742,     0.95739,     0.95731,     0.95722,     0.95714,     0.95705,     0.95697,     0.95688,     0.95679,     0.95671,     0.95662,     0.95654,     0.95675,     0.95704,     0.95732,     0.95761,      0.9579,\n",
       "            0.95818,     0.95847,     0.95875,     0.95904,     0.95932,     0.95961,      0.9599,     0.96018,     0.96047,     0.96075,     0.96104,     0.96132,     0.96161,     0.96189,     0.96218,     0.96247,     0.96275,     0.96304,     0.96332,     0.96361,     0.96389,     0.96418,     0.96446,\n",
       "            0.96475,     0.96504,     0.96532,     0.96561,     0.96589,     0.96618,     0.96646,     0.96675,     0.96703,     0.96732,     0.96761,     0.96789,     0.96818,     0.96846,     0.96875,     0.96903,     0.96932,      0.9696,     0.96989,     0.97018,     0.97046,     0.97075,     0.97103,\n",
       "            0.97132,      0.9716,     0.97189,     0.97217,     0.97246,     0.97275,     0.97303,     0.97332,      0.9736,     0.97389,     0.97417,     0.97446,     0.97474,     0.97503,     0.97532,      0.9756,     0.97589,     0.97617,     0.97646,     0.97674,     0.97703,     0.97732,      0.9776,\n",
       "            0.97776,     0.97772,     0.97768,     0.97764,      0.9776,     0.97756,     0.97752,     0.97748,     0.97744,      0.9774,     0.97736,     0.97732,     0.97728,     0.97726,     0.97725,     0.97723,     0.97721,      0.9772,     0.97718,     0.97717,     0.97715,     0.97714,     0.97712,\n",
       "            0.97711,     0.97709,     0.97707,     0.97706,     0.97704,     0.97703,     0.97701,       0.977,     0.97698,     0.97697,     0.97695,     0.97694,     0.97692,      0.9769,     0.97689,     0.97687,     0.97686,     0.97684,     0.97683,     0.97681,      0.9768,     0.97678,     0.97676,\n",
       "            0.97675,     0.97666,     0.97655,     0.97643,     0.97632,      0.9762,     0.97887,     0.98192,     0.98496,     0.98801,     0.99106,     0.99411,     0.99716,           1,           1,           1,           1,           1,           1,           1,           1,           1,           1,\n",
       "                  1,           1,           1,           1,           1,           1,           1,           1,           1,           1,           1,           1,           1,           1,           1,           1,           1,           1,           1,           1,           1,           1,           1,\n",
       "                  1,           1,           1,           1,           1,           1,           1,           1,           1,           1,           1,           1,           1,           1,           1,           1,           1,           1,           1,           1,           1,           1,           1,\n",
       "                  1,           1,           1,           1,           1,           1,           1,           1,           1,           1,           1,           1,           1,           1,           1,           1,           1,           1,           1,           1,           1,           1,           1,\n",
       "                  1,           1,           1,           1,           1,           1,           1,           1,           1,           1,           1,           1,           1,           1,           1,           1,           1,           1,           1,           1,           1,           1,           1,\n",
       "                  1,           1,           1,           1,           1,           1,           1,           1,           1,           1,           1,           1,           1,           1,           1,           1,           1,           1,           1,           1,           1,           1,           1,\n",
       "                  1,           1,           1,           1,           1,           1,           1,           1,           1,           1,           1,           1,           1,           1,           1,           1,           1,           1,           1,           1,           1,           1,           1,\n",
       "                  1,           1,           1,           1,           1,           1,           1,           1,           1,           1,           1,           1,           1,           1,           1,           1,           1,           1,           1,           1,           1,           1,           1,\n",
       "                  1,           1,           1,           1,           1,           1,           1,           1,           1,           1,           1,           1,           1,           1,           1,           1,           1,           1,           1,           1,           1,           1,           1,\n",
       "                  1,           1,           1,           1,           1,           1,           1,           1,           1,           1,           1,           1,           1,           1,           1,           1,           1,           1,           1,           1,           1,           1,           1,\n",
       "                  1,           1,           1,           1,           1,           1,           1,           1,           1,           1,           1,           1,           1,           1,           1,           1,           1,           1,           1,           1,           1,           1,           1,\n",
       "                  1,           1,           1,           1,           1,           1,           1,           1,           1,           1,           1,           1,           1,           1,           1,           1,           1,           1,           1,           1,           1,           1,           1,\n",
       "                  1,           1,           1,           1,           1,           1,           1,           1,           1,           1,           1,           1,           1,           1,           1,           1,           1,           1,           1,           1,           1,           1,           1,\n",
       "                  1,           1,           1,           1,           1,           1,           1,           1,           1,           1,           1,           1,           1,           1,           1,           1,           1,           1,           1,           1,           1,           1,           1,\n",
       "                  1,           1,           1,           1,           1,           1,           1,           1,           1,           1,           1,           1,           1,           1,           1,           1,           1,           1,           1,           1,           1,           1,           1,\n",
       "                  1,           1,           1,           1,           1,           1,           1,           1,           1,           1,           1,           1,           1,           1,           1,           1,           1,           1,           1,           1,           1,           1,           1,\n",
       "                  1,           1,           1,           1,           1,           1,           1,           1,           1,           1,           1,           1,           1,           1,           1,           1,           1,           1,           1,           1,           1,           1,           1,\n",
       "                  1,           1,           1,           1,           1,           1,           1,           1,           1,           1,           1]]), 'Confidence', 'Precision'], [array([          0,    0.001001,    0.002002,    0.003003,    0.004004,    0.005005,    0.006006,    0.007007,    0.008008,    0.009009,     0.01001,    0.011011,    0.012012,    0.013013,    0.014014,    0.015015,    0.016016,    0.017017,    0.018018,    0.019019,     0.02002,    0.021021,    0.022022,    0.023023,\n",
       "          0.024024,    0.025025,    0.026026,    0.027027,    0.028028,    0.029029,     0.03003,    0.031031,    0.032032,    0.033033,    0.034034,    0.035035,    0.036036,    0.037037,    0.038038,    0.039039,     0.04004,    0.041041,    0.042042,    0.043043,    0.044044,    0.045045,    0.046046,    0.047047,\n",
       "          0.048048,    0.049049,     0.05005,    0.051051,    0.052052,    0.053053,    0.054054,    0.055055,    0.056056,    0.057057,    0.058058,    0.059059,     0.06006,    0.061061,    0.062062,    0.063063,    0.064064,    0.065065,    0.066066,    0.067067,    0.068068,    0.069069,     0.07007,    0.071071,\n",
       "          0.072072,    0.073073,    0.074074,    0.075075,    0.076076,    0.077077,    0.078078,    0.079079,     0.08008,    0.081081,    0.082082,    0.083083,    0.084084,    0.085085,    0.086086,    0.087087,    0.088088,    0.089089,     0.09009,    0.091091,    0.092092,    0.093093,    0.094094,    0.095095,\n",
       "          0.096096,    0.097097,    0.098098,    0.099099,      0.1001,      0.1011,      0.1021,      0.1031,      0.1041,     0.10511,     0.10611,     0.10711,     0.10811,     0.10911,     0.11011,     0.11111,     0.11211,     0.11311,     0.11411,     0.11512,     0.11612,     0.11712,     0.11812,     0.11912,\n",
       "           0.12012,     0.12112,     0.12212,     0.12312,     0.12412,     0.12513,     0.12613,     0.12713,     0.12813,     0.12913,     0.13013,     0.13113,     0.13213,     0.13313,     0.13413,     0.13514,     0.13614,     0.13714,     0.13814,     0.13914,     0.14014,     0.14114,     0.14214,     0.14314,\n",
       "           0.14414,     0.14515,     0.14615,     0.14715,     0.14815,     0.14915,     0.15015,     0.15115,     0.15215,     0.15315,     0.15415,     0.15516,     0.15616,     0.15716,     0.15816,     0.15916,     0.16016,     0.16116,     0.16216,     0.16316,     0.16416,     0.16517,     0.16617,     0.16717,\n",
       "           0.16817,     0.16917,     0.17017,     0.17117,     0.17217,     0.17317,     0.17417,     0.17518,     0.17618,     0.17718,     0.17818,     0.17918,     0.18018,     0.18118,     0.18218,     0.18318,     0.18418,     0.18519,     0.18619,     0.18719,     0.18819,     0.18919,     0.19019,     0.19119,\n",
       "           0.19219,     0.19319,     0.19419,      0.1952,      0.1962,      0.1972,      0.1982,      0.1992,      0.2002,      0.2012,      0.2022,      0.2032,      0.2042,     0.20521,     0.20621,     0.20721,     0.20821,     0.20921,     0.21021,     0.21121,     0.21221,     0.21321,     0.21421,     0.21522,\n",
       "           0.21622,     0.21722,     0.21822,     0.21922,     0.22022,     0.22122,     0.22222,     0.22322,     0.22422,     0.22523,     0.22623,     0.22723,     0.22823,     0.22923,     0.23023,     0.23123,     0.23223,     0.23323,     0.23423,     0.23524,     0.23624,     0.23724,     0.23824,     0.23924,\n",
       "           0.24024,     0.24124,     0.24224,     0.24324,     0.24424,     0.24525,     0.24625,     0.24725,     0.24825,     0.24925,     0.25025,     0.25125,     0.25225,     0.25325,     0.25425,     0.25526,     0.25626,     0.25726,     0.25826,     0.25926,     0.26026,     0.26126,     0.26226,     0.26326,\n",
       "           0.26426,     0.26527,     0.26627,     0.26727,     0.26827,     0.26927,     0.27027,     0.27127,     0.27227,     0.27327,     0.27427,     0.27528,     0.27628,     0.27728,     0.27828,     0.27928,     0.28028,     0.28128,     0.28228,     0.28328,     0.28428,     0.28529,     0.28629,     0.28729,\n",
       "           0.28829,     0.28929,     0.29029,     0.29129,     0.29229,     0.29329,     0.29429,      0.2953,      0.2963,      0.2973,      0.2983,      0.2993,      0.3003,      0.3013,      0.3023,      0.3033,      0.3043,     0.30531,     0.30631,     0.30731,     0.30831,     0.30931,     0.31031,     0.31131,\n",
       "           0.31231,     0.31331,     0.31431,     0.31532,     0.31632,     0.31732,     0.31832,     0.31932,     0.32032,     0.32132,     0.32232,     0.32332,     0.32432,     0.32533,     0.32633,     0.32733,     0.32833,     0.32933,     0.33033,     0.33133,     0.33233,     0.33333,     0.33433,     0.33534,\n",
       "           0.33634,     0.33734,     0.33834,     0.33934,     0.34034,     0.34134,     0.34234,     0.34334,     0.34434,     0.34535,     0.34635,     0.34735,     0.34835,     0.34935,     0.35035,     0.35135,     0.35235,     0.35335,     0.35435,     0.35536,     0.35636,     0.35736,     0.35836,     0.35936,\n",
       "           0.36036,     0.36136,     0.36236,     0.36336,     0.36436,     0.36537,     0.36637,     0.36737,     0.36837,     0.36937,     0.37037,     0.37137,     0.37237,     0.37337,     0.37437,     0.37538,     0.37638,     0.37738,     0.37838,     0.37938,     0.38038,     0.38138,     0.38238,     0.38338,\n",
       "           0.38438,     0.38539,     0.38639,     0.38739,     0.38839,     0.38939,     0.39039,     0.39139,     0.39239,     0.39339,     0.39439,      0.3954,      0.3964,      0.3974,      0.3984,      0.3994,      0.4004,      0.4014,      0.4024,      0.4034,      0.4044,     0.40541,     0.40641,     0.40741,\n",
       "           0.40841,     0.40941,     0.41041,     0.41141,     0.41241,     0.41341,     0.41441,     0.41542,     0.41642,     0.41742,     0.41842,     0.41942,     0.42042,     0.42142,     0.42242,     0.42342,     0.42442,     0.42543,     0.42643,     0.42743,     0.42843,     0.42943,     0.43043,     0.43143,\n",
       "           0.43243,     0.43343,     0.43443,     0.43544,     0.43644,     0.43744,     0.43844,     0.43944,     0.44044,     0.44144,     0.44244,     0.44344,     0.44444,     0.44545,     0.44645,     0.44745,     0.44845,     0.44945,     0.45045,     0.45145,     0.45245,     0.45345,     0.45445,     0.45546,\n",
       "           0.45646,     0.45746,     0.45846,     0.45946,     0.46046,     0.46146,     0.46246,     0.46346,     0.46446,     0.46547,     0.46647,     0.46747,     0.46847,     0.46947,     0.47047,     0.47147,     0.47247,     0.47347,     0.47447,     0.47548,     0.47648,     0.47748,     0.47848,     0.47948,\n",
       "           0.48048,     0.48148,     0.48248,     0.48348,     0.48448,     0.48549,     0.48649,     0.48749,     0.48849,     0.48949,     0.49049,     0.49149,     0.49249,     0.49349,     0.49449,      0.4955,      0.4965,      0.4975,      0.4985,      0.4995,      0.5005,      0.5015,      0.5025,      0.5035,\n",
       "            0.5045,     0.50551,     0.50651,     0.50751,     0.50851,     0.50951,     0.51051,     0.51151,     0.51251,     0.51351,     0.51451,     0.51552,     0.51652,     0.51752,     0.51852,     0.51952,     0.52052,     0.52152,     0.52252,     0.52352,     0.52452,     0.52553,     0.52653,     0.52753,\n",
       "           0.52853,     0.52953,     0.53053,     0.53153,     0.53253,     0.53353,     0.53453,     0.53554,     0.53654,     0.53754,     0.53854,     0.53954,     0.54054,     0.54154,     0.54254,     0.54354,     0.54454,     0.54555,     0.54655,     0.54755,     0.54855,     0.54955,     0.55055,     0.55155,\n",
       "           0.55255,     0.55355,     0.55455,     0.55556,     0.55656,     0.55756,     0.55856,     0.55956,     0.56056,     0.56156,     0.56256,     0.56356,     0.56456,     0.56557,     0.56657,     0.56757,     0.56857,     0.56957,     0.57057,     0.57157,     0.57257,     0.57357,     0.57457,     0.57558,\n",
       "           0.57658,     0.57758,     0.57858,     0.57958,     0.58058,     0.58158,     0.58258,     0.58358,     0.58458,     0.58559,     0.58659,     0.58759,     0.58859,     0.58959,     0.59059,     0.59159,     0.59259,     0.59359,     0.59459,      0.5956,      0.5966,      0.5976,      0.5986,      0.5996,\n",
       "            0.6006,      0.6016,      0.6026,      0.6036,      0.6046,     0.60561,     0.60661,     0.60761,     0.60861,     0.60961,     0.61061,     0.61161,     0.61261,     0.61361,     0.61461,     0.61562,     0.61662,     0.61762,     0.61862,     0.61962,     0.62062,     0.62162,     0.62262,     0.62362,\n",
       "           0.62462,     0.62563,     0.62663,     0.62763,     0.62863,     0.62963,     0.63063,     0.63163,     0.63263,     0.63363,     0.63463,     0.63564,     0.63664,     0.63764,     0.63864,     0.63964,     0.64064,     0.64164,     0.64264,     0.64364,     0.64464,     0.64565,     0.64665,     0.64765,\n",
       "           0.64865,     0.64965,     0.65065,     0.65165,     0.65265,     0.65365,     0.65465,     0.65566,     0.65666,     0.65766,     0.65866,     0.65966,     0.66066,     0.66166,     0.66266,     0.66366,     0.66466,     0.66567,     0.66667,     0.66767,     0.66867,     0.66967,     0.67067,     0.67167,\n",
       "           0.67267,     0.67367,     0.67467,     0.67568,     0.67668,     0.67768,     0.67868,     0.67968,     0.68068,     0.68168,     0.68268,     0.68368,     0.68468,     0.68569,     0.68669,     0.68769,     0.68869,     0.68969,     0.69069,     0.69169,     0.69269,     0.69369,     0.69469,      0.6957,\n",
       "            0.6967,      0.6977,      0.6987,      0.6997,      0.7007,      0.7017,      0.7027,      0.7037,      0.7047,     0.70571,     0.70671,     0.70771,     0.70871,     0.70971,     0.71071,     0.71171,     0.71271,     0.71371,     0.71471,     0.71572,     0.71672,     0.71772,     0.71872,     0.71972,\n",
       "           0.72072,     0.72172,     0.72272,     0.72372,     0.72472,     0.72573,     0.72673,     0.72773,     0.72873,     0.72973,     0.73073,     0.73173,     0.73273,     0.73373,     0.73473,     0.73574,     0.73674,     0.73774,     0.73874,     0.73974,     0.74074,     0.74174,     0.74274,     0.74374,\n",
       "           0.74474,     0.74575,     0.74675,     0.74775,     0.74875,     0.74975,     0.75075,     0.75175,     0.75275,     0.75375,     0.75475,     0.75576,     0.75676,     0.75776,     0.75876,     0.75976,     0.76076,     0.76176,     0.76276,     0.76376,     0.76476,     0.76577,     0.76677,     0.76777,\n",
       "           0.76877,     0.76977,     0.77077,     0.77177,     0.77277,     0.77377,     0.77477,     0.77578,     0.77678,     0.77778,     0.77878,     0.77978,     0.78078,     0.78178,     0.78278,     0.78378,     0.78478,     0.78579,     0.78679,     0.78779,     0.78879,     0.78979,     0.79079,     0.79179,\n",
       "           0.79279,     0.79379,     0.79479,      0.7958,      0.7968,      0.7978,      0.7988,      0.7998,      0.8008,      0.8018,      0.8028,      0.8038,      0.8048,     0.80581,     0.80681,     0.80781,     0.80881,     0.80981,     0.81081,     0.81181,     0.81281,     0.81381,     0.81481,     0.81582,\n",
       "           0.81682,     0.81782,     0.81882,     0.81982,     0.82082,     0.82182,     0.82282,     0.82382,     0.82482,     0.82583,     0.82683,     0.82783,     0.82883,     0.82983,     0.83083,     0.83183,     0.83283,     0.83383,     0.83483,     0.83584,     0.83684,     0.83784,     0.83884,     0.83984,\n",
       "           0.84084,     0.84184,     0.84284,     0.84384,     0.84484,     0.84585,     0.84685,     0.84785,     0.84885,     0.84985,     0.85085,     0.85185,     0.85285,     0.85385,     0.85485,     0.85586,     0.85686,     0.85786,     0.85886,     0.85986,     0.86086,     0.86186,     0.86286,     0.86386,\n",
       "           0.86486,     0.86587,     0.86687,     0.86787,     0.86887,     0.86987,     0.87087,     0.87187,     0.87287,     0.87387,     0.87487,     0.87588,     0.87688,     0.87788,     0.87888,     0.87988,     0.88088,     0.88188,     0.88288,     0.88388,     0.88488,     0.88589,     0.88689,     0.88789,\n",
       "           0.88889,     0.88989,     0.89089,     0.89189,     0.89289,     0.89389,     0.89489,      0.8959,      0.8969,      0.8979,      0.8989,      0.8999,      0.9009,      0.9019,      0.9029,      0.9039,      0.9049,     0.90591,     0.90691,     0.90791,     0.90891,     0.90991,     0.91091,     0.91191,\n",
       "           0.91291,     0.91391,     0.91491,     0.91592,     0.91692,     0.91792,     0.91892,     0.91992,     0.92092,     0.92192,     0.92292,     0.92392,     0.92492,     0.92593,     0.92693,     0.92793,     0.92893,     0.92993,     0.93093,     0.93193,     0.93293,     0.93393,     0.93493,     0.93594,\n",
       "           0.93694,     0.93794,     0.93894,     0.93994,     0.94094,     0.94194,     0.94294,     0.94394,     0.94494,     0.94595,     0.94695,     0.94795,     0.94895,     0.94995,     0.95095,     0.95195,     0.95295,     0.95395,     0.95495,     0.95596,     0.95696,     0.95796,     0.95896,     0.95996,\n",
       "           0.96096,     0.96196,     0.96296,     0.96396,     0.96496,     0.96597,     0.96697,     0.96797,     0.96897,     0.96997,     0.97097,     0.97197,     0.97297,     0.97397,     0.97497,     0.97598,     0.97698,     0.97798,     0.97898,     0.97998,     0.98098,     0.98198,     0.98298,     0.98398,\n",
       "           0.98498,     0.98599,     0.98699,     0.98799,     0.98899,     0.98999,     0.99099,     0.99199,     0.99299,     0.99399,     0.99499,       0.996,       0.997,       0.998,       0.999,           1]), array([[    0.97872,     0.97872,     0.97872,     0.97872,     0.97872,     0.97872,     0.97872,     0.97872,     0.97872,     0.97872,     0.97872,     0.97872,     0.97872,     0.97872,     0.97872,     0.97872,     0.97872,     0.97872,     0.97872,     0.97872,     0.97872,     0.97872,     0.97872,\n",
       "            0.97872,     0.97872,     0.97872,     0.97872,     0.97872,     0.97872,     0.97872,     0.97872,     0.97872,     0.97872,     0.97872,     0.97872,     0.97872,     0.97872,     0.97872,     0.97872,     0.97872,     0.97872,     0.97872,     0.97872,     0.97872,     0.97872,     0.97872,\n",
       "            0.97872,     0.97872,     0.97872,     0.97872,     0.97872,     0.97872,     0.97872,     0.97872,     0.97872,     0.97872,     0.97485,      0.9699,     0.96495,     0.95999,     0.95745,     0.95745,     0.95745,     0.95745,     0.95745,     0.95745,     0.95745,     0.95745,     0.95745,\n",
       "            0.95745,     0.95745,     0.95745,     0.95745,     0.95745,     0.95745,     0.95745,     0.95745,     0.95745,     0.95745,     0.95745,     0.95745,     0.95745,     0.95745,     0.95745,     0.95745,     0.95745,     0.95745,     0.95745,     0.95745,     0.95745,     0.95745,     0.95745,\n",
       "            0.95745,     0.95745,     0.95745,     0.95745,     0.95745,     0.95745,     0.95745,     0.95745,     0.95745,     0.95745,     0.95745,     0.95745,     0.95745,     0.95745,     0.95745,     0.95745,     0.95745,     0.95745,     0.95745,     0.95745,     0.95745,     0.95745,     0.95745,\n",
       "            0.95745,     0.95745,     0.95745,     0.95745,     0.95745,     0.95745,     0.95745,     0.95745,     0.95745,     0.95745,     0.95745,     0.95745,     0.95745,     0.95745,     0.95745,     0.95745,     0.95745,     0.95745,     0.95745,     0.95745,     0.95745,     0.95745,     0.95745,\n",
       "            0.95745,     0.95745,     0.95745,     0.95745,     0.95745,     0.95745,     0.95745,     0.95745,     0.95745,     0.95745,     0.95745,     0.95745,     0.95745,     0.95745,     0.95745,     0.95745,     0.95745,     0.95745,     0.95745,     0.95745,     0.95745,     0.95745,     0.95745,\n",
       "            0.95745,     0.95745,     0.95745,     0.95745,     0.95745,     0.95745,     0.95745,     0.95745,     0.95745,     0.95745,     0.95745,     0.95745,     0.95745,     0.95745,     0.95745,     0.95745,     0.95745,     0.95745,     0.95745,     0.95745,     0.95745,     0.95745,     0.95745,\n",
       "            0.95745,     0.95745,     0.95745,     0.95745,     0.95745,     0.95745,     0.95745,     0.95745,     0.95745,     0.95745,     0.95745,     0.95745,     0.95745,     0.95745,     0.95745,     0.95745,     0.95745,     0.95745,     0.95745,     0.95745,     0.95745,     0.95745,     0.95745,\n",
       "            0.95745,     0.95745,     0.95745,     0.95745,     0.95745,     0.95745,     0.95745,     0.95745,     0.95745,     0.95745,     0.95745,     0.95745,     0.95745,     0.95745,     0.95745,     0.95745,     0.95745,     0.95745,     0.95745,     0.95745,     0.95745,     0.95745,     0.95745,\n",
       "            0.95745,     0.95745,     0.95745,     0.95745,     0.95745,     0.95745,     0.95745,     0.95745,     0.95745,     0.95745,     0.95745,     0.95745,     0.95745,     0.95745,     0.95745,     0.95745,     0.95745,     0.95745,     0.95745,     0.95745,     0.95745,     0.95745,     0.95745,\n",
       "            0.95745,     0.95745,     0.95745,     0.95745,     0.95745,     0.95745,     0.95745,     0.95745,     0.95745,     0.95745,     0.95745,     0.95745,     0.95745,     0.95745,     0.95745,     0.95745,     0.95745,     0.95745,     0.95745,     0.95745,     0.95745,     0.95745,     0.95745,\n",
       "            0.95745,     0.95745,     0.95745,     0.95745,     0.95745,     0.95745,     0.95745,     0.95745,     0.95745,     0.95745,     0.95745,     0.95745,     0.95745,     0.95745,     0.95745,     0.95745,     0.95745,     0.95745,     0.95745,     0.95745,     0.95745,     0.95745,     0.95745,\n",
       "            0.95745,     0.95745,     0.95745,     0.95745,     0.95745,     0.95745,     0.95745,     0.95745,     0.95745,     0.95745,     0.95745,     0.95745,     0.95745,     0.95745,     0.95745,     0.95745,     0.95745,     0.95745,     0.95745,     0.95745,     0.95745,     0.95745,     0.95745,\n",
       "            0.95745,     0.95745,     0.95745,     0.95745,     0.95745,     0.95745,     0.95745,     0.95745,     0.95745,     0.95745,     0.95745,     0.95745,     0.95745,     0.95745,     0.95745,     0.95745,     0.95745,     0.95745,     0.95745,     0.95745,     0.95745,     0.95745,     0.95745,\n",
       "            0.95745,     0.95745,     0.95745,     0.95745,     0.95745,     0.95745,     0.95745,     0.95745,     0.95745,     0.95745,     0.95745,     0.95745,     0.95745,     0.95745,     0.95745,     0.95745,     0.95745,     0.95745,     0.95745,     0.95745,     0.95745,     0.95745,     0.95745,\n",
       "            0.95745,     0.95745,     0.95745,     0.95745,     0.95745,     0.95745,     0.95745,     0.95745,     0.95745,     0.95745,     0.95745,     0.95745,     0.95745,     0.95745,     0.95745,     0.95745,     0.95745,     0.95745,     0.95745,     0.95745,     0.95745,     0.95745,     0.95745,\n",
       "            0.95745,     0.95745,     0.95745,     0.95745,     0.95745,     0.95745,     0.95745,     0.95745,     0.95745,     0.95745,     0.95745,     0.95745,     0.95745,     0.95745,     0.95745,     0.95745,     0.95745,     0.95745,     0.95745,     0.95745,     0.95745,     0.95745,     0.95745,\n",
       "            0.95745,     0.95745,     0.95745,     0.95745,     0.95745,     0.95745,     0.95745,     0.95745,     0.95745,     0.95745,     0.95745,     0.95745,     0.95745,     0.95745,     0.95745,     0.95745,     0.95745,     0.95745,     0.95745,     0.95745,     0.95745,     0.95745,     0.95745,\n",
       "            0.95745,     0.95745,     0.95745,     0.95745,     0.95745,     0.95745,     0.95745,     0.95745,     0.95745,     0.95745,     0.95745,     0.95745,     0.95745,     0.95745,     0.95745,     0.95745,     0.95745,     0.95745,     0.95745,     0.95745,     0.95745,     0.95745,     0.95745,\n",
       "            0.95745,     0.95745,     0.95745,     0.95745,     0.95745,     0.95745,     0.95745,     0.95625,     0.95428,     0.95231,     0.95034,     0.94837,      0.9464,     0.94443,     0.94245,     0.94048,     0.93851,     0.93654,     0.93617,     0.93617,     0.93617,     0.93617,     0.93617,\n",
       "            0.93617,     0.93617,     0.93617,     0.93617,     0.93617,     0.93617,     0.93617,     0.93617,     0.93617,     0.93617,     0.93617,     0.93617,     0.93617,     0.93617,     0.93617,     0.93617,     0.93617,     0.93617,     0.93617,     0.93617,     0.93617,     0.93617,     0.93617,\n",
       "            0.93617,     0.93617,     0.93617,     0.93617,     0.93617,     0.93617,     0.93617,     0.93617,     0.93617,     0.93617,     0.93617,     0.93617,     0.93617,     0.93617,     0.93617,     0.93617,     0.93617,     0.93617,     0.93617,     0.93617,     0.93617,     0.93617,     0.93617,\n",
       "            0.93617,     0.93617,     0.93617,     0.93617,     0.93617,     0.93617,     0.93617,     0.93617,     0.93617,     0.93617,     0.93617,     0.93617,     0.93617,     0.93617,     0.93617,     0.93617,     0.93617,     0.93617,     0.93617,     0.93617,     0.93617,     0.93617,     0.93617,\n",
       "            0.93553,     0.93385,     0.93217,     0.93048,      0.9288,     0.92712,     0.92543,     0.92375,     0.92207,     0.92039,      0.9187,     0.91702,     0.91534,     0.91443,     0.91381,     0.91318,     0.91256,     0.91193,     0.91131,     0.91068,     0.91006,     0.90943,     0.90881,\n",
       "            0.90818,     0.90756,     0.90693,     0.90631,     0.90568,     0.90506,     0.90443,     0.90381,     0.90318,     0.90256,     0.90193,     0.90131,     0.90068,     0.90006,     0.89943,     0.89881,     0.89818,     0.89756,     0.89694,     0.89631,     0.89569,     0.89506,     0.89444,\n",
       "            0.89381,     0.89056,     0.88614,     0.88172,      0.8773,     0.87288,     0.87234,     0.87234,     0.87234,     0.87234,     0.87234,     0.87234,     0.87234,     0.87174,     0.86312,      0.8545,     0.84932,     0.84643,     0.84354,     0.84065,     0.83775,     0.83486,     0.83197,\n",
       "            0.82924,     0.82702,     0.82481,     0.82259,     0.82037,     0.81815,     0.81594,     0.81372,      0.8115,     0.80928,     0.80815,      0.8076,     0.80705,     0.80651,     0.80596,     0.80541,     0.80486,     0.80431,     0.80376,     0.80321,     0.80266,     0.80211,     0.80156,\n",
       "            0.80101,     0.80047,     0.79992,     0.79937,     0.79882,     0.79827,     0.79772,     0.79717,     0.79662,     0.79607,     0.79552,     0.79497,     0.79443,     0.79388,     0.79333,     0.79278,     0.79223,     0.79168,     0.79113,     0.79058,     0.79003,     0.78948,     0.78893,\n",
       "            0.78839,     0.78784,     0.78729,     0.77658,     0.76548,     0.76078,     0.75607,     0.75137,     0.74666,     0.74394,     0.74267,     0.74139,     0.74012,     0.73884,     0.73756,     0.73629,     0.73501,     0.73374,     0.73246,     0.73119,     0.72991,     0.72863,     0.72736,\n",
       "            0.72608,     0.72481,     0.72353,     0.71686,     0.70959,     0.70232,     0.67963,     0.67428,     0.66893,     0.66358,     0.65772,     0.65034,     0.64295,     0.63752,     0.63542,     0.63332,     0.63122,     0.62912,     0.62702,     0.62492,     0.62282,     0.62072,     0.61862,\n",
       "            0.61569,     0.61013,     0.60457,     0.59901,     0.59008,     0.57636,     0.57304,     0.57139,     0.56973,     0.56808,     0.56642,     0.56477,     0.56311,     0.56146,      0.5598,     0.55814,     0.55649,     0.55483,     0.55311,     0.54185,      0.5314,     0.52696,     0.52253,\n",
       "             0.5181,     0.51367,     0.50997,     0.50788,     0.50578,     0.50369,     0.50159,     0.49949,      0.4974,      0.4953,      0.4932,     0.49111,     0.48759,       0.477,     0.46408,     0.44541,     0.44094,     0.43647,     0.43201,     0.42754,     0.42042,     0.41115,     0.40175,\n",
       "            0.39198,     0.36861,     0.36004,      0.3583,     0.35657,     0.35484,      0.3531,     0.35137,     0.34964,     0.34791,     0.34617,     0.34444,     0.34271,     0.34098,     0.29873,     0.28489,     0.27326,     0.26436,     0.25545,     0.25116,     0.24694,     0.24271,     0.23849,\n",
       "            0.23427,     0.23221,     0.23027,     0.22832,     0.22638,     0.22444,      0.2225,     0.22056,     0.21862,     0.21668,     0.21474,      0.2128,     0.20867,     0.20451,     0.20034,     0.19617,     0.19201,      0.1895,     0.18723,     0.18496,     0.18269,     0.18042,     0.17815,\n",
       "            0.17588,     0.17361,     0.17134,     0.16789,     0.16328,     0.15866,     0.15404,     0.14942,     0.13829,      0.1272,     0.12289,     0.11858,     0.11427,     0.10996,     0.10586,     0.10283,    0.099791,    0.096755,    0.093719,    0.090683,    0.087647,     0.07897,    0.060608,\n",
       "           0.055217,    0.049825,    0.044434,     0.03901,    0.033567,    0.028124,    0.022681,           0,           0,           0,           0,           0,           0,           0,           0,           0,           0,           0,           0,           0,           0,           0,           0,\n",
       "                  0,           0,           0,           0,           0,           0,           0,           0,           0,           0,           0,           0,           0,           0,           0,           0,           0,           0,           0,           0,           0,           0,           0,\n",
       "                  0,           0,           0,           0,           0,           0,           0,           0,           0,           0,           0,           0,           0,           0,           0,           0,           0,           0,           0,           0,           0,           0,           0,\n",
       "                  0,           0,           0,           0,           0,           0,           0,           0,           0,           0,           0,           0,           0,           0,           0,           0,           0,           0,           0,           0,           0,           0,           0,\n",
       "                  0,           0,           0,           0,           0,           0,           0,           0,           0,           0,           0,           0,           0,           0,           0,           0,           0,           0,           0,           0,           0,           0,           0,\n",
       "                  0,           0,           0,           0,           0,           0,           0,           0,           0,           0,           0,           0,           0,           0,           0,           0,           0,           0,           0,           0,           0,           0,           0,\n",
       "                  0,           0,           0,           0,           0,           0,           0,           0,           0,           0,           0,           0,           0,           0,           0,           0,           0,           0,           0,           0,           0,           0,           0,\n",
       "                  0,           0,           0,           0,           0,           0,           0,           0,           0,           0,           0]]), 'Confidence', 'Recall']]\n",
       "fitness: 0.5347064096643874\n",
       "keys: ['metrics/precision(B)', 'metrics/recall(B)', 'metrics/mAP50(B)', 'metrics/mAP50-95(B)']\n",
       "maps: array([    0.48646])\n",
       "names: {0: 'garbage-trXY'}\n",
       "plot: True\n",
       "results_dict: {'metrics/precision(B)': 0.9545834716352926, 'metrics/recall(B)': 0.9574468085106383, 'metrics/mAP50(B)': 0.9689178940246189, 'metrics/mAP50-95(B)': 0.48646068917991725, 'fitness': 0.5347064096643874}\n",
       "save_dir: WindowsPath('runs/detect/garbage_detection53')\n",
       "speed: {'preprocess': 4.296302795410156, 'inference': 115.93402756585016, 'loss': 0.0, 'postprocess': 1.0631084442138672}\n",
       "task: 'detect'"
      ]
     },
     "execution_count": 11,
     "metadata": {},
     "output_type": "execute_result"
    }
   ],
   "source": [
    "# Evaluate the model\n",
    "model.val(data=\"D:/multi-agent/dataset_v2/data.yaml\")"
   ]
  },
  {
   "cell_type": "code",
   "execution_count": 8,
   "metadata": {},
   "outputs": [
    {
     "name": "stdout",
     "output_type": "stream",
     "text": [
      "\n",
      "image 1/1 D:\\multi-agent\\dataset_v2\\test\\images\\image_4_jpg.rf.5b79e728b8d0a814937ae72e914754b2.jpg: 640x640 6 garbage-trXYs, 190.1ms\n",
      "Speed: 8.7ms preprocess, 190.1ms inference, 15.1ms postprocess per image at shape (1, 3, 640, 640)\n",
      "Results saved to \u001b[1mruns\\detect\\predict\u001b[0m\n"
     ]
    }
   ],
   "source": [
    "from ultralytics import YOLO\n",
    "import matplotlib.pyplot as plt\n",
    "import cv2\n",
    "\n",
    "model = YOLO('model/yolov8_garbage_detection.pt')\n",
    "\n",
    "# TEST 1\n",
    "# Perform inference on a test image\n",
    "results = model.predict('D:/multi-agent/dataset_v2/test/images/image_4_jpg.rf.5b79e728b8d0a814937ae72e914754b2.jpg', save=True)\n",
    "\n",
    "# Ensure the image is loaded in BGR format for OpenCV\n",
    "img_path = 'D:/multi-agent/dataset_v2/test/images/image_4_jpg.rf.5b79e728b8d0a814937ae72e914754b2.jpg'\n",
    "image = cv2.imread(img_path)\n",
    "image = cv2.cvtColor(image, cv2.COLOR_BGR2RGB)\n",
    "\n",
    "# Draw bounding boxes on the image\n",
    "for result in results:\n",
    "    boxes = result.boxes.xyxy  # Get the xyxy format bounding boxes\n",
    "    for i, box in enumerate(boxes):\n",
    "        x1, y1, x2, y2 = box.tolist()[:4]\n",
    "        confidence = result.boxes.conf[i]\n",
    "        class_id = result.boxes.cls[i]\n",
    "        label = f'{result.names[int(class_id)]} {confidence:.2f}'\n",
    "\n",
    "        # Draw the bounding box\n",
    "        cv2.rectangle(image, (int(x1), int(y1)), (int(x2), int(y2)), (255, 0, 0), 2)\n",
    "        cv2.putText(image, label, (int(x1), int(y1) - 10), cv2.FONT_HERSHEY_SIMPLEX, 0.9, (255, 0, 0), 2)\n",
    "\n",
    "# Display the image with bounding boxes\n",
    "plt.figure(figsize=(10, 10))\n",
    "plt.imshow(image)\n",
    "plt.axis('off')\n",
    "plt.show()\n",
    "\n",
    "# Save the image with bounding boxes\n",
    "output_path = 'D:/multi-agent/output/inference_results/test1.jpg'\n",
    "cv2.imwrite(output_path, cv2.cvtColor(image, cv2.COLOR_RGB2BGR))"
   ]
  },
  {
   "cell_type": "code",
   "execution_count": 19,
   "metadata": {},
   "outputs": [
    {
     "name": "stdout",
     "output_type": "stream",
     "text": [
      "1\n",
      "0 184.20132446289062 223.56985473632812 211.44692993164062 249.39523315429688\n",
      "1 438.04345703125 179.9824676513672 465.652099609375 207.02635192871094\n",
      "2 197.59103393554688 162.53125 224.23345947265625 188.08938598632812\n",
      "3 189.923583984375 76.04170227050781 218.5023193359375 104.14527893066406\n",
      "4 463.98284912109375 330.84613037109375 485.42816162109375 358.26953125\n",
      "5 455.5809020996094 439.46392822265625 479.3044128417969 469.84698486328125\n"
     ]
    }
   ],
   "source": [
    "# print(results)\n",
    "# print(result.boxes.xyxy)\n",
    "print(len(results))\n",
    "for result in results:\n",
    "    boxes = result.boxes.xyxy  # Get the xyxy format bounding boxes\n",
    "    for i, box in enumerate(boxes):\n",
    "        x1, y1, x2, y2 = box.tolist()[:4]\n",
    "        print(i, x1, y1, x2, y2)"
   ]
  },
  {
   "cell_type": "code",
   "execution_count": 9,
   "metadata": {},
   "outputs": [
    {
     "name": "stdout",
     "output_type": "stream",
     "text": [
      "Requirement already satisfied: pillow in c:\\users\\snepo\\appdata\\local\\programs\\python\\python311\\lib\\site-packages (10.1.0)\n",
      "Note: you may need to restart the kernel to use updated packages.\n",
      "Image Dimensions: Width = 640, Height = 640\n",
      "Top-left corner: (0, 0)\n",
      "Top-right corner: (639, 0)\n",
      "Bottom-left corner: (0, 639)\n",
      "Bottom-right corner: (639, 639)\n",
      "640\n"
     ]
    },
    {
     "name": "stderr",
     "output_type": "stream",
     "text": [
      "DEPRECATION: Loading egg at c:\\users\\snepo\\appdata\\local\\programs\\python\\python311\\lib\\site-packages\\hyperopt-0.2.7-py3.11.egg is deprecated. pip 24.3 will enforce this behaviour change. A possible replacement is to use pip for package installation. Discussion can be found at https://github.com/pypa/pip/issues/12330\n",
      "DEPRECATION: Loading egg at c:\\users\\snepo\\appdata\\local\\programs\\python\\python311\\lib\\site-packages\\numpydoc-1.6.0-py3.11.egg is deprecated. pip 24.3 will enforce this behaviour change. A possible replacement is to use pip for package installation. Discussion can be found at https://github.com/pypa/pip/issues/12330\n",
      "DEPRECATION: Loading egg at c:\\users\\snepo\\appdata\\local\\programs\\python\\python311\\lib\\site-packages\\pathlib-1.0.1-py3.11.egg is deprecated. pip 24.3 will enforce this behaviour change. A possible replacement is to use pip for package installation. Discussion can be found at https://github.com/pypa/pip/issues/12330\n",
      "DEPRECATION: Loading egg at c:\\users\\snepo\\appdata\\local\\programs\\python\\python311\\lib\\site-packages\\pykg2vec-0.0.52-py3.11.egg is deprecated. pip 24.3 will enforce this behaviour change. A possible replacement is to use pip for package installation. Discussion can be found at https://github.com/pypa/pip/issues/12330\n",
      "DEPRECATION: Loading egg at c:\\users\\snepo\\appdata\\local\\programs\\python\\python311\\lib\\site-packages\\seaborn-0.13.0-py3.11.egg is deprecated. pip 24.3 will enforce this behaviour change. A possible replacement is to use pip for package installation. Discussion can be found at https://github.com/pypa/pip/issues/12330\n",
      "DEPRECATION: Loading egg at c:\\users\\snepo\\appdata\\local\\programs\\python\\python311\\lib\\site-packages\\sphinx_gallery-0.15.0-py3.11.egg is deprecated. pip 24.3 will enforce this behaviour change. A possible replacement is to use pip for package installation. Discussion can be found at https://github.com/pypa/pip/issues/12330\n"
     ]
    }
   ],
   "source": [
    "%pip install pillow\n",
    "\n",
    "from PIL import Image\n",
    "\n",
    "# Load the image\n",
    "image_path = 'D:/multi-agent/dataset_v2/test/images/image_4_jpg.rf.5b79e728b8d0a814937ae72e914754b2.jpg'  # Replace with the path to your image file\n",
    "image = Image.open(image_path)\n",
    "\n",
    "# Get image dimensions\n",
    "width, height = image.size\n",
    "\n",
    "# Print image dimensions\n",
    "print(f\"Image Dimensions: Width = {width}, Height = {height}\")\n",
    "\n",
    "# Print coordinates of the corners\n",
    "# (0, 0) is the top-left corner\n",
    "# (width-1, 0) is the top-right corner\n",
    "# (0, height-1) is the bottom-left corner\n",
    "# (width-1, height-1) is the bottom-right corner\n",
    "\n",
    "corners = {\n",
    "    \"Top-left\": (0, 0),\n",
    "    \"Top-right\": (width - 1, 0),\n",
    "    \"Bottom-left\": (0, height - 1),\n",
    "    \"Bottom-right\": (width - 1, height - 1)\n",
    "}\n",
    "\n",
    "for corner, coordinates in corners.items():\n",
    "    print(f\"{corner} corner: {coordinates}\")\n",
    "\n",
    "# print(width)\n"
   ]
  },
  {
   "cell_type": "code",
   "execution_count": 10,
   "metadata": {},
   "outputs": [],
   "source": [
    "import numpy as np\n",
    "\n",
    "env_map = np.zeros((width, height), dtype=int)\n",
    "\n",
    "for result in results:\n",
    "    boxes = result.boxes.xyxy  \n",
    "    for i, box in enumerate(boxes):\n",
    "        x1, y1, x2, y2 = box.tolist()[:4]\n",
    "        x_min = int(x1)\n",
    "        x_max = int(x2)\n",
    "        y_min = int(y1)\n",
    "        y_max = int(y2)\n",
    "        # Update the environment map\n",
    "        env_map[y_min:y_max, x_min:x_max] = 1"
   ]
  },
  {
   "cell_type": "code",
   "execution_count": 11,
   "metadata": {},
   "outputs": [],
   "source": [
    "env_map_resized_image = Image.fromarray(env_map).resize((512, 512), Image.NEAREST)\n",
    "env_map_resized = np.array(env_map_resized_image)\n",
    "\n",
    "np.save('test1_envmap_resized.npy', env_map_resized)"
   ]
  },
  {
   "cell_type": "code",
   "execution_count": 15,
   "metadata": {},
   "outputs": [
    {
     "name": "stdout",
     "output_type": "stream",
     "text": [
      "1\n",
      "0\n"
     ]
    }
   ],
   "source": [
    "# check\n",
    "# print(env_map_resized)\n",
    "print(env_map[97, 200])\n",
    "print(env_map[500, 500])"
   ]
  },
  {
   "cell_type": "code",
   "execution_count": null,
   "metadata": {},
   "outputs": [],
   "source": [
    "# # from ultralytics import YOLO\n",
    "# # import matplotlib.pyplot as plt\n",
    "# # import cv2\n",
    "\n",
    "# # Test 2\n",
    "# # Perform inference on a test image\n",
    "# results = model.predict('D:/multi-agent/dataset_v2/test/images/image_7_jpg.rf.6db875e39c6c3015bd33a3d495f99bd7.jpg', save=True)\n",
    "\n",
    "# # Ensure the image is loaded in BGR format for OpenCV\n",
    "# img_path = 'D:/multi-agent/dataset_v2/test/images/image_7_jpg.rf.6db875e39c6c3015bd33a3d495f99bd7.jpg'\n",
    "# image = cv2.imread(img_path)\n",
    "# image = cv2.cvtColor(image, cv2.COLOR_BGR2RGB)\n",
    "\n",
    "# # Draw bounding boxes on the image\n",
    "# for result in results:\n",
    "#     boxes = result.boxes.xyxy  # Get the xyxy format bounding boxes\n",
    "#     for i, box in enumerate(boxes):\n",
    "#         x1, y1, x2, y2 = box.tolist()[:4]\n",
    "#         confidence = result.boxes.conf[i]\n",
    "#         class_id = result.boxes.cls[i]\n",
    "#         label = f'{result.names[int(class_id)]} {confidence:.2f}'\n",
    "\n",
    "#         # Draw the bounding box\n",
    "#         cv2.rectangle(image, (int(x1), int(y1)), (int(x2), int(y2)), (255, 0, 0), 2)\n",
    "#         cv2.putText(image, label, (int(x1), int(y1) - 10), cv2.FONT_HERSHEY_SIMPLEX, 0.9, (255, 0, 0), 2)\n",
    "\n",
    "# # Display the image with bounding boxes\n",
    "# plt.figure(figsize=(10, 10))\n",
    "# plt.imshow(image)\n",
    "# plt.axis('off')\n",
    "# plt.show()\n",
    "\n",
    "# # Save the image with bounding boxes\n",
    "# output_path = 'D:/multi-agent/output/inference_results/test2.jpg'\n",
    "# cv2.imwrite(output_path, cv2.cvtColor(image, cv2.COLOR_RGB2BGR))"
   ]
  }
 ],
 "metadata": {
  "kernelspec": {
   "display_name": "Python 3",
   "language": "python",
   "name": "python3"
  },
  "language_info": {
   "codemirror_mode": {
    "name": "ipython",
    "version": 3
   },
   "file_extension": ".py",
   "mimetype": "text/x-python",
   "name": "python",
   "nbconvert_exporter": "python",
   "pygments_lexer": "ipython3",
   "version": "3.11.2"
  }
 },
 "nbformat": 4,
 "nbformat_minor": 2
}
