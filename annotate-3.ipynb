{
 "cells": [
  {
   "cell_type": "markdown",
   "metadata": {},
   "source": [
    "Using imgaug to generate 40 augmented images as well as their corresponding polygon annotations from the \"sample garbage space\" image and its corresponding polygon annotations xml file"
   ]
  },
  {
   "cell_type": "code",
   "execution_count": 1,
   "metadata": {},
   "outputs": [
    {
     "name": "stdout",
     "output_type": "stream",
     "text": [
      "Requirement already satisfied: imgaug in c:\\users\\snepo\\appdata\\local\\programs\\python\\python311\\lib\\site-packages (0.4.0)\n",
      "Requirement already satisfied: imageio in c:\\users\\snepo\\appdata\\local\\programs\\python\\python311\\lib\\site-packages (2.34.1)\n",
      "Requirement already satisfied: lxml in c:\\users\\snepo\\appdata\\local\\programs\\python\\python311\\lib\\site-packages (4.9.3)\n",
      "Requirement already satisfied: six in c:\\users\\snepo\\appdata\\local\\programs\\python\\python311\\lib\\site-packages (from imgaug) (1.16.0)\n",
      "Requirement already satisfied: numpy>=1.15 in c:\\users\\snepo\\appdata\\local\\programs\\python\\python311\\lib\\site-packages (from imgaug) (1.26.1)\n",
      "Requirement already satisfied: scipy in c:\\users\\snepo\\appdata\\local\\programs\\python\\python311\\lib\\site-packages (from imgaug) (1.10.0)\n",
      "Requirement already satisfied: Pillow in c:\\users\\snepo\\appdata\\local\\programs\\python\\python311\\lib\\site-packages (from imgaug) (10.1.0)\n",
      "Requirement already satisfied: matplotlib in c:\\users\\snepo\\appdata\\local\\programs\\python\\python311\\lib\\site-packages (from imgaug) (3.8.2)\n",
      "Requirement already satisfied: scikit-image>=0.14.2 in c:\\users\\snepo\\appdata\\local\\programs\\python\\python311\\lib\\site-packages (from imgaug) (0.24.0)\n",
      "Requirement already satisfied: opencv-python in c:\\users\\snepo\\appdata\\local\\programs\\python\\python311\\lib\\site-packages (from imgaug) (4.9.0.80)\n",
      "Requirement already satisfied: Shapely in c:\\users\\snepo\\appdata\\local\\programs\\python\\python311\\lib\\site-packages (from imgaug) (2.0.4)\n",
      "Requirement already satisfied: networkx>=2.8 in c:\\users\\snepo\\appdata\\local\\programs\\python\\python311\\lib\\site-packages (from scikit-image>=0.14.2->imgaug) (3.2.1)\n",
      "Requirement already satisfied: tifffile>=2022.8.12 in c:\\users\\snepo\\appdata\\local\\programs\\python\\python311\\lib\\site-packages (from scikit-image>=0.14.2->imgaug) (2024.7.2)\n",
      "Requirement already satisfied: packaging>=21 in c:\\users\\snepo\\appdata\\local\\programs\\python\\python311\\lib\\site-packages (from scikit-image>=0.14.2->imgaug) (23.1)\n",
      "Requirement already satisfied: lazy-loader>=0.4 in c:\\users\\snepo\\appdata\\local\\programs\\python\\python311\\lib\\site-packages (from scikit-image>=0.14.2->imgaug) (0.4)\n",
      "Requirement already satisfied: contourpy>=1.0.1 in c:\\users\\snepo\\appdata\\local\\programs\\python\\python311\\lib\\site-packages (from matplotlib->imgaug) (1.2.0)\n",
      "Requirement already satisfied: cycler>=0.10 in c:\\users\\snepo\\appdata\\local\\programs\\python\\python311\\lib\\site-packages (from matplotlib->imgaug) (0.12.1)\n",
      "Requirement already satisfied: fonttools>=4.22.0 in c:\\users\\snepo\\appdata\\local\\programs\\python\\python311\\lib\\site-packages (from matplotlib->imgaug) (4.45.1)\n",
      "Requirement already satisfied: kiwisolver>=1.3.1 in c:\\users\\snepo\\appdata\\local\\programs\\python\\python311\\lib\\site-packages (from matplotlib->imgaug) (1.4.5)\n",
      "Requirement already satisfied: pyparsing>=2.3.1 in c:\\users\\snepo\\appdata\\local\\programs\\python\\python311\\lib\\site-packages (from matplotlib->imgaug) (3.1.1)\n",
      "Requirement already satisfied: python-dateutil>=2.7 in c:\\users\\snepo\\appdata\\local\\programs\\python\\python311\\lib\\site-packages (from matplotlib->imgaug) (2.8.2)\n",
      "Note: you may need to restart the kernel to use updated packages.\n"
     ]
    },
    {
     "name": "stderr",
     "output_type": "stream",
     "text": [
      "DEPRECATION: Loading egg at c:\\users\\snepo\\appdata\\local\\programs\\python\\python311\\lib\\site-packages\\hyperopt-0.2.7-py3.11.egg is deprecated. pip 24.3 will enforce this behaviour change. A possible replacement is to use pip for package installation. Discussion can be found at https://github.com/pypa/pip/issues/12330\n",
      "DEPRECATION: Loading egg at c:\\users\\snepo\\appdata\\local\\programs\\python\\python311\\lib\\site-packages\\numpydoc-1.6.0-py3.11.egg is deprecated. pip 24.3 will enforce this behaviour change. A possible replacement is to use pip for package installation. Discussion can be found at https://github.com/pypa/pip/issues/12330\n",
      "DEPRECATION: Loading egg at c:\\users\\snepo\\appdata\\local\\programs\\python\\python311\\lib\\site-packages\\pathlib-1.0.1-py3.11.egg is deprecated. pip 24.3 will enforce this behaviour change. A possible replacement is to use pip for package installation. Discussion can be found at https://github.com/pypa/pip/issues/12330\n",
      "DEPRECATION: Loading egg at c:\\users\\snepo\\appdata\\local\\programs\\python\\python311\\lib\\site-packages\\pykg2vec-0.0.52-py3.11.egg is deprecated. pip 24.3 will enforce this behaviour change. A possible replacement is to use pip for package installation. Discussion can be found at https://github.com/pypa/pip/issues/12330\n",
      "DEPRECATION: Loading egg at c:\\users\\snepo\\appdata\\local\\programs\\python\\python311\\lib\\site-packages\\seaborn-0.13.0-py3.11.egg is deprecated. pip 24.3 will enforce this behaviour change. A possible replacement is to use pip for package installation. Discussion can be found at https://github.com/pypa/pip/issues/12330\n",
      "DEPRECATION: Loading egg at c:\\users\\snepo\\appdata\\local\\programs\\python\\python311\\lib\\site-packages\\sphinx_gallery-0.15.0-py3.11.egg is deprecated. pip 24.3 will enforce this behaviour change. A possible replacement is to use pip for package installation. Discussion can be found at https://github.com/pypa/pip/issues/12330\n"
     ]
    }
   ],
   "source": [
    "pip install imgaug imageio lxml"
   ]
  },
  {
   "cell_type": "code",
   "execution_count": 2,
   "metadata": {},
   "outputs": [
    {
     "name": "stdout",
     "output_type": "stream",
     "text": [
      "Augmentation complete. Check the 'output3' folder for results.\n"
     ]
    }
   ],
   "source": [
    "import imgaug.augmenters as iaa\n",
    "import numpy as np\n",
    "import cv2\n",
    "import os\n",
    "import xml.etree.ElementTree as ET\n",
    "from imgaug.augmentables.polys import Polygon, PolygonsOnImage\n",
    "from imgaug.augmentables.bbs import BoundingBox, BoundingBoxesOnImage\n",
    "\n",
    "# Load the image\n",
    "image_path = \"sample garbage space.jpg\"\n",
    "image = cv2.imread(image_path)\n",
    "\n",
    "# Parse the XML annotation\n",
    "xml_path = \"annotations.xml\"\n",
    "tree = ET.parse(xml_path)\n",
    "root = tree.getroot()\n",
    "\n",
    "# Extract polygons from XML\n",
    "polygons = []\n",
    "for polygon in root.findall('.//polygon'):\n",
    "    points = polygon.get('points').split(';')\n",
    "    points = [tuple(map(float, point.split(','))) for point in points]\n",
    "    polygons.append(Polygon(points))\n",
    "\n",
    "# Convert polygons to imgaug format\n",
    "polys_oi = PolygonsOnImage(polygons, shape=image.shape)\n",
    "\n",
    "# Define augmentation pipeline\n",
    "seq = iaa.Sequential([\n",
    "    iaa.Fliplr(0.5),  # horizontal flip\n",
    "    iaa.Flipud(0.5),  # vertical flip\n",
    "    iaa.Affine(rotate=(-45, 45)),  # rotate\n",
    "    iaa.Multiply((0.8, 1.2)),  # change brightness\n",
    "])\n",
    "\n",
    "# Apply augmentations\n",
    "for i in range(20):  # Generate 20 augmented images\n",
    "    image_aug, polys_aug = seq(image=image, polygons=polys_oi)\n",
    "\n",
    "    # Save augmented image\n",
    "    aug_image_path = f\"image/output3/augmented_{i}.jpg\"\n",
    "    cv2.imwrite(aug_image_path, image_aug)\n",
    "\n",
    "    # Save augmented annotation\n",
    "    aug_root = ET.Element(\"annotations\")\n",
    "    aug_meta = ET.SubElement(aug_root, \"meta\")\n",
    "    aug_image_elem = ET.SubElement(aug_root, \"image\", id=\"0\", name=f\"augmented_{i}.jpg\", width=str(image.shape[1]), height=str(image.shape[0]))\n",
    "    \n",
    "    for polygon in polys_aug.polygons:\n",
    "        points_str = ';'.join([f\"{point[0]},{point[1]}\" for point in polygon.exterior])\n",
    "        ET.SubElement(aug_image_elem, \"polygon\", label=\"garbage\", source=\"manual\", occluded=\"0\", points=points_str, z_order=\"0\")\n",
    "\n",
    "    aug_tree = ET.ElementTree(aug_root)\n",
    "    aug_xml_path = f\"image/output3/augmented_{i}.xml\"\n",
    "    aug_tree.write(aug_xml_path)\n",
    "\n",
    "print(\"Augmentation complete. Check the 'output3' folder for results.\")\n"
   ]
  }
 ],
 "metadata": {
  "kernelspec": {
   "display_name": "Python 3",
   "language": "python",
   "name": "python3"
  },
  "language_info": {
   "codemirror_mode": {
    "name": "ipython",
    "version": 3
   },
   "file_extension": ".py",
   "mimetype": "text/x-python",
   "name": "python",
   "nbconvert_exporter": "python",
   "pygments_lexer": "ipython3",
   "version": "3.11.2"
  }
 },
 "nbformat": 4,
 "nbformat_minor": 2
}
