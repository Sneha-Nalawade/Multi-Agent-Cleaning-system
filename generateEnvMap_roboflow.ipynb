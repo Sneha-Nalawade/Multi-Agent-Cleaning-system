{
 "cells": [
  {
   "cell_type": "markdown",
   "metadata": {},
   "source": [
    "Image labelled for garbage detection using bounding boxes in Roboflow, and the corresponding annotations used to generate a 126x126 env map"
   ]
  },
  {
   "cell_type": "code",
   "execution_count": 10,
   "metadata": {},
   "outputs": [],
   "source": [
    "import numpy as np\n",
    "import json\n",
    "from PIL import Image"
   ]
  },
  {
   "cell_type": "code",
   "execution_count": 11,
   "metadata": {},
   "outputs": [],
   "source": [
    "# Sample annotation data\n",
    "annotation_data = {\n",
    "    \"boxes\": [\n",
    "        {\"label\": \"garbage\", \"x\": \"97.73\", \"y\": \"70.72\", \"width\": \"20.26\", \"height\": \"20.24\"},\n",
    "        {\"label\": \"garbage\", \"x\": \"161.57\", \"y\": \"135.38\", \"width\": \"18.95\", \"height\": \"20.56\"},\n",
    "        {\"label\": \"garbage\", \"x\": \"259.07\", \"y\": \"167.03\", \"width\": \"23.93\", \"height\": \"22.87\"},\n",
    "        {\"label\": \"garbage\", \"x\": \"291.81\", \"y\": \"199.24\", \"width\": \"22.43\", \"height\": \"23.28\"}\n",
    "    ],\n",
    "    \"height\": 240,\n",
    "    \"key\": \"sample garbage space.jpg\",\n",
    "    \"width\": 320\n",
    "}"
   ]
  },
  {
   "cell_type": "code",
   "execution_count": 12,
   "metadata": {},
   "outputs": [],
   "source": [
    "# Extract dimensions\n",
    "img_width = annotation_data[\"width\"]\n",
    "img_height = annotation_data[\"height\"]"
   ]
  },
  {
   "cell_type": "code",
   "execution_count": 13,
   "metadata": {},
   "outputs": [],
   "source": [
    "# Create a blank environment map\n",
    "env_map = np.zeros((img_height, img_width), dtype=int)"
   ]
  },
  {
   "cell_type": "code",
   "execution_count": 14,
   "metadata": {},
   "outputs": [],
   "source": [
    "# Draw the bounding boxes on the environment map\n",
    "for box in annotation_data[\"boxes\"]:\n",
    "    x = int(float(box[\"x\"]))\n",
    "    y = int(float(box[\"y\"]))\n",
    "    width = int(float(box[\"width\"]))\n",
    "    height = int(float(box[\"height\"]))\n",
    "    \n",
    "    # Calculate the coordinates of the bounding box\n",
    "    x_min = max(0, x - width // 2)\n",
    "    x_max = min(img_width, x + width // 2)\n",
    "    y_min = max(0, y - height // 2)\n",
    "    y_max = min(img_height, y + height // 2)\n",
    "    \n",
    "    # Update the environment map\n",
    "    env_map[y_min:y_max, x_min:x_max] = 1"
   ]
  },
  {
   "cell_type": "code",
   "execution_count": 15,
   "metadata": {},
   "outputs": [
    {
     "name": "stdout",
     "output_type": "stream",
     "text": [
      "[[0 0 0 ... 0 0 0]\n",
      " [0 0 0 ... 0 0 0]\n",
      " [0 0 0 ... 0 0 0]\n",
      " ...\n",
      " [0 0 0 ... 0 0 0]\n",
      " [0 0 0 ... 0 0 0]\n",
      " [0 0 0 ... 0 0 0]]\n"
     ]
    }
   ],
   "source": [
    "print(env_map)"
   ]
  },
  {
   "cell_type": "code",
   "execution_count": 16,
   "metadata": {},
   "outputs": [],
   "source": [
    "# Resize the environment map to 126x126\n",
    "env_map_resized = Image.fromarray(env_map).resize((126, 126), Image.NEAREST)\n",
    "env_map_resized_array = np.array(env_map_resized)"
   ]
  },
  {
   "cell_type": "code",
   "execution_count": 17,
   "metadata": {},
   "outputs": [],
   "source": [
    "# Save the environment map as an image for visualization (optional)\n",
    "env_map_resized_img = Image.fromarray((env_map_resized_array * 255).astype(np.uint8))\n",
    "env_map_resized_img.save('envMap_roboflow_boundingbox.png')"
   ]
  },
  {
   "cell_type": "code",
   "execution_count": 18,
   "metadata": {},
   "outputs": [
    {
     "name": "stdout",
     "output_type": "stream",
     "text": [
      "[[0 0 0 ... 0 0 0]\n",
      " [0 0 0 ... 0 0 0]\n",
      " [0 0 0 ... 0 0 0]\n",
      " ...\n",
      " [0 0 0 ... 0 0 0]\n",
      " [0 0 0 ... 0 0 0]\n",
      " [0 0 0 ... 0 0 0]]\n"
     ]
    }
   ],
   "source": [
    "# Output the environment map as a 128x128 matrix\n",
    "print(env_map_resized_array)"
   ]
  },
  {
   "cell_type": "code",
   "execution_count": 19,
   "metadata": {},
   "outputs": [],
   "source": [
    "# Step 4: Save/Visualize the Environment Map\n",
    "# Save as a numpy array\n",
    "np.save('envMap_roboflowBoundingbox.npy', env_map)"
   ]
  }
 ],
 "metadata": {
  "kernelspec": {
   "display_name": "Python 3",
   "language": "python",
   "name": "python3"
  },
  "language_info": {
   "codemirror_mode": {
    "name": "ipython",
    "version": 3
   },
   "file_extension": ".py",
   "mimetype": "text/x-python",
   "name": "python",
   "nbconvert_exporter": "python",
   "pygments_lexer": "ipython3",
   "version": "3.11.2"
  }
 },
 "nbformat": 4,
 "nbformat_minor": 2
}
